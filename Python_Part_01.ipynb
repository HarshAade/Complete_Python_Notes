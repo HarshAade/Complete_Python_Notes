{
  "nbformat": 4,
  "nbformat_minor": 0,
  "metadata": {
    "colab": {
      "provenance": [],
      "authorship_tag": "ABX9TyPv9AOZC58K49FEVOoZQ+rc",
      "include_colab_link": true
    },
    "kernelspec": {
      "name": "python3",
      "display_name": "Python 3"
    },
    "language_info": {
      "name": "python"
    }
  },
  "cells": [
    {
      "cell_type": "markdown",
      "metadata": {
        "id": "view-in-github",
        "colab_type": "text"
      },
      "source": [
        "<a href=\"https://colab.research.google.com/github/HarshAade/Python-Complete-By-Harsh-/blob/main/Python_Part_01.ipynb\" target=\"_parent\"><img src=\"https://colab.research.google.com/assets/colab-badge.svg\" alt=\"Open In Colab\"/></a>"
      ]
    },
    {
      "cell_type": "markdown",
      "source": [
        "*What is Python*\n",
        "\n",
        "\n",
        "    1} Python is high level language\n",
        "    2} Created By Guido Van Rossum\n",
        "    3} It was Released in 1991\n",
        "    4} It is Implemented in allomost every OSs office\n",
        "    \n",
        "  \n",
        "*Reasons for popularity*\n",
        "\n",
        "    1} Free to use and distribute\n",
        "    2} Software quality : Readable, reusable\n",
        "    3} Developer productivity: small code\n",
        "    4} Program Protability\n",
        "    5} Strong library support\n",
        "    6} Component integration"
      ],
      "metadata": {
        "id": "a9ARrOEDXZ4u"
      }
    },
    {
      "cell_type": "markdown",
      "source": [
        "*Sets python apart*\n",
        "\n",
        "    1} Powerful language features\n",
        "    2} Multiple Programming models\n",
        "    3} Lot of ready made programs\n",
        "    4} Ease to use\n",
        "    5} Multiple programming modes\n",
        "    6} Programs - Simpler and smaller\n"
      ],
      "metadata": {
        "id": "iRd1jRG9zR-U"
      }
    },
    {
      "cell_type": "markdown",
      "source": [
        "*Application of Python*\n",
        "\n",
        "    1} Building GUI Application\n",
        "    2} Internet Scripting\n",
        "    3} Component integration\n",
        "    4} Rapid Prototyping\n",
        "    5} Game Programming\n",
        "    6} Robotics Programming\n",
        "\n",
        "   \n",
        "    Google = In web search System\n",
        "    Youtube = Video sharing service\n",
        "    Bit-torrent = peer to peer file sharing system\n",
        "    Intel,HP,Seagate = Hardware testing\n",
        "    Pixar = Movie Animation\n",
        "    JP Morgan, UBS - Financial Market Forecasting\n",
        "    NASA, FermiLab - Scientific Programming"
      ],
      "metadata": {
        "id": "JictYqOaUPd9"
      }
    },
    {
      "cell_type": "markdown",
      "source": [
        "### ***Python Identifiers & Keywords***\n",
        "\n",
        "\n"
      ],
      "metadata": {
        "id": "-BTxO0tvOjle"
      }
    },
    {
      "cell_type": "code",
      "execution_count": null,
      "metadata": {
        "id": "0cHJGRbeXYii",
        "colab": {
          "base_uri": "https://localhost:8080/"
        },
        "outputId": "2cde05de-7146-4b91-924e-67ed121bafc6"
      },
      "outputs": [
        {
          "output_type": "stream",
          "name": "stdout",
          "text": [
            "Hey Harsh\n"
          ]
        }
      ],
      "source": [
        "print(\"Hey Harsh\")"
      ]
    },
    {
      "cell_type": "code",
      "source": [
        "a = 10\n",
        "b= 20\n",
        "c = a +b\n",
        "print(c)"
      ],
      "metadata": {
        "colab": {
          "base_uri": "https://localhost:8080/"
        },
        "id": "utMjVi_kRCoa",
        "outputId": "901ed202-943d-46cb-9454-f71457defbd0"
      },
      "execution_count": null,
      "outputs": [
        {
          "output_type": "stream",
          "name": "stdout",
          "text": [
            "30\n"
          ]
        }
      ]
    },
    {
      "cell_type": "markdown",
      "source": [
        "What is identifiers ?\n",
        "\n",
        "      Identifiers is ntg but the name given to our varabile , function , class , module or other objects\n",
        "\n",
        "      Rules for creating identifiers are they must starts with alphabet or underscore rest are letters , _ , and digits its a case-sensitive\n",
        "\n",
        "      Python Has 33\n",
        "      by the given command we can generate all keywords\n",
        "\n",
        "         import keyword\n",
        "         print(keyword.kwlist)\n",
        "\n"
      ],
      "metadata": {
        "id": "zF7BFVias3uE"
      }
    },
    {
      "cell_type": "code",
      "source": [
        "# Importing all the keywords\n",
        "import keyword\n",
        "print(keyword.kwlist)"
      ],
      "metadata": {
        "colab": {
          "base_uri": "https://localhost:8080/"
        },
        "id": "9bgexVMDykXs",
        "outputId": "698232b6-d7f2-41c2-ab0c-922be172f9cd"
      },
      "execution_count": null,
      "outputs": [
        {
          "output_type": "stream",
          "name": "stdout",
          "text": [
            "['False', 'None', 'True', 'and', 'as', 'assert', 'async', 'await', 'break', 'class', 'continue', 'def', 'del', 'elif', 'else', 'except', 'finally', 'for', 'from', 'global', 'if', 'import', 'in', 'is', 'lambda', 'nonlocal', 'not', 'or', 'pass', 'raise', 'return', 'try', 'while', 'with', 'yield']\n"
          ]
        }
      ]
    },
    {
      "cell_type": "markdown",
      "source": [
        "*Python data types come in three forms*\n",
        "\n",
        "       1} Basic types:\n",
        "       It includes int, float, complex, bool, string and bytes. These types are associated with atomic entities in our program.\n",
        "\n",
        "       2} Container types:\n",
        "       This type includes list, tuple, dictionary and set. They are used to store different kinds of data in a single variable.\n",
        "       \n",
        "       3} User-defined type:\n",
        "       This type can be created using ‘classes’.    "
      ],
      "metadata": {
        "id": "kZnsZ2lBzlmh"
      }
    },
    {
      "cell_type": "markdown",
      "source": [
        "# *Basic type in detial*"
      ],
      "metadata": {
        "id": "sRn_lYzaJEup"
      }
    },
    {
      "cell_type": "markdown",
      "source": [
        "*Interger Type*\n",
        "   \n",
        "\n",
        "    1} Can be expressed in :\n",
        "       Binary , Decimal , Octal , Hexadecimal\n",
        "    \n",
        "    2} Syntax\n",
        "       binary starts with 0b/0B\n",
        "       octal starts with 0o/0O\n",
        "       Hexadecimal starts with 0x/0X\n",
        "      \n",
        "    3} Example\n",
        "       0b10111 = it is binary number\n",
        "       156 = it is decimal number\n",
        "       0c432 = it is octal number\n",
        "       0x4A3 = it is hexadecmial number\n",
        "\n"
      ],
      "metadata": {
        "id": "jhb9t2vWEjDx"
      }
    },
    {
      "cell_type": "markdown",
      "source": [
        "*float type*\n",
        "\n",
        "    1} Can be expressed in\n",
        "       Fractional form or exponential form\n",
        "\n",
        "    2} Example - fractional form\n",
        "       -314.1528 , 7.876556\n",
        "     \n",
        "    As the number is too big so we can expressed in exponential form\n",
        "\n",
        "    3} Example - exponential form\n",
        "       3.141538e2 , 3.141538E2\n",
        "      { e2 = means mutiple by 10 to the power 2 it can either be in lower case or upper case it depends on us }\n"
      ],
      "metadata": {
        "id": "VcGyYNsZHFRX"
      }
    },
    {
      "cell_type": "markdown",
      "source": [
        "*Complex AND bool Type*\n",
        "\n",
        "    1} Complex type  \n",
        "       contain real and imaginary part\n",
        "    \n",
        "    2} Example\n",
        "       3 + 2j , 1 + 4j\n",
        "      \n",
        "    3} bool can take True , False\n",
        "       First letter in caps\n"
      ],
      "metadata": {
        "id": "sbr_atC7JNCx"
      }
    },
    {
      "cell_type": "markdown",
      "source": [
        "*string AND bytes types*\n",
        "\n",
        "    1} String\n",
        "      Immutable collection of unicode chars enclosed within '', \"\" or \"\" \"\"\n",
        "\n",
        "    2} byte represnt binary data\n",
        "       Exampple b'\\xa1\\xe4\\x56'\n",
        "       represents 3 bytes with hex values"
      ],
      "metadata": {
        "id": "AHc2LRmlJyRx"
      }
    },
    {
      "cell_type": "markdown",
      "source": [
        "*Int & Float Ranges*\n",
        "\n",
        "    1} Arbitrary precision ints\n",
        "       int dones't have any range so there is no quesetion of overflow and underflow\n",
        "\n",
        "    2} floats stored as 64-bit values\n",
        "       Uses IEEE754 standard\n",
        "       max value is 10 to the power 308"
      ],
      "metadata": {
        "id": "xOCyYJdKOSTC"
      }
    },
    {
      "cell_type": "markdown",
      "source": [
        "*Variable types and assignement*\n",
        "\n",
        "\n",
        "    1} Variable type  \n",
        "       A} No need to define the type of a var\n",
        "       B} type is inferred from the context\n",
        "       C} Python is a dynamically - typed lang  \n",
        "\n",
        "    Example\n",
        "    a = 25  # type of a is inferrd as int\n",
        "    a = 3.4 # type of a is inferrd as float\n",
        "    a = 'Hi' # type of a is inferrd as str"
      ],
      "metadata": {
        "id": "AB3yCKdFPcHY"
      }
    },
    {
      "cell_type": "code",
      "source": [
        "# By using such command we can check type\n",
        "print(type(3.4))\n",
        "print(type(3))\n",
        "print(type('Hi'))"
      ],
      "metadata": {
        "id": "CmAmPzqFxCyF",
        "colab": {
          "base_uri": "https://localhost:8080/"
        },
        "outputId": "f8e0182c-5db9-4edb-b6e6-1cd88cc8c057"
      },
      "execution_count": null,
      "outputs": [
        {
          "output_type": "stream",
          "name": "stdout",
          "text": [
            "<class 'float'>\n",
            "<class 'int'>\n",
            "<class 'str'>\n"
          ]
        }
      ]
    },
    {
      "cell_type": "code",
      "source": [
        "# Simple variable Assigment\n",
        "a = 10\n",
        "ab = 3.14\n",
        "name = 'Harsh'\n",
        "print(a)\n",
        "print(ab)\n",
        "print(name)"
      ],
      "metadata": {
        "colab": {
          "base_uri": "https://localhost:8080/"
        },
        "id": "5ynAOZqIRXre",
        "outputId": "5c6c2ffc-9b3d-4b93-e20d-78bc52e68a31"
      },
      "execution_count": null,
      "outputs": [
        {
          "output_type": "stream",
          "name": "stdout",
          "text": [
            "10\n",
            "3.14\n",
            "Harsh\n"
          ]
        }
      ]
    },
    {
      "cell_type": "code",
      "source": [
        "# Multiple Varaible Assigment\n",
        "a = 10 ; ab = 3.14 ; name = 'Harsh'\n",
        "print(a)\n",
        "print(ab)\n",
        "print(name)"
      ],
      "metadata": {
        "colab": {
          "base_uri": "https://localhost:8080/"
        },
        "id": "xfv8lF_KQumt",
        "outputId": "82b759b8-eaeb-4959-c917-d04b4b7a53c9"
      },
      "execution_count": null,
      "outputs": [
        {
          "output_type": "stream",
          "name": "stdout",
          "text": [
            "10\n",
            "3.14\n",
            "Harsh\n"
          ]
        }
      ]
    },
    {
      "cell_type": "code",
      "source": [
        "# Multiple Varaible Assigment\n",
        "a , ab, name = 10 ,3.14 , 'Harsh'\n",
        "print(a)\n",
        "print(ab)\n",
        "print(name)"
      ],
      "metadata": {
        "colab": {
          "base_uri": "https://localhost:8080/"
        },
        "id": "5Q5C7ErbRsNa",
        "outputId": "4278e3a0-e7e7-42b2-d377-0211a62d22a9"
      },
      "execution_count": null,
      "outputs": [
        {
          "output_type": "stream",
          "name": "stdout",
          "text": [
            "10\n",
            "3.14\n",
            "Harsh\n"
          ]
        }
      ]
    },
    {
      "cell_type": "markdown",
      "source": [
        "*Arithmetic opertion*"
      ],
      "metadata": {
        "id": "WtDtzQERoReO"
      }
    },
    {
      "cell_type": "markdown",
      "source": [
        "    All arithmetic operators and there Shortcuts with example\n",
        "    \n",
        "       Full             Shortcuts\n",
        "\n",
        "    1} Addition             \n",
        "       a = 10           a += 10\n",
        "       b = 20           print(a)\n",
        "       c = a + b\n",
        "       print(c)\n",
        "\n",
        "    2} Subtraction\n",
        "       a = 10           a -= 10\n",
        "       b = 20           print(a)\n",
        "       c = a - b\n",
        "       print(c)\n",
        "\n",
        "    3} Multiplication\n",
        "       a = 10          a *= 10\n",
        "       b = 20          print(a)\n",
        "       c = a * b\n",
        "       print(c)\n",
        "\n",
        "    4} Division\n",
        "       a = 10         a /= 10\n",
        "       b = 20         print(a)\n",
        "       b = 20         \n",
        "       c = a / b\n",
        "       print(c)\n",
        "\n",
        "    5} Modulus\n",
        "      a = 10          a %= 10\n",
        "      b = 20          print(a)\n",
        "      c = a % b\n",
        "      print(c)\n",
        "\n",
        "    6} Exponentiation\n",
        "      a = 10          a **= 10\n",
        "      b = 20          print(a)\n",
        "      c = a ** b\n",
        "      print(c)\n",
        "\n",
        "    7} Floor Division\n",
        "      a = 10         a //= 10\n",
        "      b = 20         print(a)\n",
        "      c = a // b\n",
        "      print(c)\n",
        "\n",
        "\n",
        "\n",
        "\n"
      ],
      "metadata": {
        "id": "T-w8iBMWqP5G"
      }
    },
    {
      "cell_type": "markdown",
      "source": [
        "*All arithmetic operators and there Shortcuts with example*"
      ],
      "metadata": {
        "id": "3QTUJWl4yaRc"
      }
    },
    {
      "cell_type": "code",
      "source": [
        "# Addition\n",
        "a = 10\n",
        "b = 20\n",
        "c = a + b\n",
        "print(c)\n",
        "\n",
        "# Subtraction\n",
        "a = 10\n",
        "b = 20\n",
        "c = a - b\n",
        "print(c)\n",
        "\n",
        "# Multiplication\n",
        "a = 10\n",
        "b = 20\n",
        "c = a * b\n",
        "print(c)\n",
        "\n",
        "# Division\n",
        "a = 10\n",
        "b = 20\n",
        "c = a / b\n",
        "print(c)\n",
        "\n",
        "# Modulus\n",
        "a = 10\n",
        "b = 20\n",
        "c = a % b\n",
        "print(c)\n",
        "\n",
        "# Exponentiation\n",
        "a = 10\n",
        "b = 20\n",
        "c = a ** b\n",
        "print(c)\n",
        "\n",
        "# Floor Division\n",
        "a = 10\n",
        "b = 20\n",
        "c = a // b\n",
        "print(c)"
      ],
      "metadata": {
        "colab": {
          "base_uri": "https://localhost:8080/"
        },
        "id": "uxfbAtaCqIAg",
        "outputId": "ba5f0216-6596-4efb-c898-378900cec508"
      },
      "execution_count": null,
      "outputs": [
        {
          "output_type": "stream",
          "name": "stdout",
          "text": [
            "30\n",
            "-10\n",
            "200\n",
            "0.5\n",
            "10\n",
            "100000000000000000000\n",
            "0\n"
          ]
        }
      ]
    },
    {
      "cell_type": "code",
      "source": [
        "# Shortcuts\n",
        "\n",
        "# Addition\n",
        "a += 10\n",
        "print(a)\n",
        "\n",
        "# Subtraction\n",
        "a -= 10\n",
        "print(a)\n",
        "\n",
        "# Multiplication\n",
        "a *= 10\n",
        "print(a)\n",
        "\n",
        "# Division\n",
        "a /= 10\n",
        "print(a)\n",
        "\n",
        "# Modulus\n",
        "a %= 10\n",
        "print(a)\n",
        "\n",
        "# Exponentiation\n",
        "a **= 10\n",
        "print(a)\n",
        "\n",
        "# Floor Division\n",
        "a //= 10\n",
        "print(a)"
      ],
      "metadata": {
        "colab": {
          "base_uri": "https://localhost:8080/"
        },
        "id": "oNvrriaosCHy",
        "outputId": "b5f61562-b2f1-422c-a769-24fd0e9eece6"
      },
      "execution_count": null,
      "outputs": [
        {
          "output_type": "stream",
          "name": "stdout",
          "text": [
            "20\n",
            "10\n",
            "100\n",
            "10.0\n",
            "0.0\n",
            "0.0\n",
            "0.0\n"
          ]
        }
      ]
    },
    {
      "cell_type": "markdown",
      "source": [
        "### *Floor Divison*\n",
        "\n",
        "\n",
        "*Operation nuances refer to the subtle details of how functions and operations work behind the scenes in Python*.\n"
      ],
      "metadata": {
        "id": "HqyJhYHwkMfy"
      }
    },
    {
      "cell_type": "markdown",
      "source": [
        "*Operation Nuances*      \n",
        "\n",
        "    a//b performs floor divison result is largest integer <= quotient\n",
        "\n",
        "    1} print(10//3)\n",
        "       Yields 3\n",
        "      \n",
        "    2} print(-10//3)\n",
        "       Multiple of 3 that yeilds -10 is -3.333, whose floor value is -4\n",
        "\n",
        "    3} print(10//-3)\n",
        "        Multiple of -3 that yeilds 10 is -3.333, whose floor value is -4\n",
        "    \n",
        "    4} print(-10//-3)\n",
        "        Multiple of -3 that yeilds -10 is 3.333, whose floor value is 3\n",
        "    "
      ],
      "metadata": {
        "id": "0I6NeUH9gO_U"
      }
    },
    {
      "cell_type": "code",
      "source": [
        "a = 10\n",
        "b = 3\n",
        "\n",
        "print(a//b)\n",
        "print(-10//3)\n",
        "print(10//-3)\n",
        "print(-10//-3)"
      ],
      "metadata": {
        "id": "I-vR8rQCsDTm",
        "colab": {
          "base_uri": "https://localhost:8080/"
        },
        "outputId": "72b26249-cf62-48c4-d4fa-664035986c17"
      },
      "execution_count": null,
      "outputs": [
        {
          "output_type": "stream",
          "name": "stdout",
          "text": [
            "3\n",
            "-4\n",
            "-4\n",
            "3\n"
          ]
        }
      ]
    },
    {
      "cell_type": "markdown",
      "source": [
        "*% Operation Nuances*\n",
        "  \n",
        "    a%b is evaluated as a -(b*(a//b))\n",
        "\n",
        "    1} print(10%3)\n",
        "       Yields 1\n",
        "\n",
        "    2} print(-10%3)\n",
        "       -10-(3*(-10//3)) , which yields 2\n",
        "      \n",
        "    3} print(10%-3)\n",
        "       10-(-3*(10//-3)) , which is yields -2\n",
        "      \n",
        "    4} print(-10%-3)\n",
        "       -10-(-3*(-10//-3)) , which is yiedls -1"
      ],
      "metadata": {
        "id": "Y-Bx-wHTiX7O"
      }
    },
    {
      "cell_type": "code",
      "source": [
        "a = 10\n",
        "b = 3\n",
        "\n",
        "print(10%3)\n",
        "print(-10%3)\n",
        "print(10%-3)\n",
        "print(-10%-3)"
      ],
      "metadata": {
        "colab": {
          "base_uri": "https://localhost:8080/"
        },
        "id": "j6_12tm2iFt8",
        "outputId": "d3010bae-ab1a-4665-aa5f-815ac357cb06"
      },
      "execution_count": null,
      "outputs": [
        {
          "output_type": "stream",
          "name": "stdout",
          "text": [
            "1\n",
            "2\n",
            "-2\n",
            "-1\n"
          ]
        }
      ]
    },
    {
      "cell_type": "markdown",
      "source": [
        "*Boolean operation Nuances*\n",
        "    \n",
        "    True is 1 & False is 0\n",
        "\n",
        "    1} a = True + True ----- Stores 2\n",
        "\n",
        "    2} b = True + False ----- Stores 1"
      ],
      "metadata": {
        "id": "mDm1cFBaoNyH"
      }
    },
    {
      "cell_type": "markdown",
      "source": [
        "*Precedence { same meaning hierarchy priority }  and associativity*\n",
        "\n",
        "    In Python the Priority is based rule is know as \" PEMDAS \"\n",
        "\n",
        "    ()          # Paraentheses\n",
        "    **          # Exponentiation\n",
        "    *,/,//,%    # Multiplication , Divison\n",
        "    +,-         # Addition,Subtraction"
      ],
      "metadata": {
        "id": "GHjPBY8zxu3b"
      }
    },
    {
      "cell_type": "markdown",
      "source": [
        "*Conversion Function*\n",
        "\n",
        "\n",
        "    1} Mixed-mode operation\n",
        "       a} Example: Operation int & float yields float\n",
        "\n",
        "       b} Example: Operation int and complex yields complex\n",
        "\n",
        "       c} Example: Operation flaot and complex yields complex\n",
        "\n",
        "    2} Conversion Function\n",
        "       1}int(float/numeric string)\n",
        "         # from float/numeric string to int\n",
        "\n",
        "       2}int(numeric string, base)\n",
        "         # from numeric string to int in base\n",
        "        \n",
        "       3}int() always rounds towards zero\n",
        "           Example:\n",
        "            int(3.33)   # yields 3\n",
        "            int(-3.33)  # yields -3\n",
        "\n",
        "       4}float(int/numeric string)\n",
        "         # from int/numeric string to float\n",
        "         \n",
        "       5}float(int)     # from int to float\n",
        "\n",
        "       6}complex(int/float)  \n",
        "         # convert to complex, image = 0\n",
        "\n",
        "       7}complex(int/float, int/float)\n",
        "         # convert to complex\n",
        "\n",
        "       8}bool(int/float)\n",
        "         # from int/float to True/False (1/0)\n",
        "        \n",
        "       9}str(int/float/bool)\n",
        "         # convert to string\n",
        "\n",
        "      10} chr(int)\n",
        "         # yeilds char corresponding to int\n",
        "         "
      ],
      "metadata": {
        "id": "yyCUcGTe6oOU"
      }
    },
    {
      "cell_type": "markdown",
      "source": [
        "*Built In Function*\n",
        "\n",
        "    Its Available in any art of the program  \n",
        "\n",
        "    print , int , float , bool , complax , str , chr\n",
        "   \n",
        "    Apart from this 7 built funtion we also have mention below built-in-function\n",
        "    \n",
        "\n"
      ],
      "metadata": {
        "id": "o45S5971VK2b"
      }
    },
    {
      "cell_type": "code",
      "source": [
        "# abs()\n",
        "# returns absolute value of x\n",
        "print(abs(-10))  # Output: 10\n",
        "\n",
        "# pow()\n",
        "# returns x to the power of y\n",
        "print(pow(2, 3))  # Output: 8\n",
        "\n",
        "# min()\n",
        "# retunrs smallest argument\n",
        "print(min(10, 20, 30))  # Output: 10\n",
        "\n",
        "# max()\n",
        "# returns largest argument\n",
        "print(max(10, 20, 30))  # Output: 30\n",
        "\n",
        "# divmod()\n",
        "# returns quotient and remainder\n",
        "print(divmod(10, 3))  # Output: (3, 1)\n",
        "\n",
        "# round()\n",
        "# returns rounded value to n digits\n",
        "print(round(3.14159, 2))  # Output: 3.14\n",
        "\n",
        "# bin()\n",
        "# returns binary representation of x\n",
        "print(bin(10))  # Output: '0b1010'\n",
        "\n",
        "# oct()\n",
        "# returns octal representation of x\n",
        "print(oct(10))  # Output: '0o12'\n",
        "\n",
        "# hex()\n",
        "# returns hexadecimal representation of x\n",
        "print(hex(10))  # Output: '0xa'"
      ],
      "metadata": {
        "colab": {
          "base_uri": "https://localhost:8080/"
        },
        "id": "SAGuzhvUWAeR",
        "outputId": "78552879-b612-4962-a76e-277da91934d1"
      },
      "execution_count": null,
      "outputs": [
        {
          "output_type": "stream",
          "name": "stdout",
          "text": [
            "10\n",
            "8\n",
            "10\n",
            "30\n",
            "(3, 1)\n",
            "3.14\n",
            "0b1010\n",
            "0o12\n",
            "0xa\n"
          ]
        }
      ]
    },
    {
      "cell_type": "markdown",
      "source": [
        "*Built-In Modules*\n",
        "\n",
        "    1} Math = For useful maths operation\n",
        "    2} cmath = For complex number operation\n",
        "    3} random = For random number generation\n",
        "    4} decimal = For precise arithmetic operation\n",
        "\n",
        "    Each module contains many function\n",
        "    "
      ],
      "metadata": {
        "id": "zWSI5aPcgAFf"
      }
    },
    {
      "cell_type": "markdown",
      "source": [
        "*math module*\n",
        "\n",
        "    1} pi, e          # values of constants pi & e\n",
        "    2} sprt(x)        # square root of x\n",
        "    3} factorial(x)   # factorial of x\n",
        "    4} fabs(x)        # absolute value of float x\n",
        "    5} log(x)         # natural log of x(log to the base e)\n",
        "    6} log10(x)       # base-10 logarithm of x\n",
        "    7} exp(x)         # e raised to x\n",
        "    8} trunc(x)       # truncate to integer\n",
        "    9} ceil(x)        # smallest integer >= x\n",
        "    10} floor(x)      # largest integer <= x\n",
        "    11} modf(x)       # fractional and integer parts of x\n",
        "\n",
        "    a} round() can round to specfic number of decimal places\n",
        "    b} trunc(),ceil & floor always round to 0 decimal places\n",
        "\n",
        "*math Trigono Function*\n",
        "\n",
        "    1} degrees(x)       # radians to degrees\n",
        "    2} radians(x)       # degrees to radians\n",
        "    3} sin(x)           # sine to radians\n",
        "    4} cos(x)           # cosine to x radinas\n",
        "    5} tan(x)           # tan to x radians\n",
        "    6} sinh(x)          # hyperbolic sine of x\n",
        "    7} cosh(x)          # hyperbolic cosine of x\n",
        "    8} tanh(x)          # hyperbolic tan of x\n",
        "    9} acos(x)          # cos inverse of x, in radians\n",
        "    10} asin(x)         # sine inverse of x in radians\n",
        "    11} atan(x)         # tan inverse of x in radians\n",
        "    12} hypot(x,y)      # sprt(x*x+y*y)"
      ],
      "metadata": {
        "id": "YXKOYkzlg2nw"
      }
    },
    {
      "cell_type": "markdown",
      "source": [
        "*random module*\n",
        "\n",
        "    1} random()             # random number between 0 and 1\n",
        "    2} randint(start,stop)  # random number in the range\n",
        "    3} seed()               # sets current time as seed\n",
        "    4} seed(x)              # sets x as seed\n",
        "  \n",
        "*What if we forget*\n",
        "\n",
        "    import math\n",
        "    print(dir(math))\n",
        "    print(dir(__builtins__))   # dunderscores"
      ],
      "metadata": {
        "id": "tYpsHoTHkyoa"
      }
    },
    {
      "cell_type": "code",
      "source": [
        "import math\n",
        "print(dir(math))\n",
        "print(dir(__builtins__))   # dunderscores"
      ],
      "metadata": {
        "colab": {
          "base_uri": "https://localhost:8080/"
        },
        "id": "Is9N5ZKgik1p",
        "outputId": "692c4551-c75f-407b-e41d-762287ab2458"
      },
      "execution_count": null,
      "outputs": [
        {
          "output_type": "stream",
          "name": "stdout",
          "text": [
            "['__doc__', '__loader__', '__name__', '__package__', '__spec__', 'acos', 'acosh', 'asin', 'asinh', 'atan', 'atan2', 'atanh', 'ceil', 'comb', 'copysign', 'cos', 'cosh', 'degrees', 'dist', 'e', 'erf', 'erfc', 'exp', 'expm1', 'fabs', 'factorial', 'floor', 'fmod', 'frexp', 'fsum', 'gamma', 'gcd', 'hypot', 'inf', 'isclose', 'isfinite', 'isinf', 'isnan', 'isqrt', 'lcm', 'ldexp', 'lgamma', 'log', 'log10', 'log1p', 'log2', 'modf', 'nan', 'nextafter', 'perm', 'pi', 'pow', 'prod', 'radians', 'remainder', 'sin', 'sinh', 'sqrt', 'tan', 'tanh', 'tau', 'trunc', 'ulp']\n",
            "['ArithmeticError', 'AssertionError', 'AttributeError', 'BaseException', 'BlockingIOError', 'BrokenPipeError', 'BufferError', 'BytesWarning', 'ChildProcessError', 'ConnectionAbortedError', 'ConnectionError', 'ConnectionRefusedError', 'ConnectionResetError', 'DeprecationWarning', 'EOFError', 'Ellipsis', 'EncodingWarning', 'EnvironmentError', 'Exception', 'False', 'FileExistsError', 'FileNotFoundError', 'FloatingPointError', 'FutureWarning', 'GeneratorExit', 'IOError', 'ImportError', 'ImportWarning', 'IndentationError', 'IndexError', 'InterruptedError', 'IsADirectoryError', 'KeyError', 'KeyboardInterrupt', 'LookupError', 'MemoryError', 'ModuleNotFoundError', 'NameError', 'None', 'NotADirectoryError', 'NotImplemented', 'NotImplementedError', 'OSError', 'OverflowError', 'PendingDeprecationWarning', 'PermissionError', 'ProcessLookupError', 'RecursionError', 'ReferenceError', 'ResourceWarning', 'RuntimeError', 'RuntimeWarning', 'StopAsyncIteration', 'StopIteration', 'SyntaxError', 'SyntaxWarning', 'SystemError', 'SystemExit', 'TabError', 'TimeoutError', 'True', 'TypeError', 'UnboundLocalError', 'UnicodeDecodeError', 'UnicodeEncodeError', 'UnicodeError', 'UnicodeTranslateError', 'UnicodeWarning', 'UserWarning', 'ValueError', 'Warning', 'ZeroDivisionError', '__IPYTHON__', '__build_class__', '__debug__', '__doc__', '__import__', '__loader__', '__name__', '__package__', '__spec__', 'abs', 'aiter', 'all', 'anext', 'any', 'ascii', 'bin', 'bool', 'breakpoint', 'bytearray', 'bytes', 'callable', 'chr', 'classmethod', 'compile', 'complex', 'copyright', 'credits', 'delattr', 'dict', 'dir', 'display', 'divmod', 'enumerate', 'eval', 'exec', 'execfile', 'filter', 'float', 'format', 'frozenset', 'get_ipython', 'getattr', 'globals', 'hasattr', 'hash', 'help', 'hex', 'id', 'input', 'int', 'isinstance', 'issubclass', 'iter', 'len', 'license', 'list', 'locals', 'map', 'max', 'memoryview', 'min', 'next', 'object', 'oct', 'open', 'ord', 'pow', 'print', 'property', 'range', 'repr', 'reversed', 'round', 'runfile', 'set', 'setattr', 'slice', 'sorted', 'staticmethod', 'str', 'sum', 'super', 'tuple', 'type', 'vars', 'zip']\n"
          ]
        }
      ]
    },
    {
      "cell_type": "markdown",
      "source": [
        "*Containers in Python*\n",
        "    \n",
        "     Basic types we have already coverd till now so now lets have hand on containers types\n",
        "      \n",
        "     Container types\n",
        "         Container store multiple values at a time\n",
        "     \n",
        "     1. List: A mutable collection of values, accessible by index, capable of holding duplicates. Declared with square brackets `[]`.\n",
        "        Example: lst = [10, 20, 20, 30, 10, 'ten']\n",
        "\n",
        "     2. Tuple: An immutable collection of values, accessible by index, capable of holding duplicates. Declared with parentheses `()`.  \n",
        "        Example: `tup = (10, 20, 20, 30, 10, 'ten')`\n",
        "\n",
        "     3. Set: An immutable collection of unique values, cannot hold duplicates. Declared with curly brackets `{}`.  \n",
        "        Example: `sts = {10, 20, 30, 'ten'}\n",
        "\n",
        "     4. Dictionary: A collection of unique key-value pairs, declared with curly brackets `{}`. Keys are mapped to values using `:`.  \n",
        "        Example: `dict = {'Batman': 'Gotham', 'Superman': 'Metropolis', 'Spiderman': 'Queens'}`\n",
        "      "
      ],
      "metadata": {
        "id": "5m68ZZjopxaD"
      }
    },
    {
      "cell_type": "markdown",
      "source": [
        "*How to access value them*\n",
        "\n",
        "     list , tuple = using position\n",
        "     set = using a 'for' loop\n",
        "     dictionary = using a key\n",
        "\n",
        "*Python type jargon*\n",
        "\n",
        "    1} Collection : A Generic term for container types\n",
        "    2} Iterable : A collection that can be iterated over using a loop\n",
        "    3} Ordered Collection : Elements can be accessed using an index\n",
        "    4} Unordered collection : Elements cannot be accessed using index\n",
        "    5} Sequence : Generic term for an ordered collection\n",
        "    6} Immutable : Means unchangeable collection\n",
        "    7} Mutable : Means Changeable\n",
        "\n",
        "\n",
        "    A} String & tuple : order collection , immutable , iterable\n",
        "    B} List :  order collection , mutable , iterable\n",
        "    C } Set : unordered collection , mutable , iterable\n",
        "    D } Dictionary : Unordered collection , mutable , iterable\n",
        "\n"
      ],
      "metadata": {
        "id": "meo7QiOxzfzi"
      }
    },
    {
      "cell_type": "markdown",
      "source": [
        "*3 Small Issues Related to python Programming*  \n",
        "\n",
        "    1} How we gave Comments\n",
        "    2} When we give indentation when we not\n",
        "    3} how does python programming execd in single line\n",
        "\n",
        "    Comments\n",
        "       Single-line Comments start with #\n",
        "       Multi-line Comments start with 3 single inverted common at starting as well as in end\n",
        "    "
      ],
      "metadata": {
        "id": "_c8blFE27-gi"
      }
    },
    {
      "cell_type": "markdown",
      "source": [
        "*Indentation*\n",
        "\n",
        "    Rule no 01\n",
        "        Indentation Metters!\n",
        "        Do not use it casually\n",
        "        "
      ],
      "metadata": {
        "id": "HU4v-dVbCPRh"
      }
    },
    {
      "cell_type": "markdown",
      "source": [
        "*Multi-Lining*\n",
        "   \n",
        "     Used for long statements\n",
        "     Each line except the last ending with a \\ { If the code is big and it doesn't come in one line then we can use '\\' to continue in next line}\n",
        "\n",
        "     For Example\n",
        "       total = physics + chemistry + math+\\\n",
        "       english + marathi+\\\n",
        "       geography = civics\n",
        "\n",
        "    Multi-line statements within [],{} or () don't need a /\n",
        "\n",
        "    For Example\n",
        "       days = ['Monday','Tuesday',\n",
        "               'Wednesday','Thursday',\n",
        "               'Friday','Saturday','Sunday']"
      ],
      "metadata": {
        "id": "D6yviRF4Qi4S"
      }
    },
    {
      "cell_type": "markdown",
      "source": [
        "\n",
        "\n",
        "---\n",
        "\n",
        "\n",
        "#*Classes & Objects*\n",
        "\n",
        "\n",
        "\n",
        "---"
      ],
      "metadata": {
        "id": "m4QcCw7NT8PS"
      }
    },
    {
      "cell_type": "markdown",
      "source": [
        "  \n",
        "    What is Class in Python\n",
        "    Ans : 1} Every type is class\n",
        "          2} Ready-made classes:\n",
        "               Basic Type = int,float,complex,bool,str\n",
        "               Container Type = list,tuple,set,dict\n",
        "          3} We can define Classes"
      ],
      "metadata": {
        "id": "olNUjq6iUQoA"
      }
    },
    {
      "cell_type": "markdown",
      "source": [
        "      \n",
        "    What is Object in Python\n",
        "    Ans : 1} Created from Classes\n",
        "          2} Class describes 2 things\n",
        "             a} What will an object contain\n",
        "             b} how to access/manipulate contents\n",
        "          3} One class can create mutiple objets where each object in an instance of a class\n",
        "          4} How to refer\n",
        "             Class-name , objects-nameless referred using addressess\n"
      ],
      "metadata": {
        "id": "uthSt7CtVPz-"
      }
    },
    {
      "cell_type": "code",
      "source": [
        "a = 30                       #an object of class ‘int’ is created\n",
        "b = \"Harsh\"                  #an object of class ‘str’ is created\n",
        "print(a,b)\n",
        "print(type(a),type(b))\n",
        "print(id(a),id(b))\n",
        "print(isinstance(a,int),isinstance(b,str))"
      ],
      "metadata": {
        "id": "h30idnzY6xVs",
        "colab": {
          "base_uri": "https://localhost:8080/"
        },
        "outputId": "5ecfea10-6224-40e5-a37f-922b9e9e10e2"
      },
      "execution_count": null,
      "outputs": [
        {
          "output_type": "stream",
          "name": "stdout",
          "text": [
            "30 Harsh\n",
            "<class 'int'> <class 'str'>\n",
            "133074438734992 133074009690160\n",
            "True True\n"
          ]
        }
      ]
    },
    {
      "cell_type": "markdown",
      "source": [
        "*String*\n",
        "\n",
        "    Python String\n",
        "      Collection of unicode charscters enclosed in '',\"\",'\" \"' or\"\" \"\"\n",
        "\n",
        "      Example:\n",
        "        'Harsh',\"Harsh\",'\"Harsh\"',\"\"Harsh\"\""
      ],
      "metadata": {
        "id": "cC7LFhuX57e5"
      }
    },
    {
      "cell_type": "markdown",
      "source": [
        "\n",
        "\n",
        "    Accessing String elements by using index number\n",
        "\n",
        "     0   1   2   3   4     Left to Right\n",
        "     H   a   r   s   h\n",
        "    -5  -4  -3  -2  -1     Right to Left\n",
        "\n",
        "    Accessing Substring\n",
        "      1} s[start:end]\n",
        "               extract from start to end -1\n",
        "      2} s[start:]\n",
        "               extract from start to end\n",
        "      3} s[:end]\n",
        "               extract from start to end -1\n",
        "      4} s[-start:]\n",
        "               extract from -start (included) to end\n",
        "      5} s[:end]\n",
        "               extract from beginning to -end -1"
      ],
      "metadata": {
        "id": "UsWcyIXL6-H8"
      }
    },
    {
      "cell_type": "code",
      "source": [
        "msg =\"Harsh\"\n",
        "print(msg[0])\n",
        "print(msg[4])\n",
        "print(msg[-0])\n",
        "print(msg[-1])"
      ],
      "metadata": {
        "colab": {
          "base_uri": "https://localhost:8080/"
        },
        "id": "K-WYKMgeS3kN",
        "outputId": "3982f873-203f-4ec1-daa1-5b308e411b16"
      },
      "execution_count": null,
      "outputs": [
        {
          "output_type": "stream",
          "name": "stdout",
          "text": [
            "H\n",
            "h\n",
            "H\n",
            "h\n"
          ]
        }
      ]
    },
    {
      "cell_type": "code",
      "source": [
        "print(msg[-5:])\n",
        "print(msg[0:4])\n",
        "print(msg[:4])\n",
        "print(msg[-5:])\n",
        "print(msg[:4])"
      ],
      "metadata": {
        "colab": {
          "base_uri": "https://localhost:8080/"
        },
        "id": "DOpyOeR5Tnsk",
        "outputId": "1580328c-b227-4a32-acf7-29b423491961"
      },
      "execution_count": null,
      "outputs": [
        {
          "output_type": "stream",
          "name": "stdout",
          "text": [
            "Harsh\n",
            "Hars\n",
            "Hars\n",
            "Harsh\n",
            "Hars\n"
          ]
        }
      ]
    },
    {
      "cell_type": "code",
      "source": [
        "print(msg[1:4:2])\n",
        "print(msg[::2])\n",
        "print(msg[::-1])\n"
      ],
      "metadata": {
        "colab": {
          "base_uri": "https://localhost:8080/"
        },
        "id": "85WwrplbTuQ_",
        "outputId": "2b7f5a3a-f18d-4e26-98fe-72c0df5a1e1b"
      },
      "execution_count": null,
      "outputs": [
        {
          "output_type": "stream",
          "name": "stdout",
          "text": [
            "as\n",
            "Hrh\n",
            "hsraH\n"
          ]
        }
      ]
    },
    {
      "cell_type": "markdown",
      "source": [
        "*String Properties*\n",
        "    \n",
        "    1} Strings are immutable\n",
        "        s = Hello\n",
        "        s[0] = 'M'     # Rejected\n",
        "        s = 'bye'      # S can change\n",
        "      \n",
        "    2} Strings can be concateneated\n",
        "       msg3 = msg1 + msg2\n",
        "\n",
        "    3} Replication During Printing\n",
        "       print(\"-\" * 50)    # print 50 Dashes\n",
        "\n",
        "    4} Is a string a substring ? that can be found out by:\n",
        "       print('e' in 'Hello')    # True\n",
        "       print('j' in 'Hello')    # False\n"
      ],
      "metadata": {
        "id": "scKkN2dhZUrI"
      }
    },
    {
      "cell_type": "markdown",
      "source": [
        "*Built-In Function in string*\n",
        "\n",
        "    Msg = 'Surrel\"\n",
        "      1} print(len(msg))          # prints 7 - length of string\n",
        "      2} print(min(msg))          # prints S character with min value\n",
        "      3} print(max(msg))          # prints u - character wiht max value\n",
        "      4} print(type(msg))         # prints <class'str'>\n",
        "      5} print(id(msg))           # prints 33720000  "
      ],
      "metadata": {
        "id": "wDSQ0duJbG4u"
      }
    },
    {
      "cell_type": "markdown",
      "source": [
        "*String Methods*\n",
        "\n",
        "    \n",
        "    A} String is a class whatever string we are creating they are nearly a object of that str class\n",
        "    B} object details what would it contain that is indecated by a class and what operation are perform on that object is also dermitted by class\n",
        "    C} And when we say opertaion perfrom those operation are formed by using methods inside the class methode measns function\n",
        "\n",
        "    for example str class contain a function\n",
        "      1} isalpha() - Checks if all char are alphabets or not\n",
        "      2} isdigit() - Checks if all chars are digits\n",
        "      3} isalnum() - Checks if all chars are alphabets or digits\n",
        "      4} islower() - Checks if all chars are lowercase alphabets\n",
        "      5} isupper() - Checks if all chars are uppercase alphabets\n",
        "      6} startwith() - checks if string start with a value\n",
        "      7} endswith() -checks if string ends with a value\n",
        "\n",
        "*STR: Search and replace*\n",
        "    \n",
        "      1} find() - Searches for a value, return its position\n",
        "      2} replace() - replace one value with another\n",
        "\n",
        "*STR: Trimming methods*\n",
        "      \n",
        "      1} lstrip() - removes whitespace from the left including \\t\n",
        "      2} rstrip() - removes whitespace from the right including \\t\n",
        "      3} strip() - removes whitespace from left & right\n",
        "\n",
        "*STR : Split,Partition,Join*\n",
        "      \n",
        "     1} split() - Split the string at a specified separator string\n",
        "     2} partition() - partitions string into 3 parts\n",
        "     3} join() - joins string to each element of string 1 except last\n",
        "\n",
        "*STR : Conversion Methods*\n",
        "     \n",
        "     1} upper() - converts strings to uppercase\n",
        "     2} lower() - converts strings to lowercase\n",
        "     3} capitalize() - converts first char to uppercase\n",
        "     4} title() - converts first char of each word to uppercase\n",
        "     5} swapcase() - swap cases in the string"
      ],
      "metadata": {
        "id": "TWqSPZWXwjqi"
      }
    },
    {
      "cell_type": "markdown",
      "source": [
        "*Conversion via built-ins*\n",
        "\n",
        "    Conversion can also done sometimes by using built-ins function which are different then methods , methods are part of str class , Built-in function are avalabile wherever we want\n",
        "\n",
        "    # String ro number and vice  versa\n",
        "    1} str() - converts an int,float, or complex to string\n",
        "    2} int() - converts a numeric string to int\n",
        "    3} float() - converts a numeric string to float\n",
        "    4} complex() - converts a numeric string to complex\n",
        "    5} chr() - returns a char representing its unicode value\n",
        "    6} ord() - returns unicode value for a char\n",
        "\n",
        "    "
      ],
      "metadata": {
        "id": "IxmPMC8uCoD4"
      }
    },
    {
      "cell_type": "code",
      "source": [
        "age = 25\n",
        "print(\"her age is {} years old\".format(age))\n",
        "print(f\"her age is {age} years old \")"
      ],
      "metadata": {
        "colab": {
          "base_uri": "https://localhost:8080/"
        },
        "id": "X9Y2iXwRB1Qh",
        "outputId": "7dd07a02-3794-4333-e7b5-fa131d37ce3e"
      },
      "execution_count": null,
      "outputs": [
        {
          "output_type": "stream",
          "name": "stdout",
          "text": [
            "her age is 25 years old\n",
            "her age is 25 years old \n"
          ]
        }
      ]
    },
    {
      "cell_type": "code",
      "source": [
        "4 % (1 + 9)**2 - 60 // (7 + 2)"
      ],
      "metadata": {
        "colab": {
          "base_uri": "https://localhost:8080/"
        },
        "id": "9dd6ZncALXd1",
        "outputId": "b99d1f15-cddc-4cbb-9a5e-1755db01c590"
      },
      "execution_count": null,
      "outputs": [
        {
          "output_type": "execute_result",
          "data": {
            "text/plain": [
              "-2"
            ]
          },
          "metadata": {},
          "execution_count": 4
        }
      ]
    },
    {
      "cell_type": "code",
      "source": [
        "x = 'len'\n",
        "x[len(x * 2) - 5]"
      ],
      "metadata": {
        "colab": {
          "base_uri": "https://localhost:8080/",
          "height": 35
        },
        "id": "OPiYrpecNUJt",
        "outputId": "e591969a-e02d-42e1-ac03-bdf0b67f22e3"
      },
      "execution_count": null,
      "outputs": [
        {
          "output_type": "execute_result",
          "data": {
            "text/plain": [
              "'e'"
            ],
            "application/vnd.google.colaboratory.intrinsic+json": {
              "type": "string"
            }
          },
          "metadata": {},
          "execution_count": 1
        }
      ]
    },
    {
      "cell_type": "code",
      "source": [],
      "metadata": {
        "id": "GFSQc7mlhrn0"
      },
      "execution_count": null,
      "outputs": []
    }
  ]
}