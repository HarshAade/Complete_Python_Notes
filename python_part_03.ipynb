{
  "nbformat": 4,
  "nbformat_minor": 0,
  "metadata": {
    "colab": {
      "provenance": [],
      "authorship_tag": "ABX9TyP2F9/BhRVGoMmWxp7XPEQF",
      "include_colab_link": true
    },
    "kernelspec": {
      "name": "python3",
      "display_name": "Python 3"
    },
    "language_info": {
      "name": "python"
    }
  },
  "cells": [
    {
      "cell_type": "markdown",
      "metadata": {
        "id": "view-in-github",
        "colab_type": "text"
      },
      "source": [
        "<a href=\"https://colab.research.google.com/github/HarshAade/Complete_Python_Notes/blob/main/python_part_03.ipynb\" target=\"_parent\"><img src=\"https://colab.research.google.com/assets/colab-badge.svg\" alt=\"Open In Colab\"/></a>"
      ]
    },
    {
      "cell_type": "markdown",
      "source": [
        "*What are Function*\n",
        "   \n",
        "    1} Definition; Block of code that performs a specific and well - defined task\n",
        "    2} Advantages: Divide & conquer - modular code reuse mechanism\n",
        "    \n",
        "\n",
        "*Function Definition and Call*\n",
        "    \n",
        "    1} Function definition:\n",
        "        def fun():\n",
        "           print('My opinions may have changed')\n",
        "           print('But not the fact that i am right')\n",
        "    2} Function Calls:\n",
        "        fun()                # First call\n",
        "        fun()                # Second call\n",
        "\n",
        "\n",
        "    A} Python convention for function names:\n",
        "      -Always use lowercase characters\n",
        "      -Connect multiple words using _\n",
        "      -Example:\n",
        "           cal_si(),split_data(),etc\n",
        "      - A function can be redefined   \n",
        "      - While calling its latest definition will be called\n",
        "    \n",
        "*Nested Function*\n",
        "    \n",
        "    def fun1():\n",
        "      print('Reached fun1')\n",
        "      def fun2():\n",
        "         print('inner avatar')\n",
        "      print('Outer avater')\n",
        "      fun2()\n",
        "\n",
        "    fun1()                # OK\n",
        "    fun2()                # can't call inner fun from here\n",
        "    print(type(fun1))     # Nested call\n",
        "\n",
        "    A} Inner function has to be called through outer function\n",
        "    B} Inner function can access variables of outer function\n",
        "    C} Example usage: my_random(),is_prime()\n",
        "    D} Example usage: Decorators\n",
        "    E} Nested call are legal"
      ],
      "metadata": {
        "id": "B_u1RlGIZBjG"
      }
    },
    {
      "cell_type": "code",
      "source": [
        "var = 10\n",
        "def func():\n",
        "    var = 20\n",
        "print(var)"
      ],
      "metadata": {
        "id": "B2tAE5ddZBHY",
        "colab": {
          "base_uri": "https://localhost:8080/"
        },
        "outputId": "b0508538-f454-4991-e552-20369d1dcb38"
      },
      "execution_count": null,
      "outputs": [
        {
          "output_type": "stream",
          "name": "stdout",
          "text": [
            "10\n"
          ]
        }
      ]
    },
    {
      "cell_type": "markdown",
      "source": [
        "*Communicating with functions*\n",
        "\n",
        "    def cal_sum(x,y,z):\n",
        "         return x + Y + Z\n",
        "    s1 = cal_sum(10,20,30)\n",
        "    # Another way\n",
        "    a,b,c = 1,2,3\n",
        "    s2 = cal_sum(a,b,c)\n",
        "\n",
        "    a} return key word = return control and value\n",
        "    b} return without an expression returns none\n",
        "    c} if a function reaches the end without a return, the statement returns None\n",
        "    d} to return multiple value pack them in list/tuple/set/dictionary and then return it\n",
        "    e} Changing x,y,z does not change a,b,c  call by value\n",
        "    f} a function can return differnet types\n",
        "    \n",
        "     \n",
        "    \n",
        "\n",
        "     "
      ],
      "metadata": {
        "id": "F4XSmcln-UJv"
      }
    },
    {
      "cell_type": "code",
      "execution_count": null,
      "metadata": {
        "id": "8yFIq7KVTuN0",
        "colab": {
          "base_uri": "https://localhost:8080/"
        },
        "outputId": "de998666-452e-4ed9-9841-eaaa59e402f4"
      },
      "outputs": [
        {
          "output_type": "stream",
          "name": "stdout",
          "text": [
            "12 is maximum\n"
          ]
        }
      ],
      "source": [
        "def printMax(a, b):\n",
        "    if a > b:\n",
        "        print(a, 'is maximum')\n",
        "    elif a == b:\n",
        "        print(a, 'is equal to', b)\n",
        "    else:\n",
        "        print(b, 'is maximum')\n",
        "printMax(10,12)\n"
      ]
    },
    {
      "cell_type": "markdown",
      "source": [
        "*Type of Arguments*\n",
        "\n",
        "    1} Positional arguments   \n",
        "    2} Keyword arguments\n",
        "    3} Variable-length positional arguments\n",
        "    4} Variable-lenght keyword arguments\n",
        "        \n",
        "    # 1 & 2 is known as required arguments\n",
        "    # 3 & 4 is known as Optional arguments\n"
      ],
      "metadata": {
        "id": "UQbTvFjxO1tG"
      }
    },
    {
      "cell_type": "markdown",
      "source": [
        "*Positional Arguments*\n",
        "  \n",
        "    - Argument must be passed in correct positional order\n",
        "        def fun(i,j,k):\n",
        "           print(i+j)\n",
        "           print(k.upper())\n",
        "\n",
        "        fun(10,3.14,'Rigmarole')        # Correct\n",
        "        fun('Rigmarole',3.14,10)         # Error , wrong order\n",
        "\n",
        "     - Number of arguments must watch\n",
        "\n",
        "*Keyword Arguments*\n",
        "         \n",
        "     - Can be passed out of order\n",
        "     - Keyword (varauble names) used to match arguments\n",
        "       \n",
        "       def print_it(i,a,str):\n",
        "          print(i,a,str)\n",
        "\n",
        "       print_if(a=3.14,i=10,str='Sicilian')    # ok   \n",
        "       print(s='Sicilian',j=10,a=3.14)   # Error\n",
        "\n",
        "*Positional & Keyword arguments*\n",
        "\n",
        "     - Positional args must precede keyword args\n",
        "\n",
        "        def print_it(i,a,str)\n",
        "          print(i,a,str)\n",
        "        print_it(10,a=3.14,str='Ngp')    # ok\n",
        "        print_it(10,str='Ngp',a=3.14)    # ok\n",
        "        print(str='Ngp',10,a=3.14)       \n",
        "           # error - Always positional args must come first and then keyword args but her it doesn't  \n",
        "\n",
        "\n",
        "\n",
        "\n",
        "\n",
        "    \n",
        "\n",
        "     "
      ],
      "metadata": {
        "id": "a6XVPyhJTnCB"
      }
    },
    {
      "cell_type": "code",
      "source": [
        "def power(x, y=2):\n",
        "    var = 1\n",
        "    for i in range(y):\n",
        "       var = var * x\n",
        "    return var\n",
        "print(power(4))\n",
        "print(power(4, 4))"
      ],
      "metadata": {
        "colab": {
          "base_uri": "https://localhost:8080/"
        },
        "id": "GxlgEW2BOx5I",
        "outputId": "1f5500af-793e-432f-d75a-608452e19219"
      },
      "execution_count": null,
      "outputs": [
        {
          "output_type": "stream",
          "name": "stdout",
          "text": [
            "16\n",
            "256\n"
          ]
        }
      ]
    },
    {
      "cell_type": "code",
      "source": [
        "def func(x,y):\n",
        "    x *= x\n",
        "    y *= y\n",
        "    return x,y\n",
        "x = 10\n",
        "y = 20\n",
        "print(func(x,y))\n",
        "print(x,y)"
      ],
      "metadata": {
        "colab": {
          "base_uri": "https://localhost:8080/"
        },
        "id": "3h-FNdOP1Q0a",
        "outputId": "5438ddc2-84eb-47de-99c3-926007db41d1"
      },
      "execution_count": null,
      "outputs": [
        {
          "output_type": "stream",
          "name": "stdout",
          "text": [
            "(100, 400)\n",
            "10 20\n"
          ]
        }
      ]
    },
    {
      "cell_type": "markdown",
      "source": [
        "*Variable Length arguments*"
      ],
      "metadata": {
        "id": "XVJ2GZqN1o9p"
      }
    },
    {
      "cell_type": "markdown",
      "source": [
        "*Variable-length positional arguments*\n",
        "\n",
        "       def print_it(*args):\n",
        "         print()\n",
        "           for var in args:\n",
        "              print(var,end='')\n",
        "       print_it(10)             # 1 arg,ok\n",
        "       print_it(10,3.14)        # 2 args, ok\n",
        "       print_it(10,3.14,'sicilian')        # 3 args, ok\n",
        "       print_it(10,3.14,'sicilian','Punekar')         # 4 args ok\n",
        "\n",
        "\n",
        "    - Arguments is a tuple\n",
        "    - *indicates that it will hold all the arguments\n",
        "    - Tuple can be iterated through using a for loop\n",
        "    - cannot use more than one arguments\n",
        "    \n",
        "*Variable-Length keyword arguments*\n",
        "\n",
        "       def print_it(**kwargs)\n",
        "          print()\n",
        "          for name, value in lwargs.items():\n",
        "             print(name,value,end='')\n",
        "             \n",
        "       prin_it(a=10)          # ok\n",
        "       print_it(a=10,b=3.14)  # ok\n",
        "       print_it(a=10,b=3.14,s=\"Sicilian\")    # ok\n",
        "      \n",
        "      dct = {'Student':'Ajay','Age':23}\n",
        "      print_it(**dct)\n",
        "\n",
        "    - Kwarge is a dictionary\n",
        "    - variables names and values are k-v pairs\n",
        "    - ** indicates that it will hold all the variables passed\n",
        "    - Cannot use more than one kwargs\n",
        "        "
      ],
      "metadata": {
        "id": "we02SSN6ajBm"
      }
    },
    {
      "cell_type": "code",
      "source": [
        "def fun(a , b , *args , x , y):\n",
        "    print(a , b , args , x , y)\n",
        "\n",
        "fun(10,30, y = 100 , x = 200)"
      ],
      "metadata": {
        "id": "njGYNdBf1irL",
        "colab": {
          "base_uri": "https://localhost:8080/"
        },
        "outputId": "df438894-fd29-4348-85f0-ca56ca6ad22a"
      },
      "execution_count": null,
      "outputs": [
        {
          "output_type": "stream",
          "name": "stdout",
          "text": [
            "10 30 () 200 100\n"
          ]
        }
      ]
    },
    {
      "cell_type": "markdown",
      "source": [
        "*Mixing argument types*\n",
        "   \n",
        "     \n",
        "   "
      ],
      "metadata": {
        "id": "t9ob8fd6kJ5f"
      }
    },
    {
      "cell_type": "markdown",
      "source": [
        "     All Four in one function\n",
        "       1} Positional\n",
        "       2} Variable-length positional\n",
        "       3} Keyword\n",
        "       4} variable-length keyword\n",
        "\n",
        "     def(i,j,*args,x,y,**kwargs):   # i & j for 1st , *args for 2nd , x & y for 3rd , **kwargs for 4th\n",
        "       print()\n",
        "       print(i,j,end='')\n",
        "       for var in args:\n",
        "         print(var,end='')\n",
        "       print(x,ye,end='')\n",
        "       for name, value in kwargs.items():\n",
        "         print(name,value,end='')\n",
        "\n",
        "     print_it(10,20,x=30,y=40)\n",
        "        # output  = 10 , 20 will be going for i & j there is no other positional argument so  *agrs will be empty\n",
        "        # output  = x = 30 , y = 40 will be going for x & y as there is no other keyword argument so **kwargs will be emoty  \n",
        "      print_it(10,20,100,200,x=30,y=40)\n",
        "        # output  = 10 , 20 will be going for i & j & 100 , 200 will be going in *agrs  \n",
        "        # output  = x = 30 , y = 40 will be going for x & y as there is no other keyword argument so **kwargs will be empty  \n",
        "      print_it(10,20,100,200,y=40,x=30)  # ok\n",
        "      print_it(10,20,100,200,x=30,y=40,a=5,b=6,c=7)\n",
        "         # output  = 10 , 20 will be going for i & j & 100 , 200 will be going in *agrs  \n",
        "         # output  = x = 30 , y = 40 will be going for x & y as there will go in **kwargs\n",
        "      print_it(10,20,30,40)        \n",
        "         # error , 30 & 40 go to args nothing left for arguments x , y\n",
        "         \n",
        "         \n",
        "\n"
      ],
      "metadata": {
        "id": "w8FMXIfTkj8j"
      }
    },
    {
      "cell_type": "markdown",
      "source": [
        "*Default value of arguments*\n",
        "\n",
        "    Default value is used if we do not pass value for that arguments\n",
        "\n",
        "    def fun(a,b = 100,c 3.1)\n",
        "      return a + b + c\n",
        "\n",
        "    w = fun(10)          # passes 10 to a , b taken as 100 & c as 3.1 beacuse we haev given default value\n",
        "      # so the output will be 10 + 100 + 3.1\n",
        "\n",
        "    x = fun(20,50)       # passes 20,50 to a,b,c is taken as 3.1\n",
        "       # so the output will be 20 + 50 + 3.1  \n",
        "       # if we pass the value so default value will be not use if we didn't pass value then the default value will be use\n",
        "      \n",
        "    y = fun(30,60,6.28)  # passes 30,60,6.28 to a,b,c\n",
        "       # here we have pass the value so the default value will be not use and & the given value be use\n",
        "      \n",
        "    z =  fun(1,c = 3 , b = 5)  # passes 1 to a, 5 to b, 3 to c\n",
        "\n",
        "    Default arguments must follow non-defealt arguments  \n",
        "      "
      ],
      "metadata": {
        "id": "ifd_FkNUpaKW"
      }
    },
    {
      "cell_type": "code",
      "source": [
        "def func(i = 10, j = 20):\n",
        "    i = i + j\n",
        "    j = j + 1\n",
        "    print(i, j)\n",
        "func(j = 1, i = 2)"
      ],
      "metadata": {
        "id": "M-YkXtgAgBwY",
        "colab": {
          "base_uri": "https://localhost:8080/"
        },
        "outputId": "0a5b87ec-9724-4436-ab12-0e51f86a81a3"
      },
      "execution_count": null,
      "outputs": [
        {
          "output_type": "stream",
          "name": "stdout",
          "text": [
            "3 2\n"
          ]
        }
      ]
    },
    {
      "cell_type": "code",
      "source": [
        "def func(x=10,y=10):\n",
        "    return x,y\n",
        "x=1\n",
        "y=2\n",
        "print(func())\n",
        "print(func(20,20))\n",
        "print (x,y)"
      ],
      "metadata": {
        "colab": {
          "base_uri": "https://localhost:8080/"
        },
        "id": "-kRwL94Oel5M",
        "outputId": "21fb3638-083a-4a0e-b5f3-3f8fc347666c"
      },
      "execution_count": null,
      "outputs": [
        {
          "output_type": "stream",
          "name": "stdout",
          "text": [
            "(10, 10)\n",
            "(20, 20)\n",
            "1 2\n"
          ]
        }
      ]
    },
    {
      "cell_type": "markdown",
      "source": [
        "*Unpacking Function arguments*\n",
        "\n",
        "    def print_it(a,b,c,d,e)\n",
        "       print(a,b,c,d,e)\n",
        "\n",
        "    lst= [10,20,30,40,50]\n",
        "    tpl = ('A','B','C','D','E')\n",
        "    s = {1,2,3,4,5}\n",
        "    print_it(*lst)\n",
        "    print_it(*tpl)\n",
        "    print_it(*s )\n",
        "\n",
        "    def print_it(name = 'Sanjay',marks = 75)\n",
        "    \n",
        "    d = {'n':'Anil','m':50}\n",
        "    print_it(*d)           # passes Key -- Output will be n, m\n",
        "    print_it(**d)          # Pasess value -- output will be anil & 50"
      ],
      "metadata": {
        "id": "yiH4a4ymJSqi"
      }
    },
    {
      "cell_type": "code",
      "source": [
        "def func(a,b,c):\n",
        "    a = b + c\n",
        "    print(a)\n",
        "lst = [1,2,3]\n",
        "func(*lst)"
      ],
      "metadata": {
        "id": "Y0BDozF5dvpT",
        "colab": {
          "base_uri": "https://localhost:8080/"
        },
        "outputId": "559f313d-5dd5-4089-d9db-644208a9e37c"
      },
      "execution_count": null,
      "outputs": [
        {
          "output_type": "stream",
          "name": "stdout",
          "text": [
            "5\n"
          ]
        }
      ]
    },
    {
      "cell_type": "code",
      "source": [
        "def func(*lst):\n",
        "    for i in lst:\n",
        "        print(i)\n",
        "func(1,2,3)"
      ],
      "metadata": {
        "colab": {
          "base_uri": "https://localhost:8080/"
        },
        "id": "v4_-V0luMaLa",
        "outputId": "f2d5a8b6-fdaa-49f8-b514-1fa93f2d423e"
      },
      "execution_count": null,
      "outputs": [
        {
          "output_type": "stream",
          "name": "stdout",
          "text": [
            "1\n",
            "2\n",
            "3\n"
          ]
        }
      ]
    },
    {
      "cell_type": "markdown",
      "source": [
        "*Recursive Function*"
      ],
      "metadata": {
        "id": "ebPHHjDVMt0f"
      }
    },
    {
      "cell_type": "markdown",
      "source": [
        "    The process of function calling itself is know as recursion & then function is know as Recursive function\n",
        "\n",
        "    Way to repeat ?\n",
        "      A} iteration:\n",
        "         by using while or for loop  \n",
        "      B} Recursion:\n",
        "         By calling a function from wihtin itself\n",
        "      C} Example:\n",
        "           def fun():\n",
        "             # some statements\n",
        "             fun()     # this is Recursive call -- It will come infinte loop   \n",
        "      Escape Route\n",
        "            def fun()\n",
        "               if condition:\n",
        "                  # Some statements    -- It is know as Base case\n",
        "               else\n",
        "                  fun() # Recusrive call -- & from where we do Recursive call it is know as recursive case\n",
        "      Another way\n",
        "            def fun():\n",
        "              if condition:\n",
        "                 fun()    # Recursive call\n",
        "              else:\n",
        "                 # some statements    -- base case\n",
        "            \n",
        "\n",
        "                 \n"
      ],
      "metadata": {
        "id": "5ROBleNKN6gX"
      }
    },
    {
      "cell_type": "markdown",
      "source": [
        "    A} A fresh set of variables are born\n",
        "         During normal call and recursive call\n",
        "    B} Variables die\n",
        "         when control return from a function\n",
        "    C} Return Statement in recursive function\n",
        "         May or may not be present\n",
        "    D} Space Requriement\n",
        "         More for several sets of varibles"
      ],
      "metadata": {
        "id": "Lh31dkQmSI0H"
      }
    },
    {
      "cell_type": "code",
      "source": [
        "def func(x):\n",
        "    if x < 10:\n",
        "        print (x)\n",
        "        x -= 1\n",
        "    else:\n",
        "        func(x)\n",
        "func(11)"
      ],
      "metadata": {
        "colab": {
          "base_uri": "https://localhost:8080/",
          "height": 339
        },
        "id": "jlNbPmy1Mybw",
        "outputId": "8682cc7b-5c90-4ff0-b5d6-79534878d48b"
      },
      "execution_count": null,
      "outputs": [
        {
          "output_type": "error",
          "ename": "RecursionError",
          "evalue": "maximum recursion depth exceeded in comparison",
          "traceback": [
            "\u001b[0;31m---------------------------------------------------------------------------\u001b[0m",
            "\u001b[0;31mRecursionError\u001b[0m                            Traceback (most recent call last)",
            "\u001b[0;32m<ipython-input-3-2e40ba9c0f15>\u001b[0m in \u001b[0;36m<cell line: 7>\u001b[0;34m()\u001b[0m\n\u001b[1;32m      5\u001b[0m     \u001b[0;32melse\u001b[0m\u001b[0;34m:\u001b[0m\u001b[0;34m\u001b[0m\u001b[0;34m\u001b[0m\u001b[0m\n\u001b[1;32m      6\u001b[0m         \u001b[0mfunc\u001b[0m\u001b[0;34m(\u001b[0m\u001b[0mx\u001b[0m\u001b[0;34m)\u001b[0m\u001b[0;34m\u001b[0m\u001b[0;34m\u001b[0m\u001b[0m\n\u001b[0;32m----> 7\u001b[0;31m \u001b[0mfunc\u001b[0m\u001b[0;34m(\u001b[0m\u001b[0;36m11\u001b[0m\u001b[0;34m)\u001b[0m\u001b[0;34m\u001b[0m\u001b[0;34m\u001b[0m\u001b[0m\n\u001b[0m",
            "\u001b[0;32m<ipython-input-3-2e40ba9c0f15>\u001b[0m in \u001b[0;36mfunc\u001b[0;34m(x)\u001b[0m\n\u001b[1;32m      4\u001b[0m         \u001b[0mx\u001b[0m \u001b[0;34m-=\u001b[0m \u001b[0;36m1\u001b[0m\u001b[0;34m\u001b[0m\u001b[0;34m\u001b[0m\u001b[0m\n\u001b[1;32m      5\u001b[0m     \u001b[0;32melse\u001b[0m\u001b[0;34m:\u001b[0m\u001b[0;34m\u001b[0m\u001b[0;34m\u001b[0m\u001b[0m\n\u001b[0;32m----> 6\u001b[0;31m         \u001b[0mfunc\u001b[0m\u001b[0;34m(\u001b[0m\u001b[0mx\u001b[0m\u001b[0;34m)\u001b[0m\u001b[0;34m\u001b[0m\u001b[0;34m\u001b[0m\u001b[0m\n\u001b[0m\u001b[1;32m      7\u001b[0m \u001b[0mfunc\u001b[0m\u001b[0;34m(\u001b[0m\u001b[0;36m11\u001b[0m\u001b[0;34m)\u001b[0m\u001b[0;34m\u001b[0m\u001b[0;34m\u001b[0m\u001b[0m\n",
            "... last 1 frames repeated, from the frame below ...\n",
            "\u001b[0;32m<ipython-input-3-2e40ba9c0f15>\u001b[0m in \u001b[0;36mfunc\u001b[0;34m(x)\u001b[0m\n\u001b[1;32m      4\u001b[0m         \u001b[0mx\u001b[0m \u001b[0;34m-=\u001b[0m \u001b[0;36m1\u001b[0m\u001b[0;34m\u001b[0m\u001b[0;34m\u001b[0m\u001b[0m\n\u001b[1;32m      5\u001b[0m     \u001b[0;32melse\u001b[0m\u001b[0;34m:\u001b[0m\u001b[0;34m\u001b[0m\u001b[0;34m\u001b[0m\u001b[0m\n\u001b[0;32m----> 6\u001b[0;31m         \u001b[0mfunc\u001b[0m\u001b[0;34m(\u001b[0m\u001b[0mx\u001b[0m\u001b[0;34m)\u001b[0m\u001b[0;34m\u001b[0m\u001b[0;34m\u001b[0m\u001b[0m\n\u001b[0m\u001b[1;32m      7\u001b[0m \u001b[0mfunc\u001b[0m\u001b[0;34m(\u001b[0m\u001b[0;36m11\u001b[0m\u001b[0;34m)\u001b[0m\u001b[0;34m\u001b[0m\u001b[0;34m\u001b[0m\u001b[0m\n",
            "\u001b[0;31mRecursionError\u001b[0m: maximum recursion depth exceeded in comparison"
          ]
        }
      ]
    },
    {
      "cell_type": "markdown",
      "source": [
        "*When is Recursion used*\n",
        "\n",
        "    There a 2 Scenario:\n",
        "\n",
        "     Scenario 1:\n",
        "       Breaking a problem into similar subproblem\n",
        "     Example:\n",
        "       finding factorial value oa a number\n",
        "       finding sum of digits of an integer\n",
        "       finding binary equivalent of a number\n",
        "\n",
        "     Scenario 2:\n",
        "       Problem requires an unknown number of loops\n",
        "     Example:\n",
        "       All Combos of 1 to n , n is input\n",
        "       traversing a binary tree\n",
        "       traversing a graph  \n",
        "        \n",
        "\n",
        "    "
      ],
      "metadata": {
        "id": "IbtRh0y8TvzR"
      }
    },
    {
      "cell_type": "markdown",
      "source": [
        "*Applying Recursion to function*\n",
        "\n",
        "     Similar Subproblems\n",
        "\n",
        "     n factorial\n",
        "     n! = n*(n-1)*(n-2)*(n-3).......*2*1\n",
        "\n",
        "     if we want to write this in function form then\n",
        "     n! = 1   if n = 0             \n",
        "      = n*(n-1)!     if n > 0\n",
        "\n",
        "     fact (n) = 1     if n = 0       (base case)\n",
        "         = n *fact(n-1)     if n > 0     (recursive case)\n",
        "\n",
        "     Sum of digits of n\n",
        "     sum(n)=0             if n = 0 (base case)\n",
        "        = n % 10 + sum(n/10)       if n > 0 (recursive case)\n",
        "         \n",
        "       \n",
        "    \n",
        "\n"
      ],
      "metadata": {
        "id": "5OqWRpqZxYI2"
      }
    },
    {
      "cell_type": "markdown",
      "source": [
        "*Recursive factorial function*\n",
        "\n",
        "    "
      ],
      "metadata": {
        "id": "O7tNBXIpJ5Mt"
      }
    },
    {
      "cell_type": "code",
      "source": [
        "def refact(n):\n",
        "    if n == 0:\n",
        "        return 1\n",
        "    else:\n",
        "        p = n * refact(n-1)\n",
        "        return p\n",
        "\n",
        "num = int(input(\"Enter any number. \"))\n",
        "fact = refact(num)\n",
        "print('factorial value = ',fact)"
      ],
      "metadata": {
        "id": "XgVZteU1TrPO",
        "colab": {
          "base_uri": "https://localhost:8080/"
        },
        "outputId": "a5325c6d-0607-492c-e571-ab5023092272"
      },
      "execution_count": null,
      "outputs": [
        {
          "output_type": "stream",
          "name": "stdout",
          "text": [
            "Enter any number. 4\n",
            "factorial value =  24\n"
          ]
        }
      ]
    },
    {
      "cell_type": "code",
      "source": [
        "def rec_func(a,b):\n",
        "    if a == 0:\n",
        "        return b\n",
        "    else:\n",
        "        return rec_func(a-1,b+1)\n",
        "\n",
        "result = rec_func(3,5)\n",
        "print(result)"
      ],
      "metadata": {
        "colab": {
          "base_uri": "https://localhost:8080/"
        },
        "id": "X_lreIu2M58i",
        "outputId": "2c823231-e509-4392-a8a1-db29de607bb0"
      },
      "execution_count": null,
      "outputs": [
        {
          "output_type": "stream",
          "name": "stdout",
          "text": [
            "8\n"
          ]
        }
      ]
    },
    {
      "cell_type": "markdown",
      "source": [
        "*How does Recursion work*"
      ],
      "metadata": {
        "id": "5DsA8zbMNw3J"
      }
    },
    {
      "cell_type": "markdown",
      "source": [
        "*Working with unknown number of recursicve calls*\n",
        "\n",
        "      1} All combination of 1 to n\n",
        "         \n",
        "         def generate(n):\n",
        "            lol = [[] for i in range (n**n)]   ------Creating 27 empty list\n",
        "            pos = 0\n",
        "            for i in range(1, n +1):\n",
        "               for j in range(1,n+1):\n",
        "                 for k in range(1,n+1):\n",
        "                    t = [i,j,k]\n",
        "                    lol[pos] = t  \n",
        "                    pos += 1\n",
        "         retrun lol\n",
        "         i = generate(3)\n",
        "         print(1)   \n",
        "            # Expected output\n",
        "               [1,1,1],[1,1,2].....[3,3,3]\n",
        "        # As the given above is the solution for 3 and if we pass 7 or 5 so we will get error so now lets create for it by using recursion\n",
        "\n",
        "        def generate(n):\n",
        "          t = []\n",
        "          lol = [[] for i in range(n**n)]\n",
        "          helper(n,t,lol) ----- helper is a user define function\n",
        "          return(lol)\n",
        "         \n",
        "        def helper(n,t,lol):\n",
        "          glabal j\n",
        "          if len(t) == n :\n",
        "             lol[j] = lol[j] + t\n",
        "             j += 1\n",
        "             return\n",
        "\n",
        "          for i in range (1,n+1):\n",
        "            t.append(i)\n",
        "            helper(n,t,lol)\n",
        "            t.pop()        \n",
        "        \n",
        "        j = 0\n",
        "        lst = generate(2) ; print(lst)\n",
        "        lst = generate(3) ; print(lst)\n",
        "           "
      ],
      "metadata": {
        "id": "TOLY_jnokafO"
      }
    },
    {
      "cell_type": "code",
      "source": [
        "def generate(n):\n",
        "  t = []\n",
        "  lol = [[] for i in range(n**n)]\n",
        "  helper(n,t,lol)  #----- helper is a user define function\n",
        "  return(lol)\n",
        "def helper(n,t,lol):\n",
        "  global j\n",
        "  if len(t) == n :\n",
        "    lol[j] = lol[j] + t\n",
        "    j += 1\n",
        "    return\n",
        "\n",
        "    for i in range (1,n+1):\n",
        "      t.append(i)\n",
        "      helper(n,t,lol)\n",
        "      t.pop()\n",
        "\n",
        "j = 0\n",
        "# lst = generate(2) ; print(lst)\n",
        "# lst = generate(3) ; print(lst)\n",
        "num = int(input(\"entere no\" ))\n",
        "print(generate(num))"
      ],
      "metadata": {
        "colab": {
          "base_uri": "https://localhost:8080/"
        },
        "id": "OSUaiAMWkIh-",
        "outputId": "2b8dc192-5a4a-4b78-89a6-73aac72ce815"
      },
      "execution_count": null,
      "outputs": [
        {
          "output_type": "stream",
          "name": "stdout",
          "text": [
            "entere no3\n",
            "[[], [], [], [], [], [], [], [], [], [], [], [], [], [], [], [], [], [], [], [], [], [], [], [], [], [], []]\n"
          ]
        }
      ]
    },
    {
      "cell_type": "code",
      "source": [
        "def fun(n):\n",
        "   if (n <= 0):\n",
        "     return 1\n",
        "   else:\n",
        "     return n - fun(n-2)\n",
        "\n",
        "print(fun(5))"
      ],
      "metadata": {
        "colab": {
          "base_uri": "https://localhost:8080/"
        },
        "id": "KOhNsytTpqqS",
        "outputId": "be2f6469-afae-41d8-b49d-6813c6f0e2d0"
      },
      "execution_count": null,
      "outputs": [
        {
          "output_type": "stream",
          "name": "stdout",
          "text": [
            "2\n"
          ]
        }
      ]
    },
    {
      "cell_type": "code",
      "source": [
        "def ex(n):\n",
        "  if (n > 0):\n",
        "    ex(n-5)\n",
        "    print(n)\n",
        "num = int(input(\"enter no\"))\n",
        "ex(num)"
      ],
      "metadata": {
        "colab": {
          "base_uri": "https://localhost:8080/"
        },
        "id": "KlRFR_ElrSAA",
        "outputId": "63046e64-3002-46a5-edfe-b1a3cea6119a"
      },
      "execution_count": null,
      "outputs": [
        {
          "output_type": "stream",
          "name": "stdout",
          "text": [
            "enter no25\n",
            "5\n",
            "10\n",
            "15\n",
            "20\n",
            "25\n"
          ]
        }
      ]
    },
    {
      "cell_type": "markdown",
      "source": [
        "*Types of Recursion*"
      ],
      "metadata": {
        "id": "QFsBsWXerr_A"
      }
    },
    {
      "cell_type": "markdown",
      "source": [
        "    1} Head Recursion\n",
        "       a} Call before processing\n",
        "           def headprint(n):\n",
        "             if n == 0:\n",
        "                 return\n",
        "             else:\n",
        "                headprint(n-1)   --- call\n",
        "                print(n)         --- process\n",
        "           headprint(10)\n",
        "    2} Tail Recursion\n",
        "       b} Call after processing\n",
        "            def tailprint(n):\n",
        "              if n == 11:\n",
        "                 return\n",
        "              else:\n",
        "                 print(n)\n",
        "                 tailprint(n +  1)  \n",
        "            tailprint(1)\n",
        "         "
      ],
      "metadata": {
        "id": "tUxGnOeJlR7p"
      }
    },
    {
      "cell_type": "markdown",
      "source": [
        "*Functional Programming*"
      ],
      "metadata": {
        "id": "LDc1FDebnlkd"
      }
    },
    {
      "cell_type": "markdown",
      "source": [
        "    # paradigm ??\n",
        "      organizes principle  \n",
        "        Paradigam types:\n",
        "          1} Object-oriented programming\n",
        "          2} Structure programming\n",
        "          3} Functional programming\n",
        "          4} Event-driven programming\n",
        "\n",
        "    Functional programming paradigm ?\n",
        "      - what is it ?\n",
        "        a problem is treated as evaluation of one or more functions\n",
        "      - Problem broken into funcions\n",
        "        these function provide the main source of logic in the program\n",
        "    \n",
        "    Functions as first-Class value\n",
        "     - function can be:\n",
        "        Assigned to variales\n",
        "        Called using these variables\n",
        "     - Function can be:\n",
        "         Passed as argument to function\n",
        "         Returned from function\n",
        "     - Function can be:\n",
        "        Built at execution time the way list, tuple etc can be\n",
        "\n",
        "\n",
        "       "
      ],
      "metadata": {
        "id": "lkqomLbPtOyH"
      }
    },
    {
      "cell_type": "markdown",
      "source": [
        "*Assigment and call*\n",
        "\n",
        "    def func():\n",
        "       print('Hello')\n",
        "    \n",
        "    def sum(x,y):\n",
        "       print(x+y)\n",
        "      \n",
        "    f = func -- Assigement\n",
        "    g = sum  -- Assigement\n",
        "\n",
        "    f()       -- Call\n",
        "    g(10,20)  -- Call\n",
        "\n",
        "*Passing as argument*\n",
        "\n",
        "    def sum(x,y,f):\n",
        "      print(x+y)\n",
        "      f()\n",
        "\n",
        "    def func():\n",
        "       print('Hello')\n",
        "   \n",
        "    f = func   ---- assignment\n",
        "    sum(10,20,f) --- f = pass as argument"
      ],
      "metadata": {
        "id": "IQ-4vSFw5G8F"
      }
    },
    {
      "cell_type": "markdown",
      "source": [
        "    1} In functional programming functions are treated as first class value\n",
        "      What do we mean by that..?\n",
        "        it is mean that a function can be assign to a varaible once the assigemnet is over we can used the variable to make a call to that particular function thats the first expect\n",
        "    2} We can passed the function and return a function   \n",
        "      Passed to whom....?\n",
        "        pass to another\n",
        "    3} Ability to create function or built function at exection stage it is possible by lambda function"
      ],
      "metadata": {
        "id": "6PT817UMFq2c"
      }
    },
    {
      "cell_type": "markdown",
      "source": [
        "*Lambda Functions*\n",
        "\n",
        "    - Lambda functions are anonymous\n",
        "        defined using the lambda keyword built at execution time\n",
        "    - Common use\n",
        "        for short func that are convenient to define at point where they are called\n",
        "    - A lambda function\n",
        "        can take any number of args & cab return only one value  \n",
        "    - Syntax\n",
        "        lambda arguments: expression\n",
        "        result of running func is returned\n",
        "         "
      ],
      "metadata": {
        "id": "s71RwEn27329"
      }
    },
    {
      "cell_type": "markdown",
      "source": [
        "*Building functions at runtime*\n",
        "   \n",
        "    lambda/Anomymous/Inline functions\n",
        "\n",
        "    lambda n: n * n * n    # receives n , return m cube\n",
        "\n",
        "    lambda x,y,z : (x+y+z) / 3    # Receives numbers and returns their average  \n",
        "\n",
        "    lambda s: s.strim().upper()     # Receives string, strips whitespace, return uppercase string   "
      ],
      "metadata": {
        "id": "VpM0qVo3NndJ"
      }
    },
    {
      "cell_type": "markdown",
      "source": [
        "*Assignment and argument*"
      ],
      "metadata": {
        "id": "UlUMrewuO93b"
      }
    },
    {
      "cell_type": "code",
      "source": [
        "p = lambda n: n * n * n\n",
        "print(p(2))"
      ],
      "metadata": {
        "colab": {
          "base_uri": "https://localhost:8080/"
        },
        "id": "O67BaxllOwAo",
        "outputId": "3a9774ad-7692-418a-ae7a-5377ffdb8561"
      },
      "execution_count": null,
      "outputs": [
        {
          "output_type": "stream",
          "name": "stdout",
          "text": [
            "8\n"
          ]
        }
      ]
    },
    {
      "cell_type": "code",
      "source": [
        "q = lambda x,y,z : (x+y+z) / 3\n",
        "print(q(1,2,3))"
      ],
      "metadata": {
        "colab": {
          "base_uri": "https://localhost:8080/"
        },
        "id": "vUr-vwlxPQ5d",
        "outputId": "04f69e2f-6d9f-4085-8a2e-1dfe41641ea8"
      },
      "execution_count": null,
      "outputs": [
        {
          "output_type": "stream",
          "name": "stdout",
          "text": [
            "2.0\n"
          ]
        }
      ]
    },
    {
      "cell_type": "code",
      "source": [
        "r = lambda s: s.strip().upper()\n",
        "print(r('   Harsh   '))"
      ],
      "metadata": {
        "colab": {
          "base_uri": "https://localhost:8080/"
        },
        "id": "Pmj-E8NAPUYq",
        "outputId": "fa158478-b358-49ca-f2ee-278a698c5e29"
      },
      "execution_count": null,
      "outputs": [
        {
          "output_type": "stream",
          "name": "stdout",
          "text": [
            "HARSH\n"
          ]
        }
      ]
    },
    {
      "cell_type": "markdown",
      "source": [
        "*As argument*"
      ],
      "metadata": {
        "id": "58z4eYwJdIuL"
      }
    },
    {
      "cell_type": "code",
      "source": [
        "print((lambda n: n * n * n)(2))"
      ],
      "metadata": {
        "id": "wQFbTj9FoZKF",
        "colab": {
          "base_uri": "https://localhost:8080/"
        },
        "outputId": "9360b54d-210a-4f90-860b-11e632d01f56"
      },
      "execution_count": null,
      "outputs": [
        {
          "output_type": "stream",
          "name": "stdout",
          "text": [
            "8\n"
          ]
        }
      ]
    },
    {
      "cell_type": "code",
      "source": [
        "print((lambda x,y,z : (x+y+z) / 3)(10,25,15))"
      ],
      "metadata": {
        "colab": {
          "base_uri": "https://localhost:8080/"
        },
        "id": "QLkLht-tc81F",
        "outputId": "df5c7a66-d2ab-4dd9-ff53-5c32a7b1bef5"
      },
      "execution_count": null,
      "outputs": [
        {
          "output_type": "stream",
          "name": "stdout",
          "text": [
            "16.666666666666668\n"
          ]
        }
      ]
    },
    {
      "cell_type": "code",
      "source": [
        "print((lambda s: s.strip().upper())('   Harsh'  ))"
      ],
      "metadata": {
        "colab": {
          "base_uri": "https://localhost:8080/"
        },
        "id": "1W64yF3ydA_Z",
        "outputId": "02035da7-a779-40d0-8ee8-05d2e5103af9"
      },
      "execution_count": null,
      "outputs": [
        {
          "output_type": "stream",
          "name": "stdout",
          "text": [
            "HARSH\n"
          ]
        }
      ]
    },
    {
      "cell_type": "markdown",
      "source": [
        "*Container as argument*"
      ],
      "metadata": {
        "id": "Szp3HEtedLnT"
      }
    },
    {
      "cell_type": "code",
      "source": [
        "lst1 = [1,2,3,4]\n",
        "lst2 = [5,6,7,8]\n",
        "print(((lambda l : sum(l)))(lst1))\n",
        "print(((lambda l : sum(l)))(lst2))"
      ],
      "metadata": {
        "colab": {
          "base_uri": "https://localhost:8080/"
        },
        "id": "pg0E94-mdHB6",
        "outputId": "d69dcd31-76aa-495a-fef2-df3b3f572b2f"
      },
      "execution_count": null,
      "outputs": [
        {
          "output_type": "stream",
          "name": "stdout",
          "text": [
            "10\n",
            "26\n"
          ]
        }
      ]
    },
    {
      "cell_type": "code",
      "source": [
        "d = {'oil':230,'cilp':150,'stud':175,'nut':35}\n",
        "d1 = sorted(d.items(),key = lambda kv:kv[1])\n",
        "print(d1)"
      ],
      "metadata": {
        "colab": {
          "base_uri": "https://localhost:8080/"
        },
        "id": "8aG_TLgRgtGj",
        "outputId": "0b541b7f-cc5e-4daa-ce42-2e80f38335d2"
      },
      "execution_count": null,
      "outputs": [
        {
          "output_type": "stream",
          "name": "stdout",
          "text": [
            "[('nut', 35), ('cilp', 150), ('stud', 175), ('oil', 230)]\n"
          ]
        }
      ]
    },
    {
      "cell_type": "markdown",
      "source": [
        "*Map, Filter & reduce operations in functional programming*\n",
        "\n",
        "     1} Map\n",
        "         applies function to each element in sequence returns a new sequence\n",
        "     2} Filter operation\n",
        "         appiles function to each element in sequence returns a\n",
        "         sequence of element for which function returns true\n",
        "     3} Reduce operation\n",
        "         Performed a rolling computation to sequential pairs of values\n",
        "         in a sequence and returns the result\n",
        "\n",
        "    # Facilitated by higher-order functions - map(),filter(),reduce()\n",
        "    # Eliminate need for loop & if while iterating over sequence\n",
        "    # Since map, filter and reduce operations are so commonly used, Python has built-in functions that you can use to perform these\n",
        "      operations. These functions are ‘map()’, ‘filter()’ and ‘reduce()’.\n",
        "      These are called higher-order functions because they eliminate the need for ‘for’ or ‘if’ while iterating through a sequence.\n",
        "    \n",
        "\n",
        "      "
      ],
      "metadata": {
        "id": "mJ_uEu-BjK-s"
      }
    },
    {
      "cell_type": "markdown",
      "source": [
        "*Map(), Filter() & Reduce() functions*"
      ],
      "metadata": {
        "id": "eQ73O7NUadeb"
      }
    },
    {
      "cell_type": "markdown",
      "source": [
        "    Example:\n",
        "      1} Map operation\n",
        "         A} Find square root of elements in a list and return a list of roots\n",
        "         B} Convert all chars in a list to captial letters & return a list of capital letters  \n",
        "      2} Filter operation\n",
        "         A} Check if each elements in a list is an alphabet and return a list of alphabet\n",
        "         B} Check if each elements in a list is odd and return a list of odd numbers\n",
        "      3} Reduce opeartion\n",
        "         A} Obtain product of a list of integer and return product\n",
        "         B} Concatenate all strings in a list and return final string\n",
        "          \n"
      ],
      "metadata": {
        "id": "aOOMMo1xYtVP"
      }
    },
    {
      "cell_type": "markdown",
      "source": [
        "*Map() function*\n",
        "    \n",
        "    General form:\n",
        "       map(function_to_apply,list_of_inputs)"
      ],
      "metadata": {
        "id": "adExmychgMd_"
      }
    },
    {
      "cell_type": "code",
      "source": [
        "# Map() function\n",
        "import math\n",
        "def fun(n):\n",
        "  return n*n\n",
        "\n",
        "lst = [5,10,15,20,25]\n",
        "m2 = map(math.factorial,lst)     # by using map function which we have inported\n",
        "m3 = map(fun,lst)                # by the function which we have created\n",
        "# map() returns a map object it is converted using list()\n",
        "\n",
        "print(list(m2))      # list of factorial\n",
        "print(list(m3))      # list of square\n",
        "\n",
        "# m1 = map(math.radians.lst)       # by using map function which we have inported\n",
        "#print(list(m1))      # list of radians"
      ],
      "metadata": {
        "id": "jwLw2EMeiZtS",
        "colab": {
          "base_uri": "https://localhost:8080/"
        },
        "outputId": "e38ce43d-fdef-4a53-a6bf-67af6f21b16c"
      },
      "execution_count": null,
      "outputs": [
        {
          "output_type": "stream",
          "name": "stdout",
          "text": [
            "[120, 3628800, 1307674368000, 2432902008176640000, 15511210043330985984000000]\n",
            "[25, 100, 225, 400, 625]\n"
          ]
        }
      ]
    },
    {
      "cell_type": "markdown",
      "source": [
        "*Filter() function*\n",
        "\n",
        "    General form\n",
        "      filter(function_to_apply,list_of_inputs)\n",
        "    # filter() returns a filter object\n",
        "      it is converted using list()\n",
        "\n"
      ],
      "metadata": {
        "id": "YrxTqqx_7U8-"
      }
    },
    {
      "cell_type": "code",
      "source": [
        "lst1 = ['A','B','C','4','F','D','5','2','M']\n",
        "f1 = filter(str.isalpha,lst1)     #str.isalpha is method or function\n",
        "print(list(f1))"
      ],
      "metadata": {
        "id": "NVzoBkd7mEWw",
        "colab": {
          "base_uri": "https://localhost:8080/"
        },
        "outputId": "9e93ca6b-5513-4bf2-a974-8468977a93b1"
      },
      "execution_count": null,
      "outputs": [
        {
          "output_type": "stream",
          "name": "stdout",
          "text": [
            "['A', 'B', 'C', 'F', 'D', 'M']\n"
          ]
        }
      ]
    },
    {
      "cell_type": "code",
      "source": [
        "def fun(n):\n",
        "  if n % 5 == 0:\n",
        "    return True\n",
        "  else:\n",
        "    return False\n",
        "\n",
        "lst2 = [2,4,6,8,10,12,14,15,16,17,18,20,25,23,25,39,30]\n",
        "f2 = filter(fun,lst2)   # creating function by own\n",
        "print(list(f2))"
      ],
      "metadata": {
        "colab": {
          "base_uri": "https://localhost:8080/"
        },
        "id": "H-rBXx2I8RSk",
        "outputId": "f2a20af2-47e7-4dff-de7b-6d2e0523771a"
      },
      "execution_count": null,
      "outputs": [
        {
          "output_type": "stream",
          "name": "stdout",
          "text": [
            "[10, 15, 20, 25, 25, 30]\n"
          ]
        }
      ]
    },
    {
      "cell_type": "markdown",
      "source": [
        "*Reduce function*\n",
        "\n",
        "    General form\n",
        "       reduce(function_to_apply,list_of_inputs)"
      ],
      "metadata": {
        "id": "4RQjj0dB_6Zx"
      }
    },
    {
      "cell_type": "code",
      "source": [
        "from functools import reduce\n",
        "\n",
        "def getsum(x,y):\n",
        "  return x+y\n",
        "\n",
        "def getprod(x,y):\n",
        "  return x*y\n",
        "\n",
        "lst3 = [1,2,3,4,5]\n",
        "s = reduce(getsum,lst3)      # Working ((((1+2)+3)+4)+5)\n",
        "p = reduce(getprod,lst3)     # Working ((((1*2)*3)*4)*5)\n",
        "print(s)\n",
        "print(p)"
      ],
      "metadata": {
        "colab": {
          "base_uri": "https://localhost:8080/"
        },
        "id": "R8m_rc8C-bgd",
        "outputId": "d64d0305-a17f-45e3-a3d3-fabd9cd6e4e0"
      },
      "execution_count": null,
      "outputs": [
        {
          "output_type": "stream",
          "name": "stdout",
          "text": [
            "15\n",
            "120\n"
          ]
        }
      ]
    },
    {
      "cell_type": "code",
      "source": [
        "lst = [1,11,111]\n",
        "def incre(x):\n",
        "    return x+1\n",
        "print(list(map(incre, lst)))"
      ],
      "metadata": {
        "colab": {
          "base_uri": "https://localhost:8080/"
        },
        "id": "fVChB9IGEu1e",
        "outputId": "b3d97bb5-3638-4fa3-9c36-f768d50e5769"
      },
      "execution_count": null,
      "outputs": [
        {
          "output_type": "stream",
          "name": "stdout",
          "text": [
            "[2, 12, 112]\n"
          ]
        }
      ]
    },
    {
      "cell_type": "code",
      "source": [
        "lst = ['1', 'Python', 'Forever', '!23']\n",
        "filt = list(filter(str.isdigit,lst))\n",
        "print(filt)"
      ],
      "metadata": {
        "colab": {
          "base_uri": "https://localhost:8080/"
        },
        "id": "YZP5WGcjGte0",
        "outputId": "1c1f6b20-d69a-4bd9-8dbc-62f3a585dee7"
      },
      "execution_count": null,
      "outputs": [
        {
          "output_type": "stream",
          "name": "stdout",
          "text": [
            "['1']\n"
          ]
        }
      ]
    },
    {
      "cell_type": "markdown",
      "source": [
        "*what are modules*"
      ],
      "metadata": {
        "id": "MNn1ohFxG8cm"
      }
    },
    {
      "cell_type": "markdown",
      "source": [
        "    1} Module\n",
        "       py. file containing definitions & sets all .py files are modules\n",
        "    2} on program execution\n",
        "       module name is __main__\n",
        "       it is available in variable __name__"
      ],
      "metadata": {
        "id": "2chUzvr2LqV3"
      }
    },
    {
      "cell_type": "markdown",
      "source": [
        "    def display():\n",
        "      print(\"Cannot make history in incognito mode\")\n",
        "\n",
        "    def show():\n",
        "      print(\"Pizza is a pie chart of how much pizza is left\")\n",
        "\n",
        "    def(__name__)      ---- __main__\n",
        "    display()          ---- call\n",
        "    show()             ---- call\n",
        "  \n",
        "*Multiple modules*\n",
        "   \n",
        "    1} Reasons for creation:\n",
        "       Ease of development and maintenance\n",
        "       Reuse of existing code\n",
        "    2} How to Create modules\n",
        "       split big prog into multiple .py files keep common function in py.file\n",
        "    3}"
      ],
      "metadata": {
        "id": "4-tXH7nLMYUX"
      }
    },
    {
      "cell_type": "code",
      "source": [
        "def display( ) :\n",
        "    print('You cannot make History if you use Incognito Mode')\n",
        "print(__name__)\n",
        "display( )"
      ],
      "metadata": {
        "id": "-Q8yg33PG0kA",
        "colab": {
          "base_uri": "https://localhost:8080/"
        },
        "outputId": "fa4f1312-dc1e-4d6d-a9a6-4aa8f9992fa1"
      },
      "execution_count": null,
      "outputs": [
        {
          "output_type": "stream",
          "name": "stdout",
          "text": [
            "__main__\n",
            "You cannot make History if you use Incognito Mode\n"
          ]
        }
      ]
    },
    {
      "cell_type": "markdown",
      "source": [
        "*Importing Modules*\n",
        "\n",
        "   "
      ],
      "metadata": {
        "id": "LeRHeQhoOwXj"
      }
    },
    {
      "cell_type": "markdown",
      "source": [
        "     # fucntion.py\n",
        "    def display( ) :\n",
        "       print('You cannot make History if you use Incognito Mode')\n",
        "\n",
        "    def show( ) :\n",
        "       print('Pizza is a pie chart of how much pizza is left')\n",
        "\n",
        "    # use functions.py\n",
        "       import functions                   #-- makes display() & show() available\n",
        "       functions.display( )\n",
        "       functions.show( )"
      ],
      "metadata": {
        "id": "X3ujgqwDUuBB"
      }
    },
    {
      "cell_type": "markdown",
      "source": [
        "*Importing Multiple modules*\n",
        "\n",
        "    import math        --- standard modules\n",
        "    import random      --- standard modules\n",
        "    import functions   --- User-defined module\n",
        "    \n",
        "    a = 100\n",
        "    b = 200"
      ],
      "metadata": {
        "id": "j1HS79MnU7ZM"
      }
    },
    {
      "cell_type": "code",
      "source": [
        "import math        #--- standard modules\n",
        "import random     # --- standard modules\n",
        "# import function  # --- User-defined module\n",
        "\n",
        "a = 100\n",
        "b = 200\n",
        "\n",
        "print(__name__)\n",
        "print(math.sqrt(a))\n",
        "print(random.randint(1,50))\n",
        "print(math.sin(a))\n",
        "print(random.random())\n",
        "# print(function.display())"
      ],
      "metadata": {
        "colab": {
          "base_uri": "https://localhost:8080/"
        },
        "id": "SeXngZN0UfTU",
        "outputId": "872fd55e-9683-4f18-ff87-117f67065648"
      },
      "execution_count": null,
      "outputs": [
        {
          "output_type": "stream",
          "name": "stdout",
          "text": [
            "__main__\n",
            "10.0\n",
            "25\n",
            "-0.5063656411097588\n",
            "0.7932616004284975\n"
          ]
        }
      ]
    },
    {
      "cell_type": "markdown",
      "source": [
        "*Variation of import*\n",
        "\n",
        "    import math\n",
        "    import random\n",
        "    # Another why to import\n",
        "    import math,random\n",
        "\n",
        "*Importing specific names from a module*\n",
        "\n",
        "    from math import sin,cos,tan\n",
        "    from function import display    --It only important the display function not show function\n",
        "    from functions import *         -- import all function\n",
        "\n",
        "*Renaming a module while importing it*\n",
        "    \n",
        "    import functions as fun\n",
        "    fun.display()\n",
        "\n",
        "*Renaming a function while importing it*\n",
        "    \n",
        "    from functions import display as disp\n",
        "    disp()\n"
      ],
      "metadata": {
        "id": "AWaAWLTXgdeQ"
      }
    },
    {
      "cell_type": "markdown",
      "source": [
        "*Search Sequence*\n",
        "  \n",
        "    import myfuncs\n",
        "      a] search for a built-in module 'myfuncs'\n",
        "      b] search in directory list in sys.path   ---- sys.path = current dir + PYTHONPATH list\n",
        "    \n",
        "    to check all the directory present in the sys.path foe that\n",
        "    import sys\n",
        "    for p in sys.path:  \n",
        "      print(p)\n",
        "    # it will print all directory in list present in the sys.path\n",
        "    "
      ],
      "metadata": {
        "id": "rBByBb91jMUK"
      }
    },
    {
      "cell_type": "markdown",
      "source": [
        "*Using modules*"
      ],
      "metadata": {
        "id": "Zg3m85cumsSZ"
      }
    },
    {
      "cell_type": "markdown",
      "source": [
        "*Same code, Different interpretation*\n",
        "   \n",
        "    Module : functions\n",
        "    display() and main()\n",
        "\n",
        "    # Execute\n",
        "    1} As an independent script\n",
        "    2} As a module containing display()\n",
        "\n",
        "    # function.py --- module name as well as file name\n",
        "\n",
        "    def display():\n",
        "      print(\"Wright brothers are responsible for 9/11 too\")\n",
        "\n",
        "    def main():\n",
        "      print(\"Internt connects people at a long distance\")\n",
        "      print(\"Internet disconnects people at a short distance\")\n",
        "      display()\n",
        "\n",
        "    if __name__ == \"+__main__\":\n",
        "       main()\n",
        "\n"
      ],
      "metadata": {
        "id": "vz3QZqHAzmJQ"
      }
    },
    {
      "cell_type": "markdown",
      "source": [
        "*What are Packages*"
      ],
      "metadata": {
        "id": "53uwio6baGAn"
      }
    },
    {
      "cell_type": "markdown",
      "source": [
        "    1] Purpose:\n",
        "       Organise sub-Packages and modules  \n",
        "    2] For a directory to be treated as a package:\n",
        "       it should contain __init__.py\n",
        "       May contain sub-pkgs and modules\n",
        "\n",
        "    # We can say that Packages is the container for sub-packages and modules\n",
        "      \n",
        "    3] the __init__.py file will either:\n",
        "       Be empty\n",
        "       Have initialisation code for packages"
      ],
      "metadata": {
        "id": "53ocIyjwbH4H"
      }
    },
    {
      "cell_type": "markdown",
      "source": [
        "*Third Party Packages*\n",
        "\n",
        "    1] Created y Pythonistas\n",
        "       distributed through Pypl\n",
        "       Python Pkg index (www.pygi.org)\n",
        "    2] Which Packages Exist?\n",
        "       Everything under the sun\n",
        "       We too can upload packages at PyPl\n",
        "    3] To use a Package avlbl at pypi\n",
        "       Download and install it\n",
        "       installation done thro mgr pip\n",
        "    4] pip Package Mangaer\n",
        "       installed when python is installed\n",
        "       Example: c:\\> pip install pykrige\n",
        "    5] most popular third-party packages available on the internet:\n",
        "      NumPy , pandas , Matplotlib ,\n",
        "      SeaBorn , scikit-learn , Requests , NLTK"
      ],
      "metadata": {
        "id": "JRJr0h7bkPZs"
      }
    },
    {
      "cell_type": "markdown",
      "source": [
        "*Identifier, Variables and Their Scopes’*"
      ],
      "metadata": {
        "id": "_UlBdx7h5l1t"
      }
    },
    {
      "cell_type": "markdown",
      "source": [
        "    1] There are several identifiers in a program such as:\n",
        "       Variable names, function names and class name\n",
        "    2] Python interpreter creates the symbol table and uses it to store identifiers and their information\n",
        "    3] Information of identifiers includes:\n",
        "       Type of the identifier\n",
        "       Scope level of identifier\n",
        "       Its loaction in memory\n",
        "    4] Info is used by the interpreter:\n",
        "       to validate opns on identifier\n",
        "       Ex. Tuple modification - Rejected"
      ],
      "metadata": {
        "id": "BCvBN1dbMzT9"
      }
    },
    {
      "cell_type": "markdown",
      "source": [
        "*Names Space*"
      ],
      "metadata": {
        "id": "ufOyF4mHQ7bo"
      }
    },
    {
      "cell_type": "markdown",
      "source": [
        "    1] Namespace is a logical container that holds names (identifiers)\n",
        "    2] Programatically , a namespace is a dictionary of identifers: objects\n",
        "    3] Local namespace\n",
        "       Contains identifiers used in a function / method\n",
        "    4] Global namespace\n",
        "       Contain identifiers used outside a function or a method"
      ],
      "metadata": {
        "id": "ErNfVN5dRRG4"
      }
    },
    {
      "cell_type": "markdown",
      "source": [
        "    Local & Global Namespace\n",
        "\n",
        "    def fun():\n",
        "       a = 45 ------ it is loacl and it will conflict. shadows global a\n",
        "       global b\n",
        "       b = 7.34  ----- conflict. Use global b\n",
        "       # s not defied as global as it is not being changed  \n",
        "       print(a,b,s)  ---- Output: Uses local a , global b and s (45,6.25,Dabra)\n",
        "\n",
        "     # Global identifiers\n",
        "     a = 20\n",
        "     b = 3.12\n",
        "     s = \"Harsh\"\n",
        "     fun()"
      ],
      "metadata": {
        "id": "w0Vl9TbWSa--"
      }
    },
    {
      "cell_type": "markdown",
      "source": [
        "*Global and Local Variables*"
      ],
      "metadata": {
        "id": "gMZEmrIpfOUq"
      }
    },
    {
      "cell_type": "markdown",
      "source": [
        "    This both are built in function\n",
        "\n",
        "    1] locals() is a built-in function that returns a dictionary of local identifiers that are accessible a particular functions/method\n",
        "    2] globals()\n",
        "       Returns a dict of global identifiers accessible from that func/method\n",
        "    3] Usage: locals() & Globals()\n",
        "       \n",
        "       def fun():\n",
        "          a = 45\n",
        "          global b\n",
        "          b = 6.28\n",
        "          print(loacls())   -- {'a':45}\n",
        "          print(globals())  -- {'a':20,'b':6.28,'s':'Harsh'}\n",
        "\n",
        "\n",
        "       a = 20\n",
        "       b = 3.14\n",
        "       s = 'Harsh'\n",
        "       print(locals())  ---{'a':20,'b':6.28,'s':'Harsh'}\n",
        "       print(globals())  ---{'a':20,'b':6.28,'s':'Harsh'}\n",
        "       fun()\n",
        "\n",
        "\n",
        "    \n",
        "      4] Usage: Access variables\n",
        "\n",
        "         a = 20\n",
        "         b = 3.14\n",
        "         s = \"Harsh\"\n",
        "         lst = ['a','b','s']\n",
        "         for var in lst:\n",
        "            print(globals()[var])\n",
        "                 --- output: 20 , 3.14 , Harsh\n",
        "        \n",
        "      5] Usage: Call Functions\n",
        "         \n",
        "          def fun1():\n",
        "             print(\"inside fun 1\")\n",
        "          def fun2():\n",
        "             print(\"inside fun 2\")\n",
        "          def fun3():\n",
        "             print(\"inside fun 3\")\n",
        "            \n",
        "          lst = ['fun1','fun2','fun3']\n",
        "          for var in lst:\n",
        "              globals()[var]()\n",
        "\n",
        "         "
      ],
      "metadata": {
        "id": "b15I5DSN2NYe"
      }
    },
    {
      "cell_type": "code",
      "source": [
        "  def fun( ) :\n",
        "    a = 45\n",
        "    print(a)\n",
        "a = 20\n",
        "fun( )\n",
        "print(a)"
      ],
      "metadata": {
        "id": "Jzqwxe5wbHwN",
        "colab": {
          "base_uri": "https://localhost:8080/"
        },
        "outputId": "e8134d76-9f13-4f44-b6d8-e7acaad94d48"
      },
      "execution_count": null,
      "outputs": [
        {
          "output_type": "stream",
          "name": "stdout",
          "text": [
            "45\n",
            "20\n"
          ]
        }
      ]
    },
    {
      "cell_type": "code",
      "source": [
        "def fun( ) :\n",
        "    a = 45\n",
        "    global b\n",
        "    b = 6.28\n",
        "    print(a, b, s)\n",
        "\n",
        "a = 20\n",
        "b = 3.14\n",
        "s = 'Aabra Ka Daabra'\n",
        "fun( )\n",
        "print(a, b, s)"
      ],
      "metadata": {
        "id": "tH9ueqZKe4Wa",
        "colab": {
          "base_uri": "https://localhost:8080/"
        },
        "outputId": "3db50e01-cb95-4c5d-bb1d-ff5f3b4fbf0a"
      },
      "execution_count": null,
      "outputs": [
        {
          "output_type": "stream",
          "name": "stdout",
          "text": [
            "45 6.28 Aabra Ka Daabra\n",
            "20 6.28 Aabra Ka Daabra\n"
          ]
        }
      ]
    },
    {
      "cell_type": "code",
      "source": [
        "def f1():\n",
        "    x=10\n",
        "    print(x)\n",
        "    x+=10\n",
        "f1()"
      ],
      "metadata": {
        "id": "a-syKgFSmTJO",
        "colab": {
          "base_uri": "https://localhost:8080/"
        },
        "outputId": "8154eaf9-6833-4563-c989-f702cf5ca53a"
      },
      "execution_count": null,
      "outputs": [
        {
          "output_type": "stream",
          "name": "stdout",
          "text": [
            "10\n"
          ]
        }
      ]
    },
    {
      "cell_type": "markdown",
      "source": [
        "*Type of scopes for identifiers*"
      ],
      "metadata": {
        "id": "B_GrVKb19wzp"
      }
    },
    {
      "cell_type": "markdown",
      "source": [
        "    Using local and global function we are able to find out at the given point in our program\n",
        "    which identifer are able local will return the list local identifier which are avaible\n",
        "    where as global will return the list of global identifier which are avaible"
      ],
      "metadata": {
        "id": "QTPk2wXoAJ-l"
      }
    },
    {
      "cell_type": "markdown",
      "source": [
        "      Inner function\n",
        "\n",
        "      def display(): -------- Outer function\n",
        "         a = 500\n",
        "         print(\"Saving is the best thing....\")\n",
        "\n",
        "         def show(): -------- Inner function\n",
        "         print(\"if your parents have done it for you!\")\n",
        "         print(a)   \n",
        "\n",
        "         show()\n",
        "      display()\n",
        "\n",
        "         -- Output will be\n",
        "            Saving is the best thing...\n",
        "            if your parents have done it for you!\n",
        "            500\n",
        "\n",
        "     - Show() can be called only from within display()\n",
        "     - Inner function can access variable of outer function\n",
        "     - inner function can't chaange value of variable of outer function\n",
        "     - a = 600 in show() would create a new local a"
      ],
      "metadata": {
        "id": "4TZKhswuBdjc"
      }
    },
    {
      "cell_type": "markdown",
      "source": [
        "      Scope and legb rule\n",
        "      Four types of possible scope\n",
        "      1] local(L)      -- most restricketive\n",
        "      2] Enclosing(E)  --\n",
        "      3] Global(G)     --\n",
        "      4] Built-in(B)   -- mostly liberal\n",
        "\n",
        "      # How Dose Scope work?\n",
        "        Scope Becomes more liberal from local to built in\n",
        "\n",
        "      # Example:\n",
        "         \n",
        "        def fun1():  -- outer function\n",
        "           y = 20\n",
        "           print(x,y)    --output(10,20) (x is global & y is loacl here)\n",
        "           print(len(str(x))) --- output: 2\n",
        "\n",
        "           def fun2()  --- inner function\n",
        "           z = 30\n",
        "           print(x,y,z)   --- output 10 , 20 , 30 because 10 is global and 20 is outer and 30 is local here\n",
        "           print(len(str(x))) --- output: 2\n",
        "\n",
        "\n",
        "        x = 10\n",
        "        print(len(str(x))) --- output: 2\n",
        "        fun1()\n",
        "\n",
        "\n",
        "        - len(),str(),print()  have built in scope\n",
        "        - x has global scope\n",
        "        - y is enclosing scope\n",
        "        - z has the local scope"
      ],
      "metadata": {
        "id": "LxIHoYFQFpIU"
      }
    },
    {
      "cell_type": "code",
      "source": [
        "def f1():\n",
        "    x=100\n",
        "    def f2():\n",
        "        x=200\n",
        "        print(x)\n",
        "    f2()\n",
        "    print(x)\n",
        "f1()"
      ],
      "metadata": {
        "colab": {
          "base_uri": "https://localhost:8080/"
        },
        "id": "9mrJcmfEBdLI",
        "outputId": "3efee787-71e3-42da-9779-0c16ff9daba3"
      },
      "execution_count": null,
      "outputs": [
        {
          "output_type": "stream",
          "name": "stdout",
          "text": [
            "200\n",
            "100\n"
          ]
        }
      ]
    },
    {
      "cell_type": "code",
      "source": [
        "def rec_func(n):\n",
        "    if n == 0:\n",
        "        return n\n",
        "    else:\n",
        "        return n + rec_func(n-1)\n",
        "\n",
        "result = rec_func(10)\n",
        "print(result)"
      ],
      "metadata": {
        "colab": {
          "base_uri": "https://localhost:8080/"
        },
        "id": "at9GMDiJ9how",
        "outputId": "515b2463-7951-45f5-8d45-24cd8a866041"
      },
      "execution_count": null,
      "outputs": [
        {
          "output_type": "stream",
          "name": "stdout",
          "text": [
            "55\n"
          ]
        }
      ]
    },
    {
      "cell_type": "code",
      "source": [
        "y = 3\n",
        "z = lambda x: x ** y\n",
        "print(z(10))"
      ],
      "metadata": {
        "colab": {
          "base_uri": "https://localhost:8080/"
        },
        "id": "PCuumjr5Kj-4",
        "outputId": "076795e5-0ed0-4d35-8f8a-c293d1cdeb59"
      },
      "execution_count": null,
      "outputs": [
        {
          "output_type": "stream",
          "name": "stdout",
          "text": [
            "1000\n"
          ]
        }
      ]
    },
    {
      "cell_type": "code",
      "source": [
        "def person(*args):\n",
        "    for i in args:\n",
        "        print(i)\n",
        "person(name=\"Python\", age=\"31\")"
      ],
      "metadata": {
        "colab": {
          "base_uri": "https://localhost:8080/",
          "height": 176
        },
        "id": "ldKhkaKbKuHp",
        "outputId": "398f62e4-bdf2-407c-b327-b9ded8d3067f"
      },
      "execution_count": null,
      "outputs": [
        {
          "output_type": "error",
          "ename": "TypeError",
          "evalue": "person() got an unexpected keyword argument 'name'",
          "traceback": [
            "\u001b[0;31m---------------------------------------------------------------------------\u001b[0m",
            "\u001b[0;31mTypeError\u001b[0m                                 Traceback (most recent call last)",
            "\u001b[0;32m<ipython-input-7-bd88dcf1725f>\u001b[0m in \u001b[0;36m<cell line: 4>\u001b[0;34m()\u001b[0m\n\u001b[1;32m      2\u001b[0m     \u001b[0;32mfor\u001b[0m \u001b[0mi\u001b[0m \u001b[0;32min\u001b[0m \u001b[0margs\u001b[0m\u001b[0;34m:\u001b[0m\u001b[0;34m\u001b[0m\u001b[0;34m\u001b[0m\u001b[0m\n\u001b[1;32m      3\u001b[0m         \u001b[0mprint\u001b[0m\u001b[0;34m(\u001b[0m\u001b[0mi\u001b[0m\u001b[0;34m)\u001b[0m\u001b[0;34m\u001b[0m\u001b[0;34m\u001b[0m\u001b[0m\n\u001b[0;32m----> 4\u001b[0;31m \u001b[0mperson\u001b[0m\u001b[0;34m(\u001b[0m\u001b[0mname\u001b[0m\u001b[0;34m=\u001b[0m\u001b[0;34m\"Python\"\u001b[0m\u001b[0;34m,\u001b[0m \u001b[0mage\u001b[0m\u001b[0;34m=\u001b[0m\u001b[0;34m\"31\"\u001b[0m\u001b[0;34m)\u001b[0m\u001b[0;34m\u001b[0m\u001b[0;34m\u001b[0m\u001b[0m\n\u001b[0m",
            "\u001b[0;31mTypeError\u001b[0m: person() got an unexpected keyword argument 'name'"
          ]
        }
      ]
    },
    {
      "cell_type": "code",
      "source": [
        "def func1(a, b):\n",
        "    def func2(c, d):\n",
        "        return c + d\n",
        "    return func2(a, b)\n",
        "ans= func1(22, 33)\n",
        "print(ans)"
      ],
      "metadata": {
        "colab": {
          "base_uri": "https://localhost:8080/"
        },
        "id": "gbLlY4pVKw_5",
        "outputId": "816aa4bd-1c89-49b7-cca5-1ce0b230f85a"
      },
      "execution_count": null,
      "outputs": [
        {
          "output_type": "stream",
          "name": "stdout",
          "text": [
            "55\n"
          ]
        }
      ]
    },
    {
      "cell_type": "code",
      "source": [
        "a=10\n",
        "b=20\n",
        "def reversed():\n",
        "    global b\n",
        "    a=20\n",
        "    b=10\n",
        "reversed()\n",
        "print(a)\n",
        "print(b)"
      ],
      "metadata": {
        "colab": {
          "base_uri": "https://localhost:8080/"
        },
        "id": "aVXyYq9fKzoN",
        "outputId": "a7212033-0549-482a-9719-c1c4604ca1a4"
      },
      "execution_count": null,
      "outputs": [
        {
          "output_type": "stream",
          "name": "stdout",
          "text": [
            "10\n",
            "10\n"
          ]
        }
      ]
    },
    {
      "cell_type": "code",
      "source": [
        "def cumulative(num):\n",
        "    if num in [0, 1]:\n",
        "        return num\n",
        "    else:\n",
        "        return num + cumulative(num − 1)\n",
        "sum = cumulative (5)\n",
        "print(sum)"
      ],
      "metadata": {
        "colab": {
          "base_uri": "https://localhost:8080/",
          "height": 106
        },
        "id": "RwUTRkqqK2j1",
        "outputId": "70d8448f-b687-469d-dcab-21d57ea8d62f"
      },
      "execution_count": null,
      "outputs": [
        {
          "output_type": "error",
          "ename": "SyntaxError",
          "evalue": "invalid character '−' (U+2212) (<ipython-input-11-d172336fae0e>, line 5)",
          "traceback": [
            "\u001b[0;36m  File \u001b[0;32m\"<ipython-input-11-d172336fae0e>\"\u001b[0;36m, line \u001b[0;32m5\u001b[0m\n\u001b[0;31m    return num + cumulative(num − 1)\u001b[0m\n\u001b[0m                                ^\u001b[0m\n\u001b[0;31mSyntaxError\u001b[0m\u001b[0;31m:\u001b[0m invalid character '−' (U+2212)\n"
          ]
        }
      ]
    },
    {
      "cell_type": "code",
      "source": [
        "from functools import reduce\n",
        "\n",
        "lst= [\"python\", \"rules\",  \"forever\"]\n",
        "biggest = reduce(lambda x, y: x if len(x) > len(y) else y, lst)\n",
        "print(biggest)"
      ],
      "metadata": {
        "colab": {
          "base_uri": "https://localhost:8080/"
        },
        "id": "XLsakKUQK5o_",
        "outputId": "ea84d670-ac92-4303-d40d-0be029a2c5ea"
      },
      "execution_count": null,
      "outputs": [
        {
          "output_type": "stream",
          "name": "stdout",
          "text": [
            "forever\n"
          ]
        }
      ]
    },
    {
      "cell_type": "code",
      "source": [
        "def knight():\n",
        "    title = 'Sir'\n",
        "    name = (lambda x:print(title + ' ' + x))\n",
        "    return name\n",
        "surname = knight()\n",
        "surname('Richard')"
      ],
      "metadata": {
        "colab": {
          "base_uri": "https://localhost:8080/"
        },
        "id": "M3TTAjpMLLjc",
        "outputId": "6f9386de-b506-4aa4-acc7-7ec2e374222b"
      },
      "execution_count": null,
      "outputs": [
        {
          "output_type": "stream",
          "name": "stdout",
          "text": [
            "Sir Richard\n"
          ]
        }
      ]
    },
    {
      "cell_type": "code",
      "source": [
        "# prompt: Write a program that defines a function ‘compute()’ that calculates the value of ‘n + nn + nnn + nnnn', where n is a digit received by the function. Test the function for digits 4 and 7.\n",
        "\n",
        "def compute(n):\n",
        "  # Convert the digit to a string.\n",
        "  n_str = str(n)\n",
        "  # Initialize the result.\n",
        "  result = n\n",
        "  # Iterate over the powers of 10.\n",
        "  for power in range(2, 5):\n",
        "    # Multiply the digit by the power of 10 and add it to the result.\n",
        "    result += int(n_str * power)\n",
        "  # Return the result.\n",
        "  return result\n",
        "\n",
        "# Test the function for digits 4 and 7.\n",
        "print(compute(4))\n",
        "print(compute(7))\n"
      ],
      "metadata": {
        "id": "jGnUBHqPLPke"
      },
      "execution_count": null,
      "outputs": []
    }
  ]
}