{
  "nbformat": 4,
  "nbformat_minor": 0,
  "metadata": {
    "colab": {
      "provenance": [],
      "authorship_tag": "ABX9TyNiWf5ye+yu2dDao1OfHRLv",
      "include_colab_link": true
    },
    "kernelspec": {
      "name": "python3",
      "display_name": "Python 3"
    },
    "language_info": {
      "name": "python"
    }
  },
  "cells": [
    {
      "cell_type": "markdown",
      "metadata": {
        "id": "view-in-github",
        "colab_type": "text"
      },
      "source": [
        "<a href=\"https://colab.research.google.com/github/HarshAade/Python-Complete-By-Harsh-/blob/main/Python_Part_02.ipynb\" target=\"_parent\"><img src=\"https://colab.research.google.com/assets/colab-badge.svg\" alt=\"Open In Colab\"/></a>"
      ]
    },
    {
      "cell_type": "markdown",
      "source": [
        "*Decision Control Instruction*\n",
        "     \n",
        "    There are 3 Ways\n",
        "       1} if condition:\n",
        "             statement_1\n",
        "             statement_2\n",
        "\n",
        "       2} if condition:\n",
        "             statement_1\n",
        "             statement_2\n",
        "          else:\n",
        "             statement_3\n",
        "             statement_4\n",
        "\n",
        "       3} if condition_1:\n",
        "             statement_1\n",
        "             statement_2\n",
        "          elif condition_2:\n",
        "             statement_3\n",
        "          elif condition_3:\n",
        "             statement_4\n",
        "          else:\n",
        "             statement_5\n",
        "\n",
        "\n",
        "       Rules\n",
        "          a} : after if,else,elif is compulsory\n",
        "          b} indent statement in if ,else,elif block\n",
        "          c} Use either 4 spaces or a tab for indentation\n",
        "          d} don't mix tabs and spaces\n",
        "          e} if-else statement can be nested"
      ],
      "metadata": {
        "id": "gUphoe5oYv-r"
      }
    },
    {
      "cell_type": "markdown",
      "source": [
        "*Conitions*\n",
        "     \n",
        "     1} Conditions Built Using Relation Operator        \n",
        "        a} # Less than\n",
        "             if 2 < 3:\n",
        "               print(\"2 is less than 3\")\n",
        "        b} # Greater than\n",
        "             if 3 > 2:\n",
        "               print(\"3 is greater than 2\")\n",
        "        c} # Less than or equal to\n",
        "             if 2 <= 3:\n",
        "               print(\"2 is less than or equal to 3\")\n",
        "        d} # Greater than or equal to\n",
        "             if 3 >= 2:\n",
        "               print(\"3 is greater than or equal to 2\")\n",
        "        e} # Equal to\n",
        "            if 2 == 2:\n",
        "               print(\"2 is equal to 2\")\n",
        "        f} # Not equal to\n",
        "            if 2 != 3:\n",
        "               print(\"2 is not equal to 3\")\n",
        "\n",
        "    2} Note the Difference\n",
        "        a = b - is assignment\n",
        "        a == b - is comparison\n",
        "  "
      ],
      "metadata": {
        "id": "JPDdEQ07bL3J"
      }
    },
    {
      "cell_type": "markdown",
      "source": [
        "*Logical Expressions*\n",
        "\n",
        "       1} Logical and Operator\n",
        "            a} and evaluates all expression\n",
        "            b} it returns last expr if all expr evaluate to true\n",
        "            c} otherwise , it retrun first value that evaluates to false\n",
        "          Example :\n",
        "             a = 40\n",
        "             b = 30\n",
        "             x = 75 and a >= 20 and b < 60 and 35\n",
        "             y = -30 and a >= 20 and b < 15 and 35\n",
        "             z = -30 and a >= 20 and 0 and 35   \n",
        "    \n",
        "    \n",
        "    "
      ],
      "metadata": {
        "id": "mzDJUkZ7dmx0"
      }
    },
    {
      "cell_type": "code",
      "source": [
        "a = 40\n",
        "b = 30\n",
        "x = 75 and a >= 20 and b < 60 and 35\n",
        "y = -30 and a >= 20 and b < 15 and 35\n",
        "z = -30 and a >= 20 and 0 and 35\n",
        "print(x)\n",
        "print(y)\n",
        "print(z)"
      ],
      "metadata": {
        "id": "fGb-dOK_dF0l",
        "colab": {
          "base_uri": "https://localhost:8080/"
        },
        "outputId": "cc3e8554-41b6-4f47-ea0c-c27e775d1384"
      },
      "execution_count": null,
      "outputs": [
        {
          "output_type": "stream",
          "name": "stdout",
          "text": [
            "35\n",
            "False\n",
            "0\n"
          ]
        }
      ]
    },
    {
      "cell_type": "markdown",
      "source": [
        "    2} Logical or operator\n",
        "        a} or operator evaluates all expression\n",
        "        b} it returns the first value  that evaluates to true\n",
        "        c} Otherwise, it returns last value that evaluates to false\n",
        "     Example:\n",
        "       a = 40\n",
        "       b = 30\n",
        "       x = 75 or a>= 20 or 60\n",
        "       y = a >= 20 or 75 or 60\n",
        "       z = a < 20 or 0 or 35\n",
        "    "
      ],
      "metadata": {
        "id": "2JpYuAwy8HGS"
      }
    },
    {
      "cell_type": "code",
      "source": [
        "a = 40\n",
        "b = 30\n",
        "x = 75 or a>= 20 or 60\n",
        "y = a >= 20 or 75 or 60\n",
        "z = a < 20 or 0 or 35\n",
        "print(x)\n",
        "print(y)\n",
        "print(z)"
      ],
      "metadata": {
        "colab": {
          "base_uri": "https://localhost:8080/"
        },
        "id": "qrE-dD_R7_pk",
        "outputId": "f9457f51-16cb-4cbf-fec3-0d766a393ee0"
      },
      "execution_count": null,
      "outputs": [
        {
          "output_type": "stream",
          "name": "stdout",
          "text": [
            "75\n",
            "True\n",
            "35\n"
          ]
        }
      ]
    },
    {
      "cell_type": "markdown",
      "source": [
        "    3} Logial not operator\n",
        "        a} Condition's result can be negated using not\n",
        "          Example:\n",
        "              a = 10\n",
        "              b = 20\n",
        "                not(a <= b ) ---- False. Same as a > b\n",
        "                not( a >= b) ---- True. Same as a < b\n",
        "\n",
        "        b} Shortcut for toggling value between 1 and 0\n",
        "           Example:  \n",
        "              a = int(input('Enter 0 or 1')\n",
        "              a = not a -------- 0 if 1 , 1 if 0\n",
        "               \n",
        "               \n",
        "*all() AND any()*\n",
        "   \n",
        "    Its a bulit in Function\n",
        "      \n",
        "    1} all() - instead of and\n",
        "    2} any() - instead of or\n",
        "\n",
        "     a,b,c = 10,20,30\n",
        "      Example:\n",
        "        res = all((a>5,b>20,c>15))\n",
        "        print(res) ------ False\n",
        "   \n",
        "        res = any((a>5,b>20,c>15))\n",
        "        print(res) ------ True\n",
        "\n",
        "\n",
        "    A} all() & any() receive a string, list, tuple, set or dict\n",
        "    B} We have passed a tuple of 3 conditions to them\n",
        "    C} if dict, it is checked whether keys are true or not\n",
        "              \n",
        "             \n",
        "        \n",
        "      "
      ],
      "metadata": {
        "id": "K3NoYyvAF5T9"
      }
    },
    {
      "cell_type": "markdown",
      "source": [
        "*Conditional Expressions*\n",
        "  \n",
        "    Genral form is:\n",
        "      <expr_1> if <conditional expression> else <expr_2>\n",
        "\n",
        "      Example:\n",
        "         age = 18\n",
        "         status = 'minor' if age < 18 else 'adult'\n",
        "         \n",
        "    \n",
        "     "
      ],
      "metadata": {
        "id": "xi5owwT8SEXs"
      }
    },
    {
      "cell_type": "code",
      "source": [
        "age = 20\n",
        "status = 'minor' if age < 18 else 'adult'\n",
        "print(status)"
      ],
      "metadata": {
        "id": "ic4GOujTR2RJ",
        "colab": {
          "base_uri": "https://localhost:8080/"
        },
        "outputId": "307eae8b-990c-4f99-8cd1-e577295c7860"
      },
      "execution_count": null,
      "outputs": [
        {
          "output_type": "stream",
          "name": "stdout",
          "text": [
            "adult\n"
          ]
        }
      ]
    },
    {
      "cell_type": "markdown",
      "source": [
        "    Conditional Expressions can be nested\n",
        "     Example:\n",
        "        wt = 55\n",
        "        msg = 'Obese' if wt > 85 else 'Hefty' if wt > 60 else 'prim'"
      ],
      "metadata": {
        "id": "XLAJXN0auFdl"
      }
    },
    {
      "cell_type": "code",
      "source": [
        "wt = 55\n",
        "msg = 'Obese' if wt > 85 else 'Hefty' if wt > 60 else 'prim'\n",
        "print(msg)"
      ],
      "metadata": {
        "colab": {
          "base_uri": "https://localhost:8080/"
        },
        "id": "OOThk94Ytv6E",
        "outputId": "ba997d14-aaa6-4441-a665-9734bfdbdcff"
      },
      "execution_count": null,
      "outputs": [
        {
          "output_type": "stream",
          "name": "stdout",
          "text": [
            "prim\n"
          ]
        }
      ]
    },
    {
      "cell_type": "markdown",
      "source": [
        "*Repetition Control Instructions*\n",
        "  \n",
        "    1} while loop\n",
        "    2} for loop"
      ],
      "metadata": {
        "id": "oRQ5FzADw8ro"
      }
    },
    {
      "cell_type": "markdown",
      "source": [
        "    While Loop have 2 forms\n",
        "       1} while condition:\n",
        "             statement_1\n",
        "             statement_2\n",
        "\n",
        "       2} while condition:\n",
        "             statement_1\n",
        "             statement_2\n",
        "          else:\n",
        "             statement_3\n",
        "             statement_4\n",
        "\n",
        "          a} else block is optional\n",
        "          b} executed when condition fails\n",
        "          c} not executed if loop is terminated abruptly\n",
        "\n",
        "\n",
        "    Usage of while loop\n",
        "       a} Repeat a set of statements till a condition remains True\n",
        "       b} Repeat a set of statements a finite number of times\n",
        "       c} Iterate through a string list & tuple"
      ],
      "metadata": {
        "id": "KTyBedqLxgau"
      }
    },
    {
      "cell_type": "markdown",
      "source": [
        "    Example:\n",
        "       1} Repeat a set of statements till a condition remains Ture"
      ],
      "metadata": {
        "id": "EVFSnzzm1R_l"
      }
    },
    {
      "cell_type": "code",
      "source": [
        "num = int(input('Enter a number'))\n",
        "while num != 5:\n",
        "    print(num , num*num)\n",
        "    num = int(input('Enter a number'))"
      ],
      "metadata": {
        "colab": {
          "base_uri": "https://localhost:8080/"
        },
        "id": "aOMUGmEv5us8",
        "outputId": "add0a0c9-abf3-4f41-99fb-d9c257ab6cbd"
      },
      "execution_count": null,
      "outputs": [
        {
          "name": "stdout",
          "output_type": "stream",
          "text": [
            "Enter a number7\n",
            "7 49\n",
            "Enter a number8\n",
            "8 64\n",
            "Enter a number5\n"
          ]
        }
      ]
    },
    {
      "cell_type": "markdown",
      "source": [
        "    Example:\n",
        "       2} Repeat a set of statements a finite number of times  "
      ],
      "metadata": {
        "id": "xkeUfJM56XG-"
      }
    },
    {
      "cell_type": "code",
      "source": [
        "count = 0\n",
        "while count < 10:\n",
        " print(count,count*count,count*count*count)\n",
        " count += 1\n"
      ],
      "metadata": {
        "colab": {
          "base_uri": "https://localhost:8080/"
        },
        "id": "A5nr2WUOukRv",
        "outputId": "445e7bc9-ad32-4c29-a46e-f83384c5ed2d"
      },
      "execution_count": null,
      "outputs": [
        {
          "output_type": "stream",
          "name": "stdout",
          "text": [
            "0 0 0\n",
            "1 1 1\n",
            "2 4 8\n",
            "3 9 27\n",
            "4 16 64\n",
            "5 25 125\n",
            "6 36 216\n",
            "7 49 343\n",
            "8 64 512\n",
            "9 81 729\n"
          ]
        }
      ]
    },
    {
      "cell_type": "markdown",
      "source": [
        "    Example:\n",
        "       3} Iterate through a string list and tuple\n",
        "\n",
        "       "
      ],
      "metadata": {
        "id": "CA-vivay7AO-"
      }
    },
    {
      "cell_type": "code",
      "source": [
        "s = 'Mumbai'\n",
        "lst =['Desert','Dessert','to','too','lose','loose']\n",
        "tpl = (10,20,30,-20,-10,75)\n",
        "i = 0\n",
        "while i < len(lst):\n",
        "    print(i,s[i],lst[i],tpl[i])\n",
        "    i += 1"
      ],
      "metadata": {
        "colab": {
          "base_uri": "https://localhost:8080/"
        },
        "id": "Hjf4GqHn651b",
        "outputId": "4657f312-4d9b-438a-80af-b27ffcf0a887"
      },
      "execution_count": null,
      "outputs": [
        {
          "output_type": "stream",
          "name": "stdout",
          "text": [
            "0 M Desert 10\n",
            "1 u Dessert 20\n",
            "2 m to 30\n",
            "3 b too -20\n",
            "4 a lose -10\n",
            "5 i loose 75\n"
          ]
        }
      ]
    },
    {
      "cell_type": "markdown",
      "source": [
        "*Break and Continue*\n",
        "    \n",
        "    1} can be used with while and for loop\n",
        "    2} Break terminates the loop ; it does not execute the else block\n",
        "    3} continue goes for next later , skip the rest of the statements in the block\n",
        "  \n",
        "*else block in while loop*\n",
        "    \n",
        "    Execute on normal termination\n",
        "       Example:\n",
        "         num = int(input(\"Enter an integer: \"))\n",
        "         i = 2\n",
        "         while i <= num -1:\n",
        "           if num % i == 0:\n",
        "             print(num,'is not a prime number)\n",
        "             break\n",
        "           i += 1\n",
        "             else:\n",
        "               print(num,'is a prime number')\n"
      ],
      "metadata": {
        "id": "djNKpsH_8kSy"
      }
    },
    {
      "cell_type": "code",
      "source": [
        "num = int(input(\"Enter an integer: \"))\n",
        "i = 2\n",
        "while i <= num - 1:\n",
        "    if num % i == 0:\n",
        "        print(num, 'is not a prime number')\n",
        "        break\n",
        "    i += 1\n",
        "else:\n",
        "    print(num, 'is a prime number')\n"
      ],
      "metadata": {
        "colab": {
          "base_uri": "https://localhost:8080/"
        },
        "id": "bVlkw4j9NrkY",
        "outputId": "64e6d0c7-bd18-432e-f0e6-692d08fcb530"
      },
      "execution_count": null,
      "outputs": [
        {
          "output_type": "stream",
          "name": "stdout",
          "text": [
            "Enter an integer: 7\n",
            "7 is a prime number\n"
          ]
        }
      ]
    },
    {
      "cell_type": "markdown",
      "source": [
        "    2} for Loop has 2 from to write\n",
        "        a} for var in list:\n",
        "              statement_1\n",
        "              statement_2\n",
        "\n",
        "        b} for var in list:\n",
        "              statement_1\n",
        "              statement_2\n",
        "           else:\n",
        "              statement_3\n",
        "              statement_4\n",
        "\n",
        "          \n",
        "        1} var is assigned next value from list in each iteration\n",
        "        2} instead of list,string,tuple,set or dict can be used\n",
        "        3} else block is optioanl\n",
        "        4} executed if loop is not terminated abruptly\n",
        "\n",
        "    Usage of for loop\n",
        "        1} Repeat a set of statement a finite number of times\n",
        "        2} iterate through a string, list, tuple, set or dictionary\n",
        "       \n",
        "\n"
      ],
      "metadata": {
        "id": "ClZR32MhOhed"
      }
    },
    {
      "cell_type": "markdown",
      "source": [
        "    Example:\n",
        "      1} Repeat a set of statement a finite number of times\n",
        "\n",
        "         for i in range(1,10,2)  \n",
        "          print(i,i*i,i*i*i )\n",
        "\n",
        "\n",
        "      a} range as 3 parameter\n",
        "        range(start,stop,step)\n",
        "      b} Generates ints from start to stop (excluded) by step\n",
        "      c} sequence can be iterated through using a for loop\n",
        "      d} range() cannot generate a sequence of floats\n",
        "\n",
        "        Example;\n",
        "          range(10)  -- from 0 to 9\n",
        "          range(10,19) -- from 10 to 19\n",
        "          range(10,20,2) -- from 10 to 19 in steps of 2\n",
        "          range(20,10,-3) -- from 20 to 9 in steps of -3"
      ],
      "metadata": {
        "id": "_Gh67n0e2Zh2"
      }
    },
    {
      "cell_type": "markdown",
      "source": [
        "    Example:\n",
        "      2} iterate through a string, list, tuple, set or dictionary\n",
        "\n",
        "    for char in 'leopard':\n",
        "      print(char)\n",
        "\n",
        "    for animal in ['cat','dog','tiger','lion','leopard']\n",
        "      print(animal)\n",
        "\n",
        "    for flower in ('rose','lily','jasmine')\n",
        "      print(flower)\n",
        "\n",
        "    for num in [10,20,30,40,-10]\n",
        "      print(num)\n",
        "\n",
        "    for key in ['A101':'Harsh','A111':'Raj']\n",
        "      print(Key)"
      ],
      "metadata": {
        "id": "Uxs_yGVL4SV9"
      }
    },
    {
      "cell_type": "markdown",
      "source": [
        "    Example\n",
        "      3} to get index of item\n",
        "\n",
        "      lst = ['desert','dessert','to','too','lose','loose']\n",
        "      for i, ele in enumerate(lst):     --- This \"ele in enumerate\" will generte the number\n",
        "        print(i,ele)\n",
        "        "
      ],
      "metadata": {
        "id": "wXcNM97X-1wE"
      }
    },
    {
      "cell_type": "code",
      "source": [
        "lst = ['desert','dessert','to','too','lose','loose']\n",
        "for i, ele in enumerate(lst):                     # This \"ele in enumerate\" will generte the number\n",
        "    print(i,ele)"
      ],
      "metadata": {
        "colab": {
          "base_uri": "https://localhost:8080/"
        },
        "id": "tSCT-IEi1UVV",
        "outputId": "94d5f81a-ed6f-4c55-9d63-1ef46b7c82fd"
      },
      "execution_count": null,
      "outputs": [
        {
          "output_type": "stream",
          "name": "stdout",
          "text": [
            "0 desert\n",
            "1 dessert\n",
            "2 to\n",
            "3 too\n",
            "4 lose\n",
            "5 loose\n"
          ]
        }
      ]
    },
    {
      "cell_type": "markdown",
      "source": [
        "    else block in for loop\n",
        "      1} executes on normal termination"
      ],
      "metadata": {
        "id": "fsVbDuRQ_pX2"
      }
    },
    {
      "cell_type": "code",
      "source": [
        "for ele in [10,20,30,3,40,50]:\n",
        "  if ele % 10 != 0:\n",
        "    print(ele,'is a not multiple of 10')\n",
        "    break\n",
        "else:\n",
        "    print('all numbers in list are multiple of 10')"
      ],
      "metadata": {
        "colab": {
          "base_uri": "https://localhost:8080/"
        },
        "id": "RMhEEVHH_l8V",
        "outputId": "b51a7898-f624-45eb-c5e7-5cda91fa2b1d"
      },
      "execution_count": null,
      "outputs": [
        {
          "output_type": "stream",
          "name": "stdout",
          "text": [
            "3 is a not multiple of 10\n"
          ]
        }
      ]
    },
    {
      "cell_type": "markdown",
      "source": [
        "##*Console Input*\n",
        "\n",
        "    Whenever we recive input from keyboard we say it \" Console Input \" and whenever we send output it is said to be \" Console Output \""
      ],
      "metadata": {
        "id": "Bqgk-aEwi40D"
      }
    },
    {
      "cell_type": "markdown",
      "source": [
        "    Console Input\n",
        "      A} General form of input():\n",
        "          s = input('Prompt')\n",
        "\n",
        "      B} input() returns a string:\n",
        "         it can receive one or more value\n",
        "\n",
        "      Example:\n",
        "        name = input(\"Enter full name\")\n",
        "      \n",
        "      input() Examples\n",
        "        1 } Lets take input from the user there full name for that we don't have to take 3 input we can take one input and split them the required code is given below\n",
        "         \n",
        "        Code:\n",
        "          fname,mname,sname = input(\"Enter full name: \").split()\n",
        "\n",
        "        2} Lets take the input from the user about ther name age and salary and split it\n",
        "\n",
        "        Code:\n",
        "          data = input('Enter name,age,salary:').split()\n",
        "          name = data[0]\n",
        "          age = int(data[1])\n",
        "          salary = float(data[2])"
      ],
      "metadata": {
        "id": "UWg-OEsQjHKW"
      }
    },
    {
      "cell_type": "markdown",
      "source": [
        "##*Console Output*\n",
        "\n",
        "     A} Print is the built in function whem we send the output to the screen it becomes console output\n",
        "     B} print as 4 parameter\n",
        "         1] sep: This argument is used to indicate the character that should be used to separate the different objects while printing. By default, the separator used is space.\n",
        "         2] end: This argument is used to indicate the character at which the console should start outputting to a new line.\n",
        "         3] file: This argument indicates where the output from the console should be displayed. By default, this argument has the value ‘sys.stdout’, which refers to the standard output device or the screen.\n",
        "         4] flush: This argument is used to indicate whether the output needs to be flushed.  "
      ],
      "metadata": {
        "id": "tf-Okk_znlAS"
      }
    },
    {
      "cell_type": "code",
      "source": [
        "# Example\n",
        "a =10\n",
        "b = 2\n",
        "c = 23\n",
        "print(a,b,c,sep=',',end='!')"
      ],
      "metadata": {
        "colab": {
          "base_uri": "https://localhost:8080/"
        },
        "id": "F2YWb9LjgIpi",
        "outputId": "ea2f1a19-02da-4cb9-8f63-4e2d61e67c19"
      },
      "execution_count": null,
      "outputs": [
        {
          "output_type": "stream",
          "name": "stdout",
          "text": [
            "10,2,23!"
          ]
        }
      ]
    },
    {
      "cell_type": "code",
      "source": [
        "x = 'Harsh'\n",
        "y = 'Saroj'\n",
        "print(x,y,sep = '...',end = '#')"
      ],
      "metadata": {
        "colab": {
          "base_uri": "https://localhost:8080/"
        },
        "id": "hcOvUQN5gPLx",
        "outputId": "0f9ae9c4-3d2d-4933-f4b6-983b207fd9cf"
      },
      "execution_count": null,
      "outputs": [
        {
          "output_type": "stream",
          "name": "stdout",
          "text": [
            "Harsh...Saroj#"
          ]
        }
      ]
    },
    {
      "cell_type": "markdown",
      "source": [
        "*Formatted Printing*\n",
        "   \n",
        "    1} Using formatted string literals = easiest\n",
        "    2} Using the format() method = order\n",
        "    3} C printf() style = legacy\n",
        "    4} Using slicing the concatenation = difficult"
      ],
      "metadata": {
        "id": "lZzwmhUOg2sg"
      }
    },
    {
      "cell_type": "markdown",
      "source": [
        "*Using fstrings (Formatted strings)*\n",
        "\n",
        "     Example\n",
        "       r,l,b = 1.5678,10.5,12.66\n",
        "       print(f'radius={r}')\n"
      ],
      "metadata": {
        "id": "P6pEa88BBZNk"
      }
    },
    {
      "cell_type": "code",
      "source": [
        "r,l,b = 1.5678,10.5,12.66\n",
        "print(f'radius={r}')"
      ],
      "metadata": {
        "id": "SP0YLtcNgsdY",
        "colab": {
          "base_uri": "https://localhost:8080/"
        },
        "outputId": "8a472d97-fea2-47c4-e723-5c8f0df00f70"
      },
      "execution_count": null,
      "outputs": [
        {
          "output_type": "stream",
          "name": "stdout",
          "text": [
            "radius=1.5678\n"
          ]
        }
      ]
    },
    {
      "cell_type": "code",
      "source": [
        "print(f'lenght={l} breadth={b} radius={r}')"
      ],
      "metadata": {
        "colab": {
          "base_uri": "https://localhost:8080/"
        },
        "id": "g6uyGDdDBzpk",
        "outputId": "5c92bfd6-e845-48c1-c9d7-6eca0013968e"
      },
      "execution_count": null,
      "outputs": [
        {
          "output_type": "stream",
          "name": "stdout",
          "text": [
            "lenght=10.5 breadth=12.66 radius=1.5678\n"
          ]
        }
      ]
    },
    {
      "cell_type": "code",
      "source": [
        "name = 'Sushant Ajay Raje'\n",
        "for n in name.split():\n",
        "    print(f'{n:10}')         # print in 10 columns"
      ],
      "metadata": {
        "colab": {
          "base_uri": "https://localhost:8080/"
        },
        "id": "lpQeg7SKETt5",
        "outputId": "ef7ac7e4-0e71-4865-a7c6-5c44863b2679"
      },
      "execution_count": null,
      "outputs": [
        {
          "output_type": "stream",
          "name": "stdout",
          "text": [
            "Sushant   \n",
            "Ajay      \n",
            "Raje      \n"
          ]
        }
      ]
    },
    {
      "cell_type": "markdown",
      "source": [
        "*Using format() Method*"
      ],
      "metadata": {
        "id": "9evnxpFuE4Na"
      }
    },
    {
      "cell_type": "code",
      "source": [
        "r,l,b = 1.5678,10.5,12.66\n",
        "nam,age,sal = 'Harsh',30,534.000\n",
        "\n",
        "# Print in the order by postion mention in format()\n",
        "print('radius = {} length = {} breadth = {}'.format(r,l,b))\n",
        "print('name = {}, age = {}, salary = {}'.format(nam,age,sal))\n",
        "\n",
        "# Print in any desired order\n",
        "print('breadth = {2}, length = {0}, radius = {1}'.format(r,l,b))\n",
        "\n",
        "# Print in specified no. of columns\n",
        "print('name = {0:15} salary ={1:10}'.format(nam,sal))"
      ],
      "metadata": {
        "colab": {
          "base_uri": "https://localhost:8080/"
        },
        "id": "Ue17X0bDEobs",
        "outputId": "c4003aaf-4fe2-4e64-9538-f9af89aeec85"
      },
      "execution_count": null,
      "outputs": [
        {
          "output_type": "stream",
          "name": "stdout",
          "text": [
            "radius = 1.5678 length = 10.5 breadth = 12.66\n",
            "name = Harsh, age = 30, salary = 534.0\n",
            "breadth = 12.66, length = 1.5678, radius = 10.5\n",
            "name = Harsh           salary =     534.0\n"
          ]
        }
      ]
    },
    {
      "cell_type": "code",
      "source": [
        "print('Python', 'rules', 'forever', sep='@')"
      ],
      "metadata": {
        "colab": {
          "base_uri": "https://localhost:8080/"
        },
        "id": "aRTyUGSEHyjb",
        "outputId": "59a87377-ca65-41ca-bf18-620738b3e7a3"
      },
      "execution_count": null,
      "outputs": [
        {
          "output_type": "stream",
          "name": "stdout",
          "text": [
            "Python@rules@forever\n"
          ]
        }
      ]
    },
    {
      "cell_type": "markdown",
      "source": [
        "*Console Output Example*\n",
        "   "
      ],
      "metadata": {
        "id": "jd0jbN7Baf1m"
      }
    },
    {
      "cell_type": "markdown",
      "source": [
        "*Alignment*"
      ],
      "metadata": {
        "id": "hxWhm8a_asDN"
      }
    },
    {
      "cell_type": "code",
      "source": [
        "# Right-Justify n in 5 columns\n",
        "\n",
        "for n in range(1,8,2):\n",
        "  print(f'{n:>5}{n**2:>7}{n**3:>8}')"
      ],
      "metadata": {
        "id": "Y8aWgrmfJZug",
        "colab": {
          "base_uri": "https://localhost:8080/"
        },
        "outputId": "82806b25-55e0-4c22-8be3-ffcea90decb9"
      },
      "execution_count": null,
      "outputs": [
        {
          "output_type": "stream",
          "name": "stdout",
          "text": [
            "    1      1       1\n",
            "    3      9      27\n",
            "    5     25     125\n",
            "    7     49     343\n"
          ]
        }
      ]
    },
    {
      "cell_type": "code",
      "source": [
        "# Left-justify 0th parameter in 5 cols\n",
        "\n",
        "for n in range(1,8,2):\n",
        "  print('{0:<5}{1:<7}{2:<8}'.format(n,n**2,n**3))"
      ],
      "metadata": {
        "colab": {
          "base_uri": "https://localhost:8080/"
        },
        "id": "nbA7YSNYeDNz",
        "outputId": "60af12f7-c74f-4e41-a182-46937389e1be"
      },
      "execution_count": null,
      "outputs": [
        {
          "output_type": "stream",
          "name": "stdout",
          "text": [
            "1    1      1       \n",
            "3    9      27      \n",
            "5    25     125     \n",
            "7    49     343     \n"
          ]
        }
      ]
    },
    {
      "cell_type": "markdown",
      "source": [
        "*Justification*\n",
        "\n",
        "    Import math\n",
        "    for n in range(1,10):\n",
        "      s = round(math.sprt(n),3)\n",
        "      c = round(math.pow(n,1/3,3)\n",
        "      print(f'{n:^5},{s:10}{c:10}')"
      ],
      "metadata": {
        "id": "BLqVxP25jy-4"
      }
    },
    {
      "cell_type": "code",
      "source": [
        "import math\n",
        "for n in range(1,10):\n",
        "  s = round(math.sqrt(n),3)\n",
        "  c = round(math.pow(n,1/3),3)\n",
        "  print(f'{n:^5}{s:10}{c:10}')"
      ],
      "metadata": {
        "colab": {
          "base_uri": "https://localhost:8080/"
        },
        "id": "MbTOokcbfFnQ",
        "outputId": "9c15a342-c2e1-4298-dcaa-925dcccb97c6"
      },
      "execution_count": null,
      "outputs": [
        {
          "output_type": "stream",
          "name": "stdout",
          "text": [
            "  1         1.0       1.0\n",
            "  2       1.414      1.26\n",
            "  3       1.732     1.442\n",
            "  4         2.0     1.587\n",
            "  5       2.236      1.71\n",
            "  6       2.449     1.817\n",
            "  7       2.646     1.913\n",
            "  8       2.828       2.0\n",
            "  9         3.0      2.08\n"
          ]
        }
      ]
    },
    {
      "cell_type": "markdown",
      "source": [
        "*Tabular form*\n",
        "    \n",
        "    Contacts = {\n",
        "      'Dilip': 9834892290 ,'Shekhar': 8923109779 , 'Vivek': 6580364808 , 'Riddhi': 6784029083\n",
        "    }\n",
        "\n",
        "    for name,cellno in contants.items():\n",
        "      print(f'{name:15}:{cellno:10d}')"
      ],
      "metadata": {
        "id": "o_WA9x8FlqMZ"
      }
    },
    {
      "cell_type": "code",
      "source": [
        "contacts = {\n",
        "      'Dilip': 9834892290 ,'Shekhar': 8923109779 , 'Vivek': 6580364808 , 'Riddhi': 6784029083\n",
        "    }\n",
        "\n",
        "for name,cellno in contacts.items():\n",
        "  print(f'{name:15}:{cellno:10d}')"
      ],
      "metadata": {
        "colab": {
          "base_uri": "https://localhost:8080/"
        },
        "id": "VXDzfG5Zk1re",
        "outputId": "33fa0aed-b2ed-4d7f-de91-807817875be2"
      },
      "execution_count": null,
      "outputs": [
        {
          "output_type": "stream",
          "name": "stdout",
          "text": [
            "Dilip          :9834892290\n",
            "Shekhar        :8923109779\n",
            "Vivek          :6580364808\n",
            "Riddhi         :6784029083\n"
          ]
        }
      ]
    },
    {
      "cell_type": "code",
      "source": [
        "str= 'Python', 'rules', 'forever'\n",
        "print(\"%s %s since %s\" % (str))"
      ],
      "metadata": {
        "id": "iU5ln2CHpOqK",
        "colab": {
          "base_uri": "https://localhost:8080/"
        },
        "outputId": "3d2de190-167a-406e-969e-6f3c96b3aeb6"
      },
      "execution_count": null,
      "outputs": [
        {
          "output_type": "stream",
          "name": "stdout",
          "text": [
            "Python rules since forever\n"
          ]
        }
      ]
    },
    {
      "cell_type": "markdown",
      "source": [
        "#Data Representation Using List"
      ],
      "metadata": {
        "id": "VflHpgSZSnDz"
      }
    },
    {
      "cell_type": "markdown",
      "source": [
        "    What are lists?\n",
        "      1} lists are containers , can hold multiple values , aka collection/compound data type\n",
        "      2} Also called dynamic array , can/grow/shrink during execution , used for handling var length data\n",
        "      3} Example\n",
        "          a} num = [10,25,30,40,50]\n",
        "          b} names = ['Sam','anu','rad','supar']\n",
        "          c} animal = ['Zebra',155.55,110]\n",
        "\n",
        "    List Properties\n",
        "      1} Duplicate iteams are allowed\n",
        "          ages = [25,26,25,27,26]\n",
        "      2} items can be replicated\n",
        "          num = [10]*5\n",
        "      3} An empty list is ok\n",
        "          lst = []\n",
        "\n",
        "    Accessing list Elements\n",
        "      1} Entire List\n",
        "            lst = ['Able','was','i','ere','i','saw','elba']\n",
        "             print(lst)\n",
        "      2} Individual Elements {index base access}   \n",
        "            lst = ['Able','was','i','ere','i','saw','elba']\n",
        "             print(lst[0],lst[2])\n",
        "      3} sublists\n",
        "            lst = ['Able','was','i','ere','i','saw','elba']\n",
        "             print(lst[1:3])   # List index number is not taken so the output will be index 1,2\n",
        "             print(lst[3:])    # from index number 3 till last\n",
        "\n",
        "             Start,stop,step = this 3 things are used to access element in index\n",
        "        4} looping list\n",
        "             We can do this by using  2 form for and while loop\n",
        "                1} while loop\n",
        "                     animals = ['Zebra',Tiger','Lion','Jackal','kangarro']\n",
        "                     i = 0\n",
        "                     while 1 < len(animals):\n",
        "                       print(animals[i])\n",
        "                       i += 1\n",
        "\n",
        "                2} for loop\n",
        "                     for a in animals:\n",
        "                        print(a)\n",
        "\n",
        "                     # To mention number we have use index\n",
        "                     for index, a in enumerate(animals):\n",
        "                       print(index,a\n",
        "                        \n",
        "                     \n",
        "            \n",
        "          "
      ],
      "metadata": {
        "id": "p5jemliYS1Vb"
      }
    },
    {
      "cell_type": "markdown",
      "source": [
        "*Built-In function for lists*\n",
        "   \n",
        "    1} len(lst)                 # return number if items in the kist\n",
        "    2} max(lst)                 # return maximum element in the list\n",
        "    3} min(lst)                 # return minimum element in the list\n",
        "    4} sum(lst)                 # return sum of all elements in the list\n",
        "    5} any(lst)                 # return True if any ele of lst in True\n",
        "    6} all(lst)                 # return True if all ele of lst are True\n",
        "    7} del()                    # Deletes element or slice or entire list\n",
        "    8} sorted(lst)              # return list, lst unchanged\n",
        "       Example:\n",
        "         lst = [10,2,0,50,4]\n",
        "         print(sorted(lst))     # [0,2,4,10,50] Expected Output\n",
        "         print(sorted(lst,reverse = True))                 # [50,10,4,3,0] Expected Output  \n",
        "    9} reversed(lst)            # used for reversing lst\n",
        "        Example:\n",
        "         print(list(reversed(lst)))  # [50,10,4,2,0]  Returns object list-reverseiterator\n",
        "         \n",
        "         Easy way to reverse is\n",
        "           print(lst[::-1])\n",
        "    10} Delete\n",
        "        lst = [10,20,30,40,50]\n",
        "        lst = del(lst[3])       # delete 3rd item in the list\n",
        "        del(lst[2:5])           # delete items 2 to 4 form the list\n",
        "        del(lst[:])             # delete entire list\n",
        "        lst = []                # another way to delete an entire list"
      ],
      "metadata": {
        "id": "bI0lN2WZjt6z"
      }
    },
    {
      "cell_type": "markdown",
      "source": [
        "*Some Example by using built-in funciton*"
      ],
      "metadata": {
        "id": "O85SOuouBSgW"
      }
    },
    {
      "cell_type": "code",
      "source": [
        "lst1 = [10,20,30,40,50]\n",
        "print(type(lst1))"
      ],
      "metadata": {
        "colab": {
          "base_uri": "https://localhost:8080/"
        },
        "id": "TWuZQl-x-_vD",
        "outputId": "0ad42f3a-5151-4948-9290-34b0369f8461"
      },
      "execution_count": null,
      "outputs": [
        {
          "output_type": "stream",
          "name": "stdout",
          "text": [
            "<class 'list'>\n"
          ]
        }
      ]
    },
    {
      "cell_type": "code",
      "source": [
        "print(lst1)"
      ],
      "metadata": {
        "colab": {
          "base_uri": "https://localhost:8080/"
        },
        "id": "lc1n51loB44f",
        "outputId": "cbc7a39f-eb55-45c6-cbb2-cd097cb62b9d"
      },
      "execution_count": null,
      "outputs": [
        {
          "output_type": "stream",
          "name": "stdout",
          "text": [
            "[10, 20, 30, 40, 50]\n"
          ]
        }
      ]
    },
    {
      "cell_type": "code",
      "source": [
        "lst2 = list(range(1,21))  # End value will be not consider\n",
        "# The above line represent create a list from 1 20 and store it in the lst2\n",
        "print(lst2)"
      ],
      "metadata": {
        "colab": {
          "base_uri": "https://localhost:8080/"
        },
        "id": "MosEHp6oCBxx",
        "outputId": "6260f7de-ba5a-4cec-d436-78c16ce9ba3b"
      },
      "execution_count": null,
      "outputs": [
        {
          "output_type": "stream",
          "name": "stdout",
          "text": [
            "[1, 2, 3, 4, 5, 6, 7, 8, 9, 10, 11, 12, 13, 14, 15, 16, 17, 18, 19, 20]\n"
          ]
        }
      ]
    },
    {
      "cell_type": "code",
      "source": [
        "# Creating a list of odd number from 1 to 20\n",
        "# 1st form\n",
        "lst3 = list(range(1,21,2))\n",
        "print(lst3)"
      ],
      "metadata": {
        "colab": {
          "base_uri": "https://localhost:8080/"
        },
        "id": "0hkjyhrUMkrX",
        "outputId": "3f2e3998-d4f8-42df-e760-20f8942d7967"
      },
      "execution_count": null,
      "outputs": [
        {
          "output_type": "stream",
          "name": "stdout",
          "text": [
            "[1, 3, 5, 7, 9, 11, 13, 15, 17, 19]\n"
          ]
        }
      ]
    },
    {
      "cell_type": "code",
      "source": [
        "# Lets create 20 to 1 in descreing order\n",
        "lst4 = list(range(20,0,-1))\n",
        "print(lst4)"
      ],
      "metadata": {
        "colab": {
          "base_uri": "https://localhost:8080/"
        },
        "id": "HU1oUBPjNO7T",
        "outputId": "c42f3b2a-8479-4b43-aee9-becce0a15676"
      },
      "execution_count": null,
      "outputs": [
        {
          "output_type": "stream",
          "name": "stdout",
          "text": [
            "[20, 19, 18, 17, 16, 15, 14, 13, 12, 11, 10, 9, 8, 7, 6, 5, 4, 3, 2, 1]\n"
          ]
        }
      ]
    },
    {
      "cell_type": "markdown",
      "source": [
        "*Method Inside the list Class*"
      ],
      "metadata": {
        "id": "oN1bvv8iOXSy"
      }
    },
    {
      "cell_type": "markdown",
      "source": [
        "*Ready made method used in the list*\n",
        "\n",
        "    List is mutable so we can change , add , delete the value\n",
        "      lst = [12,15,13,23,22,16,17]\n",
        "      lst.append(22)            # add new item at end\n",
        "      lst.remove(13)            # delete item 13 from the list if it is not there in the list then it will generate error msg\n",
        "      lst.pop()                 # removes last item in list\n",
        "      lst.pop(3)                # removes 3rd item in the list\n",
        "      lst.insert(3,21)          # insert 21 at 3rd position\n",
        "      lst.count(23)             # return no of times 23 apppears in lst\n",
        "      idx = lst.index(50)       # reports valueError as 50 is absent in lst\n",
        "\n",
        "    Sorting and reversing method\n",
        "       lst =[10,2,0,50,4]\n",
        "       lst.reverse()\n",
        "       print(lst)       # output = [4,50,0,2,10]\n",
        "       lst.sort()\n",
        "       print(lst)       # output = [0,2,4,10,50]\n",
        "       lst.sort(reverse = True)\n",
        "       print(lst)       # output = [50.10,4,2,0]\n"
      ],
      "metadata": {
        "id": "g784TyPDTw7E"
      }
    },
    {
      "cell_type": "code",
      "source": [
        "lst =['python', 'forever']\n",
        "lst.insert(2, 'rules')\n",
        "print(lst)"
      ],
      "metadata": {
        "id": "tynX2h0nNtXk",
        "colab": {
          "base_uri": "https://localhost:8080/"
        },
        "outputId": "77a1e972-91d3-4ab7-d426-f30e6a6146d1"
      },
      "execution_count": null,
      "outputs": [
        {
          "output_type": "stream",
          "name": "stdout",
          "text": [
            "['python', 'forever', 'rules']\n"
          ]
        }
      ]
    },
    {
      "cell_type": "markdown",
      "source": [
        "*Operation on lists*\n",
        "\n",
        "    3 Operation\n",
        "      1] Mutation\n",
        "      2] Concatentation\n",
        "      3] Merging\n",
        "    "
      ],
      "metadata": {
        "id": "4yOryBRsIFOn"
      }
    },
    {
      "cell_type": "markdown",
      "source": [
        "*Mutation = Mutable = Changeable*\n",
        "\n",
        "       animals = ['Zebra','Tiger','Lion','Jackal','Kangaroo']\n",
        "       ages = [25,26,25,27,26,28,25]\n",
        "       animals[2] = 'Rhinoceros'\n",
        "          output = ['Zebra','Tiger','Rhinoceros','Jackal','Kangaroo']\n",
        "       ages[5] = 31\n",
        "          output = [25,26,25,27,26,31,25]"
      ],
      "metadata": {
        "id": "YkT_mmWLax5m"
      }
    },
    {
      "cell_type": "code",
      "source": [
        "animals = ['Zebra','Tiger','Lion','Jackal','Kangaroo']\n",
        "ages = [25,26,25,27,26,28,25]\n",
        "print(animals)\n",
        "print(ages)"
      ],
      "metadata": {
        "colab": {
          "base_uri": "https://localhost:8080/"
        },
        "id": "HWqtaMKzH0tP",
        "outputId": "b6a52ad7-01d9-4e3f-ae18-bb40bad5f4bb"
      },
      "execution_count": null,
      "outputs": [
        {
          "output_type": "stream",
          "name": "stdout",
          "text": [
            "['Zebra', 'Tiger', 'Lion', 'Jackal', 'Kangaroo']\n",
            "[25, 26, 25, 27, 26, 28, 25]\n"
          ]
        }
      ]
    },
    {
      "cell_type": "code",
      "source": [
        "animals[2] = 'Rhinoceros'\n",
        "print(animals)"
      ],
      "metadata": {
        "colab": {
          "base_uri": "https://localhost:8080/"
        },
        "id": "tLX7QoCzgvES",
        "outputId": "d52da97a-f0ff-4544-a6d4-5682a6a16a4b"
      },
      "execution_count": null,
      "outputs": [
        {
          "output_type": "stream",
          "name": "stdout",
          "text": [
            "['Zebra', 'Tiger', 'Rhinoceros', 'Jackal', 'Kangaroo']\n"
          ]
        }
      ]
    },
    {
      "cell_type": "code",
      "source": [
        "ages[5] = 31\n",
        "print(ages)"
      ],
      "metadata": {
        "colab": {
          "base_uri": "https://localhost:8080/"
        },
        "id": "Q864o2kcg37p",
        "outputId": "3d6770e5-eb9c-42db-93a3-57ca6301d36b"
      },
      "execution_count": null,
      "outputs": [
        {
          "output_type": "stream",
          "name": "stdout",
          "text": [
            "[25, 26, 25, 27, 26, 31, 25]\n"
          ]
        }
      ]
    },
    {
      "cell_type": "code",
      "source": [
        "ages[2:5] = [24,25,32]\n",
        "print(ages)"
      ],
      "metadata": {
        "colab": {
          "base_uri": "https://localhost:8080/"
        },
        "id": "xjWn0woCg7dl",
        "outputId": "f7e12c82-0d31-4444-ace7-f23b2e18b98b"
      },
      "execution_count": null,
      "outputs": [
        {
          "output_type": "stream",
          "name": "stdout",
          "text": [
            "[25, 26, 24, 25, 32, 31, 25]\n"
          ]
        }
      ]
    },
    {
      "cell_type": "code",
      "source": [
        "ages[2:5] = []\n",
        "ages"
      ],
      "metadata": {
        "colab": {
          "base_uri": "https://localhost:8080/"
        },
        "id": "nBlg-9tVhCuP",
        "outputId": "4814c257-0352-4b3d-e492-326402a3afc6"
      },
      "execution_count": null,
      "outputs": [
        {
          "output_type": "execute_result",
          "data": {
            "text/plain": [
              "[25, 26, 31, 25]"
            ]
          },
          "metadata": {},
          "execution_count": 9
        }
      ]
    },
    {
      "cell_type": "markdown",
      "source": [
        "*Concatenation*"
      ],
      "metadata": {
        "id": "nFulY0XSiPxs"
      }
    },
    {
      "cell_type": "code",
      "source": [
        "lst = [12,15,13,23,22,16,17]\n",
        "lst = lst + [33,44,55]\n",
        "lst"
      ],
      "metadata": {
        "colab": {
          "base_uri": "https://localhost:8080/"
        },
        "id": "uc-t8vQbhQqX",
        "outputId": "c30f8757-d87b-480a-edc7-2d64d15bdae4"
      },
      "execution_count": null,
      "outputs": [
        {
          "output_type": "execute_result",
          "data": {
            "text/plain": [
              "[12, 15, 13, 23, 22, 16, 17, 33, 44, 55]"
            ]
          },
          "metadata": {},
          "execution_count": 10
        }
      ]
    },
    {
      "cell_type": "markdown",
      "source": [
        "*Merging*"
      ],
      "metadata": {
        "id": "EXqLGxAciKha"
      }
    },
    {
      "cell_type": "code",
      "source": [
        "s = [10,20,30]\n",
        "t = [100,200,300]\n",
        "z = s + t\n",
        "z"
      ],
      "metadata": {
        "colab": {
          "base_uri": "https://localhost:8080/"
        },
        "id": "hQezra0xhe-m",
        "outputId": "185fdb37-2ff4-4a8a-d186-1a76120de0d0"
      },
      "execution_count": null,
      "outputs": [
        {
          "output_type": "execute_result",
          "data": {
            "text/plain": [
              "[10, 20, 30, 100, 200, 300]"
            ]
          },
          "metadata": {},
          "execution_count": 12
        }
      ]
    },
    {
      "cell_type": "markdown",
      "source": [
        "*Conversion*\n",
        "   "
      ],
      "metadata": {
        "id": "oEhcxgaQknyA"
      }
    },
    {
      "cell_type": "code",
      "source": [
        "l = list('Africa')\n",
        "l"
      ],
      "metadata": {
        "colab": {
          "base_uri": "https://localhost:8080/"
        },
        "id": "rXLj5YIVlkom",
        "outputId": "9a999f64-5b22-4e12-936b-d6a23d4503ba"
      },
      "execution_count": null,
      "outputs": [
        {
          "output_type": "execute_result",
          "data": {
            "text/plain": [
              "['A', 'f', 'r', 'i', 'c', 'a']"
            ]
          },
          "metadata": {},
          "execution_count": 13
        }
      ]
    },
    {
      "cell_type": "markdown",
      "source": [
        "*Aliasing / Shollow copy*"
      ],
      "metadata": {
        "id": "wsRFPQfbliP1"
      }
    },
    {
      "cell_type": "code",
      "source": [
        "lst1 = [10,20,30,40,50]\n",
        "lst2 = lst1\n",
        "lst1\n",
        "lst2"
      ],
      "metadata": {
        "colab": {
          "base_uri": "https://localhost:8080/"
        },
        "id": "2Kd39KtDlggW",
        "outputId": "5a64578f-ab9a-48da-d7fc-f45c3570a042"
      },
      "execution_count": null,
      "outputs": [
        {
          "output_type": "execute_result",
          "data": {
            "text/plain": [
              "[10, 20, 30, 40, 50]"
            ]
          },
          "metadata": {},
          "execution_count": 15
        }
      ]
    },
    {
      "cell_type": "code",
      "source": [
        "lst1[0] = 100\n",
        "lst1"
      ],
      "metadata": {
        "colab": {
          "base_uri": "https://localhost:8080/"
        },
        "id": "ite3fRCIlgeM",
        "outputId": "c0d649ed-cc3a-455b-90e8-d8f1bea9317a"
      },
      "execution_count": null,
      "outputs": [
        {
          "output_type": "execute_result",
          "data": {
            "text/plain": [
              "[100, 20, 30, 40, 50]"
            ]
          },
          "metadata": {},
          "execution_count": 19
        }
      ]
    },
    {
      "cell_type": "code",
      "source": [
        "lst2"
      ],
      "metadata": {
        "colab": {
          "base_uri": "https://localhost:8080/"
        },
        "id": "AHJ39_0PmTrJ",
        "outputId": "f1278871-98ff-43f9-9d84-73b15353fab6"
      },
      "execution_count": null,
      "outputs": [
        {
          "output_type": "execute_result",
          "data": {
            "text/plain": [
              "[100, 20, 30, 40, 50]"
            ]
          },
          "metadata": {},
          "execution_count": 20
        }
      ]
    },
    {
      "cell_type": "markdown",
      "source": [
        "*Cloning / Deep copy*"
      ],
      "metadata": {
        "id": "Y9RkMTB2lmvn"
      }
    },
    {
      "cell_type": "code",
      "source": [
        "lst1 = [10,20,30,40,50]\n",
        "lst2 = []\n",
        "lst2 = lst2 + lst1\n",
        "lst1\n",
        "\n",
        "# list 2 and list 1 is completely different"
      ],
      "metadata": {
        "colab": {
          "base_uri": "https://localhost:8080/"
        },
        "id": "ziIEwTyCj5RE",
        "outputId": "51ed855d-9022-402e-b399-d9c1ba197bf8"
      },
      "execution_count": null,
      "outputs": [
        {
          "output_type": "execute_result",
          "data": {
            "text/plain": [
              "[10, 20, 30, 40, 50]"
            ]
          },
          "metadata": {},
          "execution_count": 22
        }
      ]
    },
    {
      "cell_type": "code",
      "source": [
        "lst2"
      ],
      "metadata": {
        "colab": {
          "base_uri": "https://localhost:8080/"
        },
        "id": "YOH739ero3yo",
        "outputId": "e93c6bf4-4bf8-4c6d-a129-3fe382b7c047"
      },
      "execution_count": null,
      "outputs": [
        {
          "output_type": "execute_result",
          "data": {
            "text/plain": [
              "[10, 20, 30, 40, 50]"
            ]
          },
          "metadata": {},
          "execution_count": 23
        }
      ]
    },
    {
      "cell_type": "code",
      "source": [
        "lst1[0] = 100\n",
        "lst1"
      ],
      "metadata": {
        "colab": {
          "base_uri": "https://localhost:8080/"
        },
        "id": "IFM0X7DIo87u",
        "outputId": "f8011eff-748d-4d64-e88f-56d653df21e6"
      },
      "execution_count": null,
      "outputs": [
        {
          "output_type": "execute_result",
          "data": {
            "text/plain": [
              "[100, 20, 30, 40, 50]"
            ]
          },
          "metadata": {},
          "execution_count": 24
        }
      ]
    },
    {
      "cell_type": "code",
      "source": [
        "lst2"
      ],
      "metadata": {
        "colab": {
          "base_uri": "https://localhost:8080/"
        },
        "id": "pVErg2JDpIk-",
        "outputId": "34abb460-654c-4931-a137-181b86133736"
      },
      "execution_count": null,
      "outputs": [
        {
          "output_type": "execute_result",
          "data": {
            "text/plain": [
              "[10, 20, 30, 40, 50]"
            ]
          },
          "metadata": {},
          "execution_count": 27
        }
      ]
    },
    {
      "cell_type": "markdown",
      "source": [
        "*Searching*"
      ],
      "metadata": {
        "id": "4OC3j5EbpnRK"
      }
    },
    {
      "cell_type": "code",
      "source": [
        "lst = [10,20,30,40,50]\n",
        "res = 10 in lst             # in is the keyword in python\n",
        "res"
      ],
      "metadata": {
        "colab": {
          "base_uri": "https://localhost:8080/"
        },
        "id": "9nYt9SwKpNQA",
        "outputId": "a9f23cf4-c82c-4137-bb35-a9f68b27b5d7"
      },
      "execution_count": null,
      "outputs": [
        {
          "output_type": "execute_result",
          "data": {
            "text/plain": [
              "True"
            ]
          },
          "metadata": {},
          "execution_count": 33
        }
      ]
    },
    {
      "cell_type": "code",
      "source": [
        "re = 10 not in lst          # not in is the keyword in the python\n",
        "re"
      ],
      "metadata": {
        "colab": {
          "base_uri": "https://localhost:8080/"
        },
        "id": "vFxnJh11pwQ-",
        "outputId": "695dc66d-adee-47ec-a730-72200cdfebdc"
      },
      "execution_count": null,
      "outputs": [
        {
          "output_type": "execute_result",
          "data": {
            "text/plain": [
              "False"
            ]
          },
          "metadata": {},
          "execution_count": 32
        }
      ]
    },
    {
      "cell_type": "markdown",
      "source": [
        "*Comparison*"
      ],
      "metadata": {
        "id": "YiqpRlnYrAxM"
      }
    },
    {
      "cell_type": "code",
      "source": [
        "a = [1,2,3,4]\n",
        "b = [1,2,4]\n",
        "a < b"
      ],
      "metadata": {
        "colab": {
          "base_uri": "https://localhost:8080/"
        },
        "id": "FozaNP3Jp5Gd",
        "outputId": "1d402b96-dcd1-4204-9286-5adb1d7cd311"
      },
      "execution_count": null,
      "outputs": [
        {
          "output_type": "execute_result",
          "data": {
            "text/plain": [
              "True"
            ]
          },
          "metadata": {},
          "execution_count": 35
        }
      ]
    },
    {
      "cell_type": "code",
      "source": [
        "lst = []\n",
        "print(bool(lst))"
      ],
      "metadata": {
        "colab": {
          "base_uri": "https://localhost:8080/"
        },
        "id": "KsoEwTrCrKt7",
        "outputId": "c0774b91-9861-4497-d9ab-4b7324be9fb1"
      },
      "execution_count": null,
      "outputs": [
        {
          "output_type": "stream",
          "name": "stdout",
          "text": [
            "False\n"
          ]
        }
      ]
    },
    {
      "cell_type": "markdown",
      "source": [
        "*List Varieties*"
      ],
      "metadata": {
        "id": "m7ou3VE2rhwq"
      }
    },
    {
      "cell_type": "code",
      "source": [
        "a = [1,2,3,4]\n",
        "b = [1,2,4]\n",
        "c = [a,b]\n",
        "print(c[0][1],c[1][2])"
      ],
      "metadata": {
        "colab": {
          "base_uri": "https://localhost:8080/"
        },
        "id": "dQ6QEQdTrf8n",
        "outputId": "bfefcc4d-2193-4b4d-86cb-20fb6647c233"
      },
      "execution_count": null,
      "outputs": [
        {
          "output_type": "stream",
          "name": "stdout",
          "text": [
            "2 4\n"
          ]
        }
      ]
    },
    {
      "cell_type": "markdown",
      "source": [
        "*Embedded list*"
      ],
      "metadata": {
        "id": "7bC5fY5YsGzb"
      }
    },
    {
      "cell_type": "code",
      "source": [
        "x = [1,2,3,4]\n",
        "y = [5,6,7,x,8]\n",
        "print(y)"
      ],
      "metadata": {
        "colab": {
          "base_uri": "https://localhost:8080/"
        },
        "id": "YvMZ2mu0sAZ6",
        "outputId": "3315eb23-f037-49b5-d95b-1f7689290d09"
      },
      "execution_count": null,
      "outputs": [
        {
          "output_type": "stream",
          "name": "stdout",
          "text": [
            "[5, 6, 7, [1, 2, 3, 4], 8]\n"
          ]
        }
      ]
    },
    {
      "cell_type": "markdown",
      "source": [
        "*Unpacking Using '*'*'"
      ],
      "metadata": {
        "id": "wcoHshnmtSku"
      }
    },
    {
      "cell_type": "code",
      "source": [
        "s = 'Hello'\n",
        "l = [*s]\n",
        "l"
      ],
      "metadata": {
        "colab": {
          "base_uri": "https://localhost:8080/"
        },
        "id": "EFxmw_iLsSRL",
        "outputId": "56d571e1-e373-48ff-aa5d-c194850f814b"
      },
      "execution_count": null,
      "outputs": [
        {
          "output_type": "execute_result",
          "data": {
            "text/plain": [
              "['H', 'e', 'l', 'l', 'o']"
            ]
          },
          "metadata": {},
          "execution_count": 39
        }
      ]
    },
    {
      "cell_type": "code",
      "source": [
        "x = [1,2,3,4]\n",
        "y = [10,20, *x,30,40]\n",
        "y"
      ],
      "metadata": {
        "colab": {
          "base_uri": "https://localhost:8080/"
        },
        "id": "Ki67NathttIo",
        "outputId": "32d3e120-255d-4b28-d70d-42fd7005af2e"
      },
      "execution_count": null,
      "outputs": [
        {
          "output_type": "execute_result",
          "data": {
            "text/plain": [
              "[10, 20, 1, 2, 3, 4, 30, 40]"
            ]
          },
          "metadata": {},
          "execution_count": 40
        }
      ]
    },
    {
      "cell_type": "markdown",
      "source": [
        "*Implementing Stacks and Queues using list*"
      ],
      "metadata": {
        "id": "CwrpLigRITbR"
      }
    },
    {
      "cell_type": "markdown",
      "source": [
        "    Stack - Last In First Out (LIFO)\n",
        "      1} Push operation - append()  \n",
        "      2} Pop operation - pop()\n",
        "         # this are Ready made function available with list class its not a built in function its a method with class    \n",
        "\n",
        "    Queue - First in First Out (FIFO)\n",
        "      1} Lists are inefficient for Queue\n",
        "      2} sol; Deque collection class\n",
        "\n",
        "          Why inefficient ?\n",
        "           Beacuse we can go add on an element in last thats not a problem addition is not an\n",
        "           issue but when we start deleting element from the queue that becomes\n",
        "           problemicty or inefficient because if there are 10 elements presnet in the list\n",
        "           and we remove the first one all position have to shifted one side to the left thats\n",
        "           time conumesing so instead of that we use Deque Data structure\n",
        "\n",
        "           Deque Stands for \"Double ended Queue \" is it say addition or subtraction should be done in starting or in ending as it comes in collection class"
      ],
      "metadata": {
        "id": "V7qdA-ejIeZP"
      }
    },
    {
      "cell_type": "markdown",
      "source": [
        "#Data Representation Using Tuples"
      ],
      "metadata": {
        "id": "2Ki4QezvL5fQ"
      }
    },
    {
      "cell_type": "markdown",
      "source": [
        "    What are tuples\n",
        "      1} Tuples are containers , commonly used for storing dissimilar data\n",
        "      2} Example\n",
        "            a = ()                   # empty tuple\n",
        "            b = (10,)                # ,after 10 is necessary\n",
        "            c = ('Sanjay',25,345.21)\n",
        "      3} () Are optional\n",
        "            c = 'Sanjay',25,345.21\n",
        "            print(type(c))           # <class 'tuple'>"
      ],
      "metadata": {
        "id": "tbS0svUcRIzf"
      }
    },
    {
      "cell_type": "markdown",
      "source": [
        "*Tuple Properties*\n",
        "     \n",
        "    1} Duplicate items allowed\n",
        "       ages = (23,24,23,54,12)\n",
        "    2} items can be replicated\n",
        "       num = (10,)*5\n",
        "    3} An empty tuple is ok\n",
        "       tpl = ()\n"
      ],
      "metadata": {
        "id": "LiJGNQSHSVCW"
      }
    },
    {
      "cell_type": "markdown",
      "source": [
        "*Accessing tuple*\n",
        "\n",
        "    tpl = ('Sanjay',25,345.21)\n",
        "    print(tpl)             # Entire tuple will be printed\n",
        "\n",
        "    msg = ('handle','Exception','like','a','boss')\n",
        "    print(msg[1],msg[3])   # Individual elements will be printed\n",
        "\n",
        "    emp = ('Sanjay',25,23000,4543,34)\n",
        "    print(emp[1:3])        # Sub tuple will be printed  25,23000\n",
        "    print(emp[3:])         # prints (4543,34)\n",
        "    print(emp[:3]          # prints ('Sanjay',25,23000)"
      ],
      "metadata": {
        "id": "_B6S_9qGS0fK"
      }
    },
    {
      "cell_type": "markdown",
      "source": [
        "*Looping in tuples*\n",
        "    \n",
        "    1} While loop\n",
        "       tpl = (10,20,30,40,50)\n",
        "       i = 0\n",
        "       while i < len(tpl):\n",
        "          print(tpl[i])\n",
        "          i += 1\n",
        "\n",
        "    2} For Loop\n",
        "       tpl = (10,20,30,40,50)\n",
        "       for n in tpl:\n",
        "          print(n)\n",
        "    \n",
        "    3} tpl = (10,20,30,40,50)\n",
        "       for index, a in enumerate(tpl):\n",
        "          print(index,a)"
      ],
      "metadata": {
        "id": "BXClGYLaWFCb"
      }
    },
    {
      "cell_type": "markdown",
      "source": [
        "*Built in function in tuple*\n",
        "\n",
        "    1} len(t)                 # return number if items in tuple t\n",
        "    2} max(t)                 # return maximum element in tuple t\n",
        "    3} min(t)                 # return minimum element in tuple t\n",
        "    4} sum(t)                 # return sum of all elements in tuple t\n",
        "    5} any(t)                 # return True if any element of tuple in True\n",
        "    6} all(t)                 # return True if all element of tuple are True\n",
        "    7} sorted(t)              # return list, (not sorted tuple)\n",
        "       Example:\n",
        "         tpl = [10,2,0,50,4]\n",
        "         print(sorted(tlp))     # [0,2,4,10,50] Expected Output\n",
        "         print(sorted(tpl,reverse = True))                 # [50,10,4,3,0] Expected Output  \n",
        "    8} reversed(tpl)            # used for reversing tuple\n",
        "       Example:\n",
        "        print(tuple(reversed(tpl)))  # (4,50,0,2,10)  Returns object reversed\n",
        "\n",
        "        Easy way to reverse is\n",
        "         print(tpl[::-1])\n"
      ],
      "metadata": {
        "id": "fqiGfLuEl1bq"
      }
    },
    {
      "cell_type": "markdown",
      "source": [
        "*Tuple method*"
      ],
      "metadata": {
        "id": "Lnbt9-psn1AH"
      }
    },
    {
      "cell_type": "markdown",
      "source": [
        "    tpl =(12,15,13,23,22)\n",
        "    print(tpl.count(23))        # return no of times 23 is in tpl\n",
        "    print(tpl.index(22))        # return index of item 22\n",
        "    print(tpl.index(50))        # reports valueError as 50 is absent\n",
        "\n",
        "       insert(),append(),remove(),pop(),sort(),reverse() cannot exist because tuple is immutable  \n"
      ],
      "metadata": {
        "id": "oa-DjEmd2KAi"
      }
    },
    {
      "cell_type": "code",
      "source": [
        "t = (12,3,45,5,23)\n",
        "t"
      ],
      "metadata": {
        "colab": {
          "base_uri": "https://localhost:8080/"
        },
        "id": "NcZBJx0o4iH3",
        "outputId": "c5833f83-00f8-4074-b872-7b79af2b849b"
      },
      "execution_count": null,
      "outputs": [
        {
          "output_type": "execute_result",
          "data": {
            "text/plain": [
              "(12, 3, 45, 5, 23)"
            ]
          },
          "metadata": {},
          "execution_count": 2
        }
      ]
    },
    {
      "cell_type": "code",
      "source": [
        "sorted_t = sorted(t)\n",
        "sorted_t\n",
        "# As u can see we are solving tuple but it is converted in list\n",
        "# Sorted function always return a sorted list"
      ],
      "metadata": {
        "colab": {
          "base_uri": "https://localhost:8080/"
        },
        "id": "z0pGASij53vB",
        "outputId": "8a17f3a2-ae19-472a-c6a6-7d92db367ff4"
      },
      "execution_count": null,
      "outputs": [
        {
          "output_type": "execute_result",
          "data": {
            "text/plain": [
              "[3, 5, 12, 23, 45]"
            ]
          },
          "metadata": {},
          "execution_count": 3
        }
      ]
    },
    {
      "cell_type": "code",
      "source": [
        "# sorted function must now return a sorted tuple\n",
        "sorte = tuple(sorted(t))\n",
        "sorte"
      ],
      "metadata": {
        "colab": {
          "base_uri": "https://localhost:8080/"
        },
        "id": "I5t4WDNd6CoN",
        "outputId": "d45fc687-ac68-417e-f31a-d4f361d55820"
      },
      "execution_count": null,
      "outputs": [
        {
          "output_type": "execute_result",
          "data": {
            "text/plain": [
              "(3, 5, 12, 23, 45)"
            ]
          },
          "metadata": {},
          "execution_count": 5
        }
      ]
    },
    {
      "cell_type": "code",
      "source": [
        "# Reverse\n",
        "rev= tuple(sorted(t,reverse = True))\n",
        "rev"
      ],
      "metadata": {
        "colab": {
          "base_uri": "https://localhost:8080/"
        },
        "id": "ETQ2yKrq6lrA",
        "outputId": "219c9451-594d-471f-b96e-570b66602c07"
      },
      "execution_count": null,
      "outputs": [
        {
          "output_type": "execute_result",
          "data": {
            "text/plain": [
              "(45, 23, 12, 5, 3)"
            ]
          },
          "metadata": {},
          "execution_count": 6
        }
      ]
    },
    {
      "cell_type": "code",
      "source": [
        "# another way to reverse tuple\n",
        "reve = t[::-1]\n",
        "reve = sorte[::-1]\n",
        "reve"
      ],
      "metadata": {
        "colab": {
          "base_uri": "https://localhost:8080/"
        },
        "id": "8V9E_wdC648Z",
        "outputId": "5d5a547a-1736-4b6f-9fe8-57bc839dca41"
      },
      "execution_count": null,
      "outputs": [
        {
          "output_type": "execute_result",
          "data": {
            "text/plain": [
              "(45, 23, 12, 5, 3)"
            ]
          },
          "metadata": {},
          "execution_count": 8
        }
      ]
    },
    {
      "cell_type": "code",
      "source": [
        "tup = (1, 2, 3, 4, 5, 6, 7, 8)\n",
        "print(tup.index(4))"
      ],
      "metadata": {
        "colab": {
          "base_uri": "https://localhost:8080/"
        },
        "id": "i918Uqfv7Nws",
        "outputId": "2ff8373a-8755-482e-dde2-eebd4bd6bd99"
      },
      "execution_count": null,
      "outputs": [
        {
          "output_type": "stream",
          "name": "stdout",
          "text": [
            "3\n"
          ]
        }
      ]
    },
    {
      "cell_type": "markdown",
      "source": [
        "*Operations on tuples*"
      ],
      "metadata": {
        "id": "Otmneqyn7dIi"
      }
    },
    {
      "cell_type": "markdown",
      "source": [
        "*Mutation*\n",
        "    \n",
        "    msg = ('fall','in','line')\n",
        "    msg[0] = 'FALL'                # Error\n",
        "    msg[1:3] = ('Above','Mark')    # Error\n",
        "\n",
        "    They will show error because they are immutanle either we want to indivilual emplty , complete tuple as it is immutable   \n",
        "\n",
        "\n",
        "    s = ([1,2,3,4],[4,5],'Ox')     \n",
        "    # in this first 2 element are themself are list as we know list\n",
        "      are changable so we can change them 3rd value is string as we know string is immutable so we can't change them\n",
        "\n",
        "    s[1][1] = 45               # Replace 5 with 45\n",
        "      \n",
        "    Another way by accessing the list & then changing\n",
        "      t = s[1]\n",
        "      t[1] = 45\n",
        "\n",
        "    \n",
        "\n",
        "\n"
      ],
      "metadata": {
        "id": "msRJ4m1W1IRH"
      }
    },
    {
      "cell_type": "markdown",
      "source": [
        "*Conversion*\n",
        "    \n",
        "    tpl = tuple('Africa)     # ('A','f','r','i','c','a')\n",
        "\n",
        "*Aliasing*\n",
        "\n",
        "    tpl1 = (10,20,30,40,50)\n",
        "    tpl2 = tpl1              # Shallow copy/Aliasing\n",
        "    print(tpl1[0],tpl2[0])   # 10 10\n",
        "\n",
        "*Cloning*\n",
        "\n",
        "    tpl1 = (10,20,30,40,50)\n",
        "    tpl2 = ()\n",
        "    tpl2 = tpl2 + tpl1       # deep copy/cloning\n",
        "    print(tpl1 , tpl2 )      # (10,20,30,40,50)\n",
        "\n",
        "*Searching*\n",
        "    \n",
        "    tpl = ('a','e','i','o','u')\n",
        "    res = 'a' in tuple       # True\n",
        "    res = 'z' not in tuple   # True\n",
        "\n",
        "*Identity*\n",
        "\n",
        "    tpl1 = (10,20,30,40,50)\n",
        "    tpl2 = (10,20,30,40,50)\n",
        "    tpl3 = tpl1\n",
        "    print(tpl1 is tpl2)      # True --- Unlike List\n",
        "    print(tpl1 is tpl3)      # True\n",
        "\n",
        "    num1 = 10\n",
        "    num2 = 10\n",
        "    print(num1 is num2)      # True but id are differnt\n",
        "\n",
        "    "
      ],
      "metadata": {
        "id": "H9JZ5CiiYvpO"
      }
    },
    {
      "cell_type": "markdown",
      "source": [
        "*Comparison & Emptiness*\n",
        "\n",
        "    a = (1,2,3,4)\n",
        "    b = (1,2,5)\n",
        "    print(a < b)       # True, as 3 < 5\n",
        "\n",
        "\n",
        "    tpl = ()\n",
        "    print(bool(tpl))   # False\n",
        "\n",
        "*Tuple varieties*\n",
        "   \n",
        "    a = (1,3,5,7,9)\n",
        "    b = (2,4,6,8,10)\n",
        "    c = (a,b)          # Tuple to tuples\n",
        "    print(c[0])[0],c[1][2])     # 1,6  \n",
        "\n",
        "    records = (('Priya',24,3455.50),(shyam,25,5623.34),\n",
        "               ('Subba',23,4523.23),('Sug',54,2343.13))\n",
        "    for n,a,s in records:\n",
        "       print(n,a,s)\n",
        "\n",
        "    x = (1,2,3,4)\n",
        "    y = (10,20,x,30)            # Embedded tuple\n",
        "    print(y)                    # (10,20,(1,2,3,4),30) Output\n",
        "   "
      ],
      "metadata": {
        "id": "nHZlN8zJbxYb"
      }
    },
    {
      "cell_type": "markdown",
      "source": [
        "*Unpacking Using* *\n",
        "\n",
        "    x = (1,2,3,4)\n",
        "    y = (10,20,*x,30)\n",
        "    print(y)       # Output (10,20,1,2,3,4,30)"
      ],
      "metadata": {
        "id": "lyKSTpN-h8Mr"
      }
    },
    {
      "cell_type": "markdown",
      "source": [
        "*List of tuple & Vice-Versa*\n",
        "\n",
        "    lst = [('Priya',24,3455.50),(shyam,25,5623.34)]            # List of tuples\n",
        "\n",
        "    tpl = (['Priya',24,3455.50],[shyam,25,5623.34])            # tuples of list\n",
        "\n",
        "    # Sorting and revserd is not possible differnt method\n",
        "\n",
        "    import operator\n",
        "    # each embedded tuple/list contain name age salary\n",
        "\n",
        "    lst = [('Priya',24,3455.50),(shyam,25,5623.34)]            # List of tuples\n",
        "    tpl = (['Priya',24,3455.50],[shyam,25,5623.34])            # tuples of list\n",
        "\n",
        "    print(sorted(lst))      # it is built in function it will be sorted by first name\n",
        "    print(sorted(tpl))\n",
        "\n",
        "    # sorting by using salary\n",
        "    print(sorted(lst, key = operator.itemgetter(2)))\n",
        "    print(sorted(tpl, key = operator.itemgetter(2)))\n",
        "\n",
        "    # itemgetter = Constructs a function that takes a list/tuple as input & fetehes the nth element out of it\n",
        "    # 2 index stands at salary\n",
        "\n"
      ],
      "metadata": {
        "id": "1CHOOqdh7uOR"
      }
    },
    {
      "cell_type": "markdown",
      "source": [
        "# Data Representation Using Sets"
      ],
      "metadata": {
        "id": "hotBHzkB_Ctr"
      }
    },
    {
      "cell_type": "markdown",
      "source": [
        "*What are sets*\n",
        "   \n",
        "    1} Set is an unordered collection\n",
        "         specialty - Elements are unqiue\n",
        "         d = {10,10,10,10}    # only 10 stored  \n",
        "    2} Example:\n",
        "         a = set()                  # Empty set , don't use {}\n",
        "         b = {20}                   # set with one item\n",
        "         c = {'Sanjay',25,2354.35}\n",
        "    3} Common use\n",
        "         Eliminating duplicate entires\n",
        "         menbership testing\n",
        "\n",
        "    4} Sets is collection of all unqiue element where insertion amd accessing order are different"
      ],
      "metadata": {
        "id": "5bm0CrAj_0Wz"
      }
    },
    {
      "cell_type": "markdown",
      "source": [
        "*Storage*\n",
        "    \n",
        "    a} An element is stored based on its hash value\n",
        "    b} Hash value of an element will always be same\n",
        "    c} Hence order of insertion does not matter"
      ],
      "metadata": {
        "id": "W0Rd-AxsdLCd"
      }
    },
    {
      "cell_type": "code",
      "source": [
        "s = {12,23,45,16,52}\n",
        "t = {16,52,12,23,45}\n",
        "u = {52,12,16,23,45}\n",
        "print(s,t,u)"
      ],
      "metadata": {
        "id": "Sdo4nzXp7ycN",
        "colab": {
          "base_uri": "https://localhost:8080/"
        },
        "outputId": "f5ed5700-2a60-4c42-99f5-202b2f32b097"
      },
      "execution_count": null,
      "outputs": [
        {
          "output_type": "stream",
          "name": "stdout",
          "text": [
            "{16, 52, 23, 12, 45} {16, 52, 23, 12, 45} {16, 52, 23, 12, 45}\n"
          ]
        }
      ]
    },
    {
      "cell_type": "markdown",
      "source": [
        "*Set Contents*\n",
        "    \n",
        "     1} Set can contain string, tuple but not list\n",
        "     2} Hash value of strings and tuples doesn't change\n",
        "     3} Hash value of list may change so no set of lists\n",
        "\n",
        "       s1 = {'Morning','Evening'}    # True as it is string it can't be change  \n",
        "       s2 = {(12,23),(3,32),(4,3)}   # Tuple is immutable so it also fine\n",
        "       s3 = {[2,1],[42,12],[23,4]}   # it is list and it is immutable so it will genrate error\n",
        "        \n",
        "     4} A nested tuple is fine , a nested list is fine but a nested set is not allowed\n",
        "     5} we can unpack usinging * same is applicable here  \n",
        "\n",
        "\n"
      ],
      "metadata": {
        "id": "0p2YkXZWhr2T"
      }
    },
    {
      "cell_type": "markdown",
      "source": [
        "*Common operation on sets*\n",
        "\n",
        "    1} Accessing entire set of elements\n",
        "       s = {15,25,35,45,55}\n",
        "       print(s)              # prints{35,45,15,55,25}\n",
        "    2} individual elements and sub sets accessing is not done in sets\n",
        "    3} Looping in sets\n",
        "       s = {12,15,13,23,22,16,17}\n",
        "       for ele in s:\n",
        "         print(ele)          # output will be unorder\n",
        "\n",
        "       s = {12,15,13,23,22,16,17}\n",
        "       for index,n in enumerate(s)\n",
        "        print(index,n)    # same working like list and tuple\n",
        "\n",
        "    4} While loop will not work\n",
        "    5} Sets can be made mutable and immutable by specail efforts\n",
        "        s = {'gate','fate','late'}\n",
        "        s.add('rate')       # it will not will added in the last as it is unorder so it will be added according hash function\n",
        "        \n",
        "        If we want to make set our immutable then we have to use frozenset\n",
        "          s = frozenset( {'gate','fate','late'})\n",
        "          s.add('rate')      # it will genrate error as if lock the set\n",
        "    6} emptiness, comparison , identity , searching , cloning , aliasing , conversion\n",
        "       this all will be working as same like list and tuple\n",
        "    7} concatention , merging\n",
        "       it will not work\n",
        "    8} Example\n",
        "        lst = [10,20,10,30,40,50,30]\n",
        "        s = set(lst)\n",
        "        print(s)               # {40,10,50,20,30}  \n",
        "      \n",
        "      "
      ],
      "metadata": {
        "id": "2whheSvVrOVx"
      }
    },
    {
      "cell_type": "markdown",
      "source": [
        "*Built-in Function & modules for sets*\n",
        "  \n",
        "    len(s)        # return number of items in set s\n",
        "    max(s)        # return maximum element in set s      \n",
        "    min(s)        # return minimum element in set s\n",
        "    sum(s)        # retrun sum of all elements in set s\n",
        "    any(t)        # return True if any element of s is True\n",
        "    all(t)        # return True if all elements of s are True\n",
        "    sorted(s)     # returm sorted list (not sorted set)\n",
        "\n",
        "    \n",
        "    Reversed() wil not work\n",
        "\n",
        "*Set Method*\n",
        "  \n",
        "    s = {12,15,13,23,22,16,17}\n",
        "    t = {'A','B','C'}\n",
        "    u = set()             # Empty set\n",
        "    s.add('Hello')        # adds 'Hello' to s\n",
        "    s.update              # adds elements of t to s\n",
        "    u = s.copy()          # performs deep copy(cloning)\n",
        "    s.remove(15)          # delets 15 from s\n",
        "    s.remove(101)         # Raise error, as 101 is not a member\n",
        "    s.discard(12)         # removes 12 from s\n",
        "    s.discard(12)         # no error,though 101 is not in s\n",
        "    s.clear()             # reomves all elements\n",
        "\n",
        "    \n"
      ],
      "metadata": {
        "id": "c9i7OtzNzkcf"
      }
    },
    {
      "cell_type": "markdown",
      "source": [
        "*Specail operation on sets*\n",
        "\n",
        "    Typical set operation: T\n",
        "       This set operation are only use on the sets not on tuple nor on list this operation are only perform on the list  \n",
        "\n",
        "    Subset,Superset,Disjoint sets  \n",
        "       s = {12,15,13,23,22,16,17}\n",
        "       t = {13,15,22}\n",
        "       print(s.issuperset(t))         # True\n",
        "       print(s.issubset(t))           # False\n",
        "       print(s.isdisjoint(t)          # False , as intersection is null\n",
        "\n",
        "    Another way\n",
        "       s = {1,2,3,4,5}\n",
        "       b = {2,4,5}\n",
        "       print(a >= b)                  # prints True as a is superset of b\n",
        "       print(a<= b)                   # prints False as a is subset of b\n",
        "       \n",
        "    Union\n",
        "       engineers = {'Vijay','Sanjay','Ajay','Sujay','Dinesh'}\n",
        "       managers = {'Aditya','Sanjay'}\n",
        "       # union - All people in both categoris\n",
        "       print(engineers | managers)\n",
        "    Intersection\n",
        "       # Intersection = who are engineers and managers\n",
        "       print(engineers and managers)\n",
        "    Difference  \n",
        "       # difference = engineers who are not managers\n",
        "       print(engineers - managers)\n",
        "       # difference = managers who are not engineers\n",
        "       print(managers - engineers)\n",
        "       # Symmetric difference = managers who are not engineers how are not managers\n",
        "       print(managers ^ engineers)\n",
        "    Update set\n",
        "       a|= b           # update a with the result of a | b\n",
        "       a &= b          # update a with the result of a & b\n",
        "       a -= b          # update a with the result of a - b\n",
        "       a ^= b          # update a with the result of a^b"
      ],
      "metadata": {
        "id": "D1e_AE663_mw"
      }
    },
    {
      "cell_type": "markdown",
      "source": [
        "#Data Representation Using Dictionaries"
      ],
      "metadata": {
        "id": "FoCRz8E5vyFy"
      }
    },
    {
      "cell_type": "markdown",
      "source": [
        "*What are dictionaries*\n",
        "    \n",
        "    1} Collection of key:value pairs\n",
        "       Also know as maps , associative arrays\n",
        "    2} Example:\n",
        "        d1 = {}                         # Empty dictionary\n",
        "        d2 = {'A101':'Amol','A102':'Anil'}\n",
        "    3} []    == Empty List\n",
        "       ()    == Empty Tuple\n",
        "       set() == Empty Set\n",
        "       {}    == Empty Dictionaries\n",
        "\n",
        "*Dictionaries Properties*\n",
        "\n",
        "     d = {10:'A',20:'B',30,'Z'}      # Uniqye Keys\n",
        "     d = {10:'A',20:'A',30,'Z'}      # ok\n",
        "     d = {10:'A',20:'B',10:'Z'}      # Stores {10:'A',10:'Z'} there are 2 same key here so in this last value will be stored\n",
        "\n",
        "\n",
        "     a} Keys must be unique\n",
        "     b} different keys may have same value\n",
        "     c} if k are same, v are differnt, latest k-v stored\n",
        "     d} if k-v pairs are repeated, only 1 pair is stored\n",
        "\n"
      ],
      "metadata": {
        "id": "WMdhK9dB4Yk_"
      }
    },
    {
      "cell_type": "markdown",
      "source": [
        "*Operations on Dictionaries*\n",
        "\n",
        "    1} Accessing dictionary elements\n",
        "        d = {'A101':'Amol','A102':'Anil','B103':'Ravi'}\n",
        "        print(d)                   # Entire dictionary will be printed as it is no change in the order\n",
        "        print(d['A102])            # Individual elements Key-based access it will print value for key 'A102'\n",
        "        # Sub-lists-Slicing not possible in this\n",
        "    2} Looping in dictionaries\n",
        "        coures = {'DAA':'CS','AOA:'ME','SVY':'CE'}\n",
        "        for k,v in coures.items():\n",
        "          print(k,v)                # key-value pairs\n",
        "\n",
        "        for k in coures.keys():\n",
        "          print(k)                  # keys\n",
        "        for k in courses:\n",
        "          print(k)                  # key-shorter another way\n",
        "        for v in courses.values():\n",
        "          print(v)\n",
        "        \n",
        "        for i(k,v) in enumerate(courses.items()):\n",
        "          print(i,k)        # it will print key value pair with index number\n",
        "    3} Basic dictionary operation\n",
        "        Mutable = Add,Modify,Delete Possible = keys are immutable\n",
        "\n",
        "         Courses = {'CS101:'CPP','CS102':'DS','CS201':'OOP',\n",
        "                    'CS226':'DAA','CS601':'Crypt','CS442':'Web'}\n",
        "        Courses['CS444'] = 'Web Services'                # has the key is not there so it will be added in the last of dictionary\n",
        "        Courses['CS201'] = 'OOP using java'                    # Modify value\n",
        "        del(Courses['CS102'])    # it is built in function and it will delete a KV pair  \n",
        "        del(courses)             # it will delete full courses and it will be empty\n",
        "\n",
        "        \n",
        "\n"
      ],
      "metadata": {
        "id": "8EQ6vNRt_lVC"
      }
    },
    {
      "cell_type": "markdown",
      "source": [
        "*Built-in function and modules for dictionaries*"
      ],
      "metadata": {
        "id": "xq3fXBG4acID"
      }
    },
    {
      "cell_type": "markdown",
      "source": [
        "*Common Operation*\n",
        "\n",
        "      Operation          Result\n",
        "    1} Concatention  == Doesn't work    d3 = d2 + 1 -- Will not work\n",
        "    2} Merging       == Works\n",
        "    3} conversion    == Works\n",
        "    4} Aliasing      == Works\n",
        "    5} cloning       == Works\n",
        "    6} Searching     == Works\n",
        "    7} identity      == Works\n",
        "    8} Comparison    == Doesn't work    if d1 < d2: -- will not work\n",
        "    9} Emptiness     == Works\n",
        "\n",
        "    Concatention & Comparsion works in list &n tuple beacuse there element\n",
        "    by element comparsion can happen they were order collections\n",
        "\n",
        "    animals = {'Tiger':141,'Lion':152,'Leopard':110}\n",
        "    birds = {'Edges':38,'Crow':3,'Parrot':2}\n",
        "    combined = {**animals,**birds}  \n",
        "    the '+' addition will not work but here upward we are unpacking them and Combining them  "
      ],
      "metadata": {
        "id": "R3JhJMyC0ZdY"
      }
    },
    {
      "cell_type": "markdown",
      "source": [
        "*built-in function*\n",
        "    \n",
        "    len(d)               # retrun number of key-value pairs     \n",
        "    max(d)               # return maximum key in dictionary d\n",
        "    min(d)               # return minimum key in dictionary d\n",
        "    sum(d)               # return sum of all keys if keys are number\n",
        "    any(d)               # retrun True is any key of dict d is True\n",
        "    all(d)               # retrun True if all keys of dict d are True\n",
        "    sorted(d)            # return sorted list of keys\n",
        "       here we are working with list not the value so basicaly we will get\n",
        "       sorted list not dictionary\n",
        "       with list we get result as a list\n",
        "       with tuple sorted returns a tuple\n",
        "       with set it again returns the list with dictionary it again return the list\n",
        "       means in short sorted function always return a list\n",
        "    reversed(d)           # Can be used for reversing for reversing dict/keys/vals\n",
        "        \n",
        "    courses = {'CS101':'CPP','CS102':'DS','CS201':'OOP'}\n",
        "    for k,v in reversed(courses.items()):\n",
        "      print(k,v)\n",
        "      "
      ],
      "metadata": {
        "id": "zqg33aQ3-kgD"
      }
    },
    {
      "cell_type": "markdown",
      "source": [
        "*Dictionary Methods*\n",
        "    \n",
        "     c ={'CS101':'CPP','CS102':'DS','CS201':OOP}\n",
        "     d = {'ME126':'HPE','ME102':TOM','ME234':'AEM'}\n",
        "     print(c.get('CS102','Absent'))      # DS as it is avabile so it is printed\n",
        "     print(c.get('EE102','Absent'))      # As its not present so it will print absent\n",
        "     print(c['EE102'])                   # if value is present then it will print it otherwise it will raises keyerror\n",
        "     c.update(d)                         # updates c with items in d    \n",
        "     print(c.popitem())                  # it will remove the last key value pairs and it will print\n",
        "     print(c.pop('CS102'))               # It will pop and return and the reaming the key value pair  \n",
        "     c.clear()                           # all key value pair will be deleted\n",
        "\n",
        "\n"
      ],
      "metadata": {
        "id": "LNKzQRmCFeEX"
      }
    },
    {
      "cell_type": "code",
      "source": [
        "# Sorting dictionary by age increasing\n",
        "d = {'rajesh':32,'Veena':23,'Ajay':28}\n",
        "sorted_d = sorted(d.items() , key = operator.itemgetter(1))\n",
        "print(sorted_d)"
      ],
      "metadata": {
        "colab": {
          "base_uri": "https://localhost:8080/"
        },
        "id": "_jNNjUeKCgZ0",
        "outputId": "16a4cbd6-c3c8-478a-b190-b12cfe92cdd4"
      },
      "execution_count": null,
      "outputs": [
        {
          "output_type": "stream",
          "name": "stdout",
          "text": [
            "[('Veena', 23), ('Ajay', 28), ('rajesh', 32)]\n"
          ]
        }
      ]
    },
    {
      "cell_type": "code",
      "source": [
        "# Sorting by name\n",
        "import operator\n",
        "sord_d = sorted(d.items() , key = operator.itemgetter(0))\n",
        "print(sord_d)"
      ],
      "metadata": {
        "colab": {
          "base_uri": "https://localhost:8080/"
        },
        "id": "K8QxT-WbJeV9",
        "outputId": "abb63bd4-d4af-482c-9b67-02b4828e495f"
      },
      "execution_count": null,
      "outputs": [
        {
          "output_type": "stream",
          "name": "stdout",
          "text": [
            "[('Ajay', 28), ('Veena', 23), ('rajesh', 32)]\n"
          ]
        }
      ]
    },
    {
      "cell_type": "code",
      "source": [
        "# Name ub descending order\n",
        "sor = sorted(d.items() , key = operator.itemgetter(1) , reverse = True)\n",
        "print(sor)"
      ],
      "metadata": {
        "colab": {
          "base_uri": "https://localhost:8080/"
        },
        "id": "BlVlaThyMVZk",
        "outputId": "ae4b630a-9273-46d2-e4c8-c8cd6aef006c"
      },
      "execution_count": null,
      "outputs": [
        {
          "output_type": "stream",
          "name": "stdout",
          "text": [
            "[('rajesh', 32), ('Ajay', 28), ('Veena', 23)]\n"
          ]
        }
      ]
    },
    {
      "cell_type": "markdown",
      "source": [
        "*Variations of Dictionaries*\n",
        "    \n",
        "    1} Key can be number , strings or tuple\n",
        "       d = {(1,5):'ME125',(3,2):'ME102',(5,4):'ME234'}             # all tuples must be unqiue     \n",
        "    2} Nested Dictionaries\n",
        "       contacts = {'Anil': {DOB:'17/09/2003},'favorite':'logloo'},\n",
        "                   'Amol': {DOB:12/3/2001','Favorite':'Tundra'}\n",
        "    3} Different key, same values\n",
        "        lst = [12,13,14,15,16]\n",
        "        d = dict.formkeys(lst,25)       # keys - list items , value = 25\n",
        "\n",
        "\n",
        "              "
      ],
      "metadata": {
        "id": "b1D2kGDgNmtQ"
      }
    },
    {
      "cell_type": "markdown",
      "source": [
        "*Comprehensions in python*\n",
        "\n",
        "    What are Comprehensions ?\n",
        "      1} Easy and compact way to create lists,sets and dictionaries\n",
        "      2} Working : iterates over iteams and assigns them to a list, set , dictionary\n",
        "      3} Can't Create a tuple : Being immutable , can't receive assignments\n",
        "      \n",
        "\n"
      ],
      "metadata": {
        "id": "4wlMCHM8QwG_"
      }
    },
    {
      "cell_type": "markdown",
      "source": [
        "*list Comprehensions*\n",
        "        \n",
        "     1} General form\n",
        "         lst = [expression for var in sequence[optional for and/or if]]\n",
        "         Example: Generate 20 random number in the range 10 to 100\n",
        "            a = [random.randint](10,100) for n in range(20)]\n",
        "                # random is module name and randint is method name\n",
        "         Example: Generate Square, cube of all numbers between 0 and 10\n",
        "            a = [(x,x**2,x**3)for x in range(10)]\n"
      ],
      "metadata": {
        "id": "BT-HmVQkoPkh"
      }
    },
    {
      "cell_type": "code",
      "source": [
        "a = [(x,x**2,x**3)for x in range(10)]\n",
        "a"
      ],
      "metadata": {
        "id": "WzVgdxLDNY6J",
        "colab": {
          "base_uri": "https://localhost:8080/"
        },
        "outputId": "f7c42a51-48fa-447a-f365-3e99f4b2c008"
      },
      "execution_count": null,
      "outputs": [
        {
          "output_type": "execute_result",
          "data": {
            "text/plain": [
              "[(0, 0, 0),\n",
              " (1, 1, 1),\n",
              " (2, 4, 8),\n",
              " (3, 9, 27),\n",
              " (4, 16, 64),\n",
              " (5, 25, 125),\n",
              " (6, 36, 216),\n",
              " (7, 49, 343),\n",
              " (8, 64, 512),\n",
              " (9, 81, 729)]"
            ]
          },
          "metadata": {},
          "execution_count": 2
        }
      ]
    },
    {
      "cell_type": "markdown",
      "source": [
        "     Example: convert a list of strings to a list of integers\n",
        "        a = [int(x) for x in ['10','20','30','40']]\n",
        "*If in list comprehension*\n",
        "     \n",
        "     General form\n",
        "       lst = [expression for var in sequence[optional for and/or if]]\n",
        "     Example: Generate a list of even numbers in the range 10 to 30\n",
        "       a = [n for n in range(10,30) if n % 2 ==0]\n",
        "     Example: From a list delete all numbers between 20 & 50\n",
        "       a = [num for num in range(20,50) if num < 20 or num > 50 ]\n",
        "*if-else in list comprehension*\n",
        "     \n",
        "     General form\n",
        "       lst = [expression for var in sequence[optional for and/or if]]\n",
        "     Example: When if else both are used, place them befor for\n",
        "              Replace a vowel in string with !\n",
        "                a = ['!' if ch in 'aeiou' else ch for ch in 'technical']\n",
        "     \n",
        "      \n",
        "      \n"
      ],
      "metadata": {
        "id": "1t2Ws55QqHbm"
      }
    },
    {
      "cell_type": "code",
      "source": [
        "a = ['!' if ch in 'aeiou' else ch for ch in 'technical']\n",
        "a"
      ],
      "metadata": {
        "colab": {
          "base_uri": "https://localhost:8080/"
        },
        "id": "2FZykbTNp9cP",
        "outputId": "b55f8e6c-1f07-4baa-a5c8-6629a0fd1965"
      },
      "execution_count": null,
      "outputs": [
        {
          "output_type": "execute_result",
          "data": {
            "text/plain": [
              "['t', '!', 'c', 'h', 'n', '!', 'c', '!', 'l']"
            ]
          },
          "metadata": {},
          "execution_count": 3
        }
      ]
    },
    {
      "cell_type": "markdown",
      "source": [
        "*Multiple forms and if list comprehension*  \n",
        "   \n",
        "\n",
        "    General form\n",
        "      lst = [expression for var in sequence[optional for and/or if]]\n",
        "    Example: flatten list of lists\n",
        "      arr = [[1,2,3,4],[5,6,7,8],[10,11,12,13]]\n",
        "      b = [n for ele in arr for n in ele]\n",
        "     # * can be used to unpack a list -- Another Way\n",
        "     c = [*arr[0],*arr[1],*arr[2]]\n",
        "\n",
        "\n",
        "  "
      ],
      "metadata": {
        "id": "BgWMEY_Cv7Uf"
      }
    },
    {
      "cell_type": "markdown",
      "source": [
        "*Nested for V/S Nested Comprehension*\n",
        "\n",
        "    # Nested fors\n",
        "      lst = [a + b for a in[1,2,3] for b in [3,4,5]]\n",
        "         output will [4,5,6,5,6,7,6,7,8]\n",
        "         calculation = {1+(3,4,5) ,2+(3,4,5), 3(3,4,5)}\n",
        "\n",
        "      Unique combinations of 1,2 & 3\n",
        "      a = [(i,j,k) for i in [1,2,3] for j in [1,2,3] for k in [1,2,3] if i != j and j != k and k != i ]"
      ],
      "metadata": {
        "id": "3_sSbXLQzHXa"
      }
    },
    {
      "cell_type": "code",
      "source": [
        "a = [(i,j,k) for i in [1,2,3] for j in [1,2,3] for k in [1,2,3] if i != j and j != k and k != i ]"
      ],
      "metadata": {
        "id": "QB3HNP1Kv3NQ"
      },
      "execution_count": null,
      "outputs": []
    },
    {
      "cell_type": "code",
      "source": [
        "a"
      ],
      "metadata": {
        "colab": {
          "base_uri": "https://localhost:8080/"
        },
        "id": "H9DzT_Jl158-",
        "outputId": "011791d9-fe6a-4c63-f851-6c8593b81038"
      },
      "execution_count": null,
      "outputs": [
        {
          "output_type": "execute_result",
          "data": {
            "text/plain": [
              "[(1, 2, 3), (1, 3, 2), (2, 1, 3), (2, 3, 1), (3, 1, 2), (3, 2, 1)]"
            ]
          },
          "metadata": {},
          "execution_count": 5
        }
      ]
    },
    {
      "cell_type": "markdown",
      "source": [
        "     # Nested Comprehension\n",
        "      lst = [[a + b for a in [1,2,3] for b in [3,4,5]]\n",
        "         1st for -- outer loop\n",
        "         2nd for -- inner loop"
      ],
      "metadata": {
        "id": "E1queTY12OlH"
      }
    },
    {
      "cell_type": "code",
      "source": [
        "lst = [a + b for a in [1,2,3] for b in [3,4,5]]\n",
        "lst"
      ],
      "metadata": {
        "colab": {
          "base_uri": "https://localhost:8080/"
        },
        "id": "yvgXScS918A1",
        "outputId": "a3247b9f-76ab-4380-a107-20f94b0a0e89"
      },
      "execution_count": null,
      "outputs": [
        {
          "output_type": "execute_result",
          "data": {
            "text/plain": [
              "[4, 5, 6, 5, 6, 7, 6, 7, 8]"
            ]
          },
          "metadata": {},
          "execution_count": 6
        }
      ]
    },
    {
      "cell_type": "markdown",
      "source": [
        "*Example*"
      ],
      "metadata": {
        "id": "UPihNHM53ovh"
      }
    },
    {
      "cell_type": "code",
      "source": [
        "# Creating new list contenting bigger then 25\n",
        "x = [11,22,33,2,55,66]\n",
        "y = [ele for ele in x if ele > 25]\n",
        "y"
      ],
      "metadata": {
        "id": "bLzq2ym32v_U",
        "colab": {
          "base_uri": "https://localhost:8080/"
        },
        "outputId": "b9dad426-40a2-451b-b9c8-eda77f5378f1"
      },
      "execution_count": null,
      "outputs": [
        {
          "output_type": "execute_result",
          "data": {
            "text/plain": [
              "[33, 55, 66]"
            ]
          },
          "metadata": {},
          "execution_count": 2
        }
      ]
    },
    {
      "cell_type": "code",
      "source": [
        "# Creting new list and multipling each element by 2\n",
        "z = [ele*2 for ele in x ]\n",
        "z"
      ],
      "metadata": {
        "colab": {
          "base_uri": "https://localhost:8080/"
        },
        "id": "FFUL_w3wsCIg",
        "outputId": "d522b4ac-ce26-46ee-d180-a56d0bd516b1"
      },
      "execution_count": null,
      "outputs": [
        {
          "output_type": "execute_result",
          "data": {
            "text/plain": [
              "[22, 44, 66, 4, 110, 132]"
            ]
          },
          "metadata": {},
          "execution_count": 4
        }
      ]
    },
    {
      "cell_type": "code",
      "source": [
        "# Creating new list and multiplying bigger then 25 with 2\n",
        "h = [ele*2 for ele in x if ele > 25 ]\n",
        "h"
      ],
      "metadata": {
        "colab": {
          "base_uri": "https://localhost:8080/"
        },
        "id": "pYpN4rdEsqDy",
        "outputId": "4f4023a6-7f06-4bf6-fda6-c4bfb6812cba"
      },
      "execution_count": null,
      "outputs": [
        {
          "output_type": "execute_result",
          "data": {
            "text/plain": [
              "[66, 110, 132]"
            ]
          },
          "metadata": {},
          "execution_count": 6
        }
      ]
    },
    {
      "cell_type": "code",
      "source": [
        "# Creating new list contenting bigger then 25 ----Another way\n",
        "q = []\n",
        "for ele in x:\n",
        "  if ele > 25:\n",
        "    q.append(ele)\n",
        "q"
      ],
      "metadata": {
        "colab": {
          "base_uri": "https://localhost:8080/"
        },
        "id": "LnTiJhBHyJp8",
        "outputId": "2c33f644-1f22-41ba-87fd-d02f8753caab"
      },
      "execution_count": null,
      "outputs": [
        {
          "output_type": "execute_result",
          "data": {
            "text/plain": [
              "[33, 55, 66]"
            ]
          },
          "metadata": {},
          "execution_count": 7
        }
      ]
    },
    {
      "cell_type": "markdown",
      "source": [
        "*Set Comprehensions*"
      ],
      "metadata": {
        "id": "RoG6obZj2gp-"
      }
    },
    {
      "cell_type": "markdown",
      "source": [
        "    General form\n",
        "      s = {expression for var in sequence[optional for add/or if]}\n",
        "\n",
        "    Example:\n",
        "      # Generate set of square of all number between 0 & 10\n",
        "        s = {x**2 for x in range(10)}\n",
        "      \n",
        "      # From a set delete all number between 20 & 50\n",
        "        s = {num for num in a if num < 20 or num > 50}\n",
        "         "
      ],
      "metadata": {
        "id": "B6tYII3bPl0c"
      }
    },
    {
      "cell_type": "markdown",
      "source": [
        "*Dictionary Comprehensions*\n",
        "\n",
        "    General Form\n",
        "      dict_var = {key:value for(key,value) in dictonary.items()}\n",
        "\n",
        "    Example: Obtain dictionary with each value cubed\n",
        "       d = {'a':1,'b':2,'c':3,'d':4}\n",
        "       d1 = {k:v**3 for (k,v) in d.items()}            # Output = {'a':1,'b':8,'c':27,'d':64}\n",
        "\n",
        "    Example: obtain dictionary with each value cubed if value > 3\n",
        "       d2 = {k:v**3 for (k,v) in d.items() if v>3}\n",
        "          # output: {'d':64}\n",
        "\n",
        "    Example: Identify odd and even entries in the dictionary\n",
        "       d3 = {k:('E' if v % 2 == 0 else 'O') for (k,v) in d.items()}\n",
        "           # Output : {'a':'O','b':'E','c':'O','d':'E'}\n",
        "\n"
      ],
      "metadata": {
        "id": "lq2ViXxcRCoR"
      }
    },
    {
      "cell_type": "code",
      "source": [
        "# prompt: - Create a list of 5 names - ‘Anil’, ‘Amol’, ‘Aditya’, ‘Avi’, ‘Alka’\n",
        "# - Insert the name ‘Anuj’ before ‘Aditya’\n",
        "# - Append the name ‘Zulu’\n",
        "# - Delete ‘Avi’ from the list\n",
        "# - Replace ‘Anil’ with ‘AnilKumar’\n",
        "# - Sort all the names in the list\n",
        "# - Print reversed sorted list\n",
        "\n",
        "# Create a list of 5 names\n",
        "names = ['Anil', 'Amol', 'Aditya', 'Avi', 'Alka']\n",
        "\n",
        "# Insert the name ‘Anuj’ before ‘Aditya’\n",
        "names.insert(3, 'Anuj')\n",
        "\n",
        "# Append the name ‘Zulu’\n",
        "names.append('Zulu')\n",
        "\n",
        "# Delete ‘Avi’ from the list\n",
        "names.remove('Avi')\n",
        "\n",
        "# Replace ‘Anil’ with ‘AnilKumar’\n",
        "names[0] = 'AnilKumar'\n",
        "\n",
        "# Sort all the names in the list\n",
        "names.sort()\n",
        "\n",
        "# Print reversed sorted list\n",
        "names.reverse()\n",
        "print(names)\n"
      ],
      "metadata": {
        "id": "rR9ibaNKKZX9"
      },
      "execution_count": null,
      "outputs": []
    }
  ]
}